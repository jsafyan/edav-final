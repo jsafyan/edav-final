{
 "cells": [
  {
   "cell_type": "code",
   "execution_count": 1,
   "metadata": {
    "collapsed": false
   },
   "outputs": [],
   "source": [
    "import pandas as pd\n",
    "import numpy as np\n",
    "import matplotlib\n",
    "import matplotlib.pyplot as plt\n",
    "%matplotlib inline\n",
    "from sklearn.cross_validation import train_test_split\n",
    "from sklearn import linear_model\n",
    "from sklearn.decomposition import PCA"
   ]
  },
  {
   "cell_type": "code",
   "execution_count": 2,
   "metadata": {
    "collapsed": false
   },
   "outputs": [],
   "source": [
    "plt.style.use(\"ggplot\")"
   ]
  },
  {
   "cell_type": "code",
   "execution_count": null,
   "metadata": {
    "collapsed": false
   },
   "outputs": [],
   "source": [
    "df = pd.read_csv(\"311-2014-2015.csv\")"
   ]
  },
  {
   "cell_type": "code",
   "execution_count": null,
   "metadata": {
    "collapsed": false
   },
   "outputs": [],
   "source": [
    "cols = ['Created Date', 'Closed Date', 'Agency', 'Agency Name',\n",
    "       'Complaint Type', 'Descriptor', 'Location Type', 'Incident Zip',\n",
    "       'Status', 'Latitude', 'Longitude']\n",
    "df = df[cols]"
   ]
  },
  {
   "cell_type": "code",
   "execution_count": null,
   "metadata": {
    "collapsed": false
   },
   "outputs": [],
   "source": [
    "nyc_facilities = pd.read_csv(\"NYCfac.txt\",encoding = 'iso-8859-1')"
   ]
  },
  {
   "cell_type": "code",
   "execution_count": null,
   "metadata": {
    "collapsed": false
   },
   "outputs": [],
   "source": [
    "factype = pd.read_csv(\"Factype.txt\",encoding = 'iso-8859-1')"
   ]
  },
  {
   "cell_type": "code",
   "execution_count": null,
   "metadata": {
    "collapsed": false
   },
   "outputs": [],
   "source": [
    "factype[factype['FT_Map'].str.contains(\"Fire\")]"
   ]
  },
  {
   "cell_type": "code",
   "execution_count": null,
   "metadata": {
    "collapsed": true
   },
   "outputs": [],
   "source": [
    "#Police station = FacType 2001\n",
    "#Fire House = FacType 2101"
   ]
  },
  {
   "cell_type": "code",
   "execution_count": null,
   "metadata": {
    "collapsed": false
   },
   "outputs": [],
   "source": [
    "pdfd = nyc_facilities[nyc_facilities['FacType'].isin([2001, 2101])]"
   ]
  },
  {
   "cell_type": "code",
   "execution_count": null,
   "metadata": {
    "collapsed": false
   },
   "outputs": [],
   "source": [
    "pdfd_cols = ['Borough','ZipCode', 'FacType','PolicePrct','XCoord', 'YCoord']\n",
    "pdfd = pdfd[pdfd_cols]"
   ]
  },
  {
   "cell_type": "code",
   "execution_count": null,
   "metadata": {
    "collapsed": false
   },
   "outputs": [],
   "source": [
    "import pyproj\n",
    "\n",
    "def convert(x, y):\n",
    "    state_plane = pyproj.Proj(init='ESRI:102718', preserve_units=True)\n",
    "    wgs = pyproj.Proj(proj='latlong', datum='WGS84', ellps='WGS84')\n",
    "    lng, lat = pyproj.transform(state_plane, wgs, x, y)\n",
    "    return lat, lng"
   ]
  },
  {
   "cell_type": "code",
   "execution_count": null,
   "metadata": {
    "collapsed": false
   },
   "outputs": [],
   "source": [
    "pdfd.head()"
   ]
  },
  {
   "cell_type": "code",
   "execution_count": null,
   "metadata": {
    "collapsed": true
   },
   "outputs": [],
   "source": [
    "def get_lat(row):\n",
    "    x = row[\"XCoord\"]\n",
    "    y = row[\"YCoord\"]\n",
    "    lat, lon = convert(x, y)\n",
    "    return lat\n",
    "\n",
    "def get_lon(row):\n",
    "    x = row[\"XCoord\"]\n",
    "    y = row[\"YCoord\"]\n",
    "    lat, lon = convert(x, y)\n",
    "    return lon"
   ]
  },
  {
   "cell_type": "code",
   "execution_count": null,
   "metadata": {
    "collapsed": false
   },
   "outputs": [],
   "source": [
    "pdfd[\"Latitude\"] = pdfd.apply(get_lat, axis=1)\n",
    "pdfd[\"Longitude\"] = pdfd.apply(get_lon, axis=1)"
   ]
  },
  {
   "cell_type": "code",
   "execution_count": null,
   "metadata": {
    "collapsed": false
   },
   "outputs": [],
   "source": [
    "#Police station = FacType 2001\n",
    "#Fire House = FacType 2101\n",
    "pdfd['Type'] = pdfd['FacType'].apply(lambda x: \"Police\" if x == 2001 else \"Fire\")"
   ]
  },
  {
   "cell_type": "code",
   "execution_count": null,
   "metadata": {
    "collapsed": false
   },
   "outputs": [],
   "source": [
    "pdfd.head()"
   ]
  },
  {
   "cell_type": "code",
   "execution_count": null,
   "metadata": {
    "collapsed": false
   },
   "outputs": [],
   "source": [
    "pdfd.to_csv(\"nypd-nyfd-stations.csv\", index=False)"
   ]
  },
  {
   "cell_type": "code",
   "execution_count": null,
   "metadata": {
    "collapsed": false
   },
   "outputs": [],
   "source": [
    "df = df[df[\"Agency\"] == \"NYPD\"]"
   ]
  },
  {
   "cell_type": "code",
   "execution_count": null,
   "metadata": {
    "collapsed": false
   },
   "outputs": [],
   "source": [
    "df.head()"
   ]
  },
  {
   "cell_type": "code",
   "execution_count": null,
   "metadata": {
    "collapsed": false
   },
   "outputs": [],
   "source": [
    "df[\"Closed Date\"] = pd.to_datetime(df[\"Closed Date\"], infer_datetime_format=True)"
   ]
  },
  {
   "cell_type": "code",
   "execution_count": null,
   "metadata": {
    "collapsed": false
   },
   "outputs": [],
   "source": [
    "df[\"Response Time Minutes\"] = (df[\"Closed Date\"] - df[\"Created Date\"]) / np.timedelta64(1, 'm')"
   ]
  },
  {
   "cell_type": "code",
   "execution_count": null,
   "metadata": {
    "collapsed": true
   },
   "outputs": [],
   "source": [
    "df2 = df[df['Response Time Minutes'] > 0]"
   ]
  },
  {
   "cell_type": "code",
   "execution_count": null,
   "metadata": {
    "collapsed": false
   },
   "outputs": [],
   "source": [
    "df2['Response Time Minutes'].hist(range=(0, 350), bins=100, figsize=(14, 7))"
   ]
  },
  {
   "cell_type": "code",
   "execution_count": null,
   "metadata": {
    "collapsed": false
   },
   "outputs": [],
   "source": [
    "df2['Response Time Minutes'].median()"
   ]
  },
  {
   "cell_type": "code",
   "execution_count": null,
   "metadata": {
    "collapsed": false
   },
   "outputs": [],
   "source": [
    "nypd = pdfd[pdfd[\"Type\"] == \"Police\"]"
   ]
  },
  {
   "cell_type": "code",
   "execution_count": null,
   "metadata": {
    "collapsed": true
   },
   "outputs": [],
   "source": [
    "from geopy.distance import vincenty"
   ]
  },
  {
   "cell_type": "code",
   "execution_count": null,
   "metadata": {
    "collapsed": false
   },
   "outputs": [],
   "source": [
    "nypd.head()"
   ]
  },
  {
   "cell_type": "code",
   "execution_count": null,
   "metadata": {
    "collapsed": false
   },
   "outputs": [],
   "source": [
    "from scipy import spatial\n",
    "x, y = nypd.Latitude.values, nypd.Longitude.values\n",
    "tree = spatial.KDTree(list(zip(x.ravel(), y.ravel())))\n",
    "tree.data"
   ]
  },
  {
   "cell_type": "code",
   "execution_count": null,
   "metadata": {
    "collapsed": false
   },
   "outputs": [],
   "source": [
    "def closest_station(row):\n",
    "    lat = row[\"Latitude\"]\n",
    "    lon = row[\"Longitude\"]\n",
    "    incident = (lat, lon)\n",
    "    distances = []\n",
    "    for i in range(len(nypd)):\n",
    "        station = (nypd.ix[i].Latitude, nypd.ix[i].Longitude)\n",
    "        distances.append(vincenty(incident, station).kilometers)\n",
    "    #frame = nypd.ix[np.argmin(distances)][[\"Borough\", \"ZipCode\", \"PolicePrct\"]]\n",
    "    #frame[\"Distance Km\"] = min(distances)\n",
    "    #return frame\n",
    "    return np.argmin(distances)"
   ]
  },
  {
   "cell_type": "code",
   "execution_count": null,
   "metadata": {
    "collapsed": true
   },
   "outputs": [],
   "source": [
    "def closest_tree_station(row):\n",
    "    lat = row[\"Latitude\"]\n",
    "    lon = row[\"Longitude\"]\n",
    "    incident = (lat, lon)\n",
    "    index = tree.query(incident)[1]\n",
    "    station = (nypd.ix[index].Latitude, nypd.ix[index].Longitude)\n",
    "    frame = nypd.ix[index][[\"Borough\", \"ZipCode\", \"PolicePrct\"]]\n",
    "    frame[\"Distance Km\"] = vincenty(incident, station).kilometers\n",
    "    return frame"
   ]
  },
  {
   "cell_type": "code",
   "execution_count": null,
   "metadata": {
    "collapsed": true
   },
   "outputs": [],
   "source": [
    "df2 = df2.dropna()"
   ]
  },
  {
   "cell_type": "code",
   "execution_count": null,
   "metadata": {
    "collapsed": false
   },
   "outputs": [],
   "source": [
    "import pygeohash as pgh"
   ]
  },
  {
   "cell_type": "code",
   "execution_count": null,
   "metadata": {
    "collapsed": true
   },
   "outputs": [],
   "source": [
    "def geohash(row):\n",
    "    lat = row['Latitude']\n",
    "    lon = row['Longitude']\n",
    "    ghash = pgh.encode(lat, lon, precision=7)\n",
    "    return ghash"
   ]
  },
  {
   "cell_type": "code",
   "execution_count": null,
   "metadata": {
    "collapsed": false
   },
   "outputs": [],
   "source": [
    "df2['geohash'] = df2.apply(geohash, axis=1)"
   ]
  },
  {
   "cell_type": "code",
   "execution_count": null,
   "metadata": {
    "collapsed": false
   },
   "outputs": [],
   "source": [
    "nypd['geohash'] = nypd.apply(geohash, axis=1)"
   ]
  },
  {
   "cell_type": "code",
   "execution_count": null,
   "metadata": {
    "collapsed": false
   },
   "outputs": [],
   "source": [
    "def approximate_closest(row):\n",
    "    ghash = row[\"geohash\"]\n",
    "    incident = (lat, lon)\n",
    "    distances = []\n",
    "    for i in range(len(nypd)):\n",
    "        station = nypd.ix[i].geohash\n",
    "        distances.append(pgh.geohash_approximate_distance(ghash, station))\n",
    "    frame = nypd.ix[np.argmin(distances)][[\"Borough\", \"ZipCode\", \"PolicePrct\"]]\n",
    "    frame[\"Distance Km\"] = min(distances)\n",
    "    return frame"
   ]
  },
  {
   "cell_type": "code",
   "execution_count": null,
   "metadata": {
    "collapsed": false
   },
   "outputs": [],
   "source": [
    "df2.head(10).apply(closest_tree_station, axis=1)"
   ]
  },
  {
   "cell_type": "code",
   "execution_count": null,
   "metadata": {
    "collapsed": false
   },
   "outputs": [],
   "source": [
    "df2 = pd.concat([df2, df2.apply(closest_tree_station, axis=1)], axis=1)"
   ]
  },
  {
   "cell_type": "code",
   "execution_count": null,
   "metadata": {
    "collapsed": false
   },
   "outputs": [],
   "source": [
    "df2.to_csv(\"df.csv\", index=False)"
   ]
  },
  {
   "cell_type": "code",
   "execution_count": 3,
   "metadata": {
    "collapsed": true
   },
   "outputs": [],
   "source": [
    "df = pd.read_csv(\"df.csv\", parse_dates=True)"
   ]
  },
  {
   "cell_type": "code",
   "execution_count": 4,
   "metadata": {
    "collapsed": true
   },
   "outputs": [],
   "source": [
    "df['Created Date'] = pd.to_datetime(df[\"Created Date\"])"
   ]
  },
  {
   "cell_type": "code",
   "execution_count": 5,
   "metadata": {
    "collapsed": false
   },
   "outputs": [],
   "source": [
    "df[\"Complaint Hour\"] = df[\"Created Date\"].apply(lambda x: x.hour)\n",
    "#The number of the day of the week with Monday=0, Sunday=6\n",
    "df[\"Complaint Day\"] = df[\"Created Date\"].apply(lambda x: x.dayofweek)\n",
    "df[\"Complaint Month\"] = df[\"Created Date\"].apply(lambda x: x.month)"
   ]
  },
  {
   "cell_type": "code",
   "execution_count": 93,
   "metadata": {
    "collapsed": true
   },
   "outputs": [],
   "source": [
    "def time_of_day(row):\n",
    "    hour = row['Complaint Hour']\n",
    "    if 6 < hour < 11:\n",
    "        return \"Morning\"\n",
    "    elif 11 < hour < 6:\n",
    "        return \"Day\"\n",
    "    else:\n",
    "        return \"Night\"\n",
    "    \n",
    "def get_season(row):\n",
    "    x = row[\"Complaint Month\"]\n",
    "    if x in [12, 1, 2]:\n",
    "        return \"Winter\"\n",
    "    elif x in [3, 4, 5]:\n",
    "        return \"Spring\"\n",
    "    elif x in [6, 7, 8]:\n",
    "        return \"Summer\"\n",
    "    else:\n",
    "        return \"Autumn\"\n",
    "    \n",
    "def same_zip(row):\n",
    "    incident_zip = row['Incident Zip']\n",
    "    police_zip = row['ZipCode']\n",
    "    if incident_zip == police_zip:\n",
    "        return 1\n",
    "    else:\n",
    "        return 0\n",
    "    \n",
    "def isweekend(row):\n",
    "    day = row[\"Complaint Day\"]\n",
    "    if day >= 5:\n",
    "        return 1\n",
    "    else:\n",
    "        return 0"
   ]
  },
  {
   "cell_type": "code",
   "execution_count": 96,
   "metadata": {
    "collapsed": false
   },
   "outputs": [
    {
     "ename": "ValueError",
     "evalue": "('The truth value of a Series is ambiguous. Use a.empty, a.bool(), a.item(), a.any() or a.all().', 'occurred at index 0')",
     "output_type": "error",
     "traceback": [
      "\u001b[0;31m---------------------------------------------------------------------------\u001b[0m",
      "\u001b[0;31mValueError\u001b[0m                                Traceback (most recent call last)",
      "\u001b[0;32m<ipython-input-96-2c2764cfecee>\u001b[0m in \u001b[0;36m<module>\u001b[0;34m()\u001b[0m\n\u001b[1;32m      2\u001b[0m \u001b[0mdf\u001b[0m\u001b[0;34m[\u001b[0m\u001b[0;34m'samezip'\u001b[0m\u001b[0;34m]\u001b[0m \u001b[0;34m=\u001b[0m \u001b[0mdf\u001b[0m\u001b[0;34m.\u001b[0m\u001b[0mapply\u001b[0m\u001b[0;34m(\u001b[0m\u001b[0msame_zip\u001b[0m\u001b[0;34m,\u001b[0m \u001b[0maxis\u001b[0m\u001b[0;34m=\u001b[0m\u001b[0;36m1\u001b[0m\u001b[0;34m)\u001b[0m\u001b[0;34m\u001b[0m\u001b[0m\n\u001b[1;32m      3\u001b[0m \u001b[0mdf\u001b[0m\u001b[0;34m[\u001b[0m\u001b[0;34m'timeofday'\u001b[0m\u001b[0;34m]\u001b[0m \u001b[0;34m=\u001b[0m \u001b[0mdf\u001b[0m\u001b[0;34m.\u001b[0m\u001b[0mapply\u001b[0m\u001b[0;34m(\u001b[0m\u001b[0mtime_of_day\u001b[0m\u001b[0;34m,\u001b[0m \u001b[0maxis\u001b[0m\u001b[0;34m=\u001b[0m\u001b[0;36m1\u001b[0m\u001b[0;34m)\u001b[0m\u001b[0;34m\u001b[0m\u001b[0m\n\u001b[0;32m----> 4\u001b[0;31m \u001b[0mdf\u001b[0m\u001b[0;34m[\u001b[0m\u001b[0;34m'season'\u001b[0m\u001b[0;34m]\u001b[0m \u001b[0;34m=\u001b[0m \u001b[0mdf\u001b[0m\u001b[0;34m.\u001b[0m\u001b[0mapply\u001b[0m\u001b[0;34m(\u001b[0m\u001b[0mget_season\u001b[0m\u001b[0;34m,\u001b[0m \u001b[0maxis\u001b[0m\u001b[0;34m=\u001b[0m\u001b[0;36m1\u001b[0m\u001b[0;34m)\u001b[0m\u001b[0;34m\u001b[0m\u001b[0m\n\u001b[0m",
      "\u001b[0;32m/Users/joshua/anaconda/envs/python3/lib/python3.5/site-packages/pandas/core/frame.py\u001b[0m in \u001b[0;36mapply\u001b[0;34m(self, func, axis, broadcast, raw, reduce, args, **kwds)\u001b[0m\n\u001b[1;32m   3970\u001b[0m                     \u001b[0;32mif\u001b[0m \u001b[0mreduce\u001b[0m \u001b[0;32mis\u001b[0m \u001b[0;32mNone\u001b[0m\u001b[0;34m:\u001b[0m\u001b[0;34m\u001b[0m\u001b[0m\n\u001b[1;32m   3971\u001b[0m                         \u001b[0mreduce\u001b[0m \u001b[0;34m=\u001b[0m \u001b[0;32mTrue\u001b[0m\u001b[0;34m\u001b[0m\u001b[0m\n\u001b[0;32m-> 3972\u001b[0;31m                     \u001b[0;32mreturn\u001b[0m \u001b[0mself\u001b[0m\u001b[0;34m.\u001b[0m\u001b[0m_apply_standard\u001b[0m\u001b[0;34m(\u001b[0m\u001b[0mf\u001b[0m\u001b[0;34m,\u001b[0m \u001b[0maxis\u001b[0m\u001b[0;34m,\u001b[0m \u001b[0mreduce\u001b[0m\u001b[0;34m=\u001b[0m\u001b[0mreduce\u001b[0m\u001b[0;34m)\u001b[0m\u001b[0;34m\u001b[0m\u001b[0m\n\u001b[0m\u001b[1;32m   3973\u001b[0m             \u001b[0;32melse\u001b[0m\u001b[0;34m:\u001b[0m\u001b[0;34m\u001b[0m\u001b[0m\n\u001b[1;32m   3974\u001b[0m                 \u001b[0;32mreturn\u001b[0m \u001b[0mself\u001b[0m\u001b[0;34m.\u001b[0m\u001b[0m_apply_broadcast\u001b[0m\u001b[0;34m(\u001b[0m\u001b[0mf\u001b[0m\u001b[0;34m,\u001b[0m \u001b[0maxis\u001b[0m\u001b[0;34m)\u001b[0m\u001b[0;34m\u001b[0m\u001b[0m\n",
      "\u001b[0;32m/Users/joshua/anaconda/envs/python3/lib/python3.5/site-packages/pandas/core/frame.py\u001b[0m in \u001b[0;36m_apply_standard\u001b[0;34m(self, func, axis, ignore_failures, reduce)\u001b[0m\n\u001b[1;32m   4062\u001b[0m             \u001b[0;32mtry\u001b[0m\u001b[0;34m:\u001b[0m\u001b[0;34m\u001b[0m\u001b[0m\n\u001b[1;32m   4063\u001b[0m                 \u001b[0;32mfor\u001b[0m \u001b[0mi\u001b[0m\u001b[0;34m,\u001b[0m \u001b[0mv\u001b[0m \u001b[0;32min\u001b[0m \u001b[0menumerate\u001b[0m\u001b[0;34m(\u001b[0m\u001b[0mseries_gen\u001b[0m\u001b[0;34m)\u001b[0m\u001b[0;34m:\u001b[0m\u001b[0;34m\u001b[0m\u001b[0m\n\u001b[0;32m-> 4064\u001b[0;31m                     \u001b[0mresults\u001b[0m\u001b[0;34m[\u001b[0m\u001b[0mi\u001b[0m\u001b[0;34m]\u001b[0m \u001b[0;34m=\u001b[0m \u001b[0mfunc\u001b[0m\u001b[0;34m(\u001b[0m\u001b[0mv\u001b[0m\u001b[0;34m)\u001b[0m\u001b[0;34m\u001b[0m\u001b[0m\n\u001b[0m\u001b[1;32m   4065\u001b[0m                     \u001b[0mkeys\u001b[0m\u001b[0;34m.\u001b[0m\u001b[0mappend\u001b[0m\u001b[0;34m(\u001b[0m\u001b[0mv\u001b[0m\u001b[0;34m.\u001b[0m\u001b[0mname\u001b[0m\u001b[0;34m)\u001b[0m\u001b[0;34m\u001b[0m\u001b[0m\n\u001b[1;32m   4066\u001b[0m             \u001b[0;32mexcept\u001b[0m \u001b[0mException\u001b[0m \u001b[0;32mas\u001b[0m \u001b[0me\u001b[0m\u001b[0;34m:\u001b[0m\u001b[0;34m\u001b[0m\u001b[0m\n",
      "\u001b[0;32m<ipython-input-93-2744914cf458>\u001b[0m in \u001b[0;36mget_season\u001b[0;34m(x)\u001b[0m\n\u001b[1;32m      9\u001b[0m \u001b[0;34m\u001b[0m\u001b[0m\n\u001b[1;32m     10\u001b[0m \u001b[0;32mdef\u001b[0m \u001b[0mget_season\u001b[0m\u001b[0;34m(\u001b[0m\u001b[0mx\u001b[0m\u001b[0;34m)\u001b[0m\u001b[0;34m:\u001b[0m\u001b[0;34m\u001b[0m\u001b[0m\n\u001b[0;32m---> 11\u001b[0;31m     \u001b[0;32mif\u001b[0m \u001b[0mx\u001b[0m \u001b[0;32min\u001b[0m \u001b[0;34m[\u001b[0m\u001b[0;36m12\u001b[0m\u001b[0;34m,\u001b[0m \u001b[0;36m1\u001b[0m\u001b[0;34m,\u001b[0m \u001b[0;36m2\u001b[0m\u001b[0;34m]\u001b[0m\u001b[0;34m:\u001b[0m\u001b[0;34m\u001b[0m\u001b[0m\n\u001b[0m\u001b[1;32m     12\u001b[0m         \u001b[0;32mreturn\u001b[0m \u001b[0;34m\"Winter\"\u001b[0m\u001b[0;34m\u001b[0m\u001b[0m\n\u001b[1;32m     13\u001b[0m     \u001b[0;32melif\u001b[0m \u001b[0mx\u001b[0m \u001b[0;32min\u001b[0m \u001b[0;34m[\u001b[0m\u001b[0;36m3\u001b[0m\u001b[0;34m,\u001b[0m \u001b[0;36m4\u001b[0m\u001b[0;34m,\u001b[0m \u001b[0;36m5\u001b[0m\u001b[0;34m]\u001b[0m\u001b[0;34m:\u001b[0m\u001b[0;34m\u001b[0m\u001b[0m\n",
      "\u001b[0;32m/Users/joshua/anaconda/envs/python3/lib/python3.5/site-packages/pandas/core/generic.py\u001b[0m in \u001b[0;36m__nonzero__\u001b[0;34m(self)\u001b[0m\n\u001b[1;32m    729\u001b[0m         raise ValueError(\"The truth value of a {0} is ambiguous. \"\n\u001b[1;32m    730\u001b[0m                          \u001b[0;34m\"Use a.empty, a.bool(), a.item(), a.any() or a.all().\"\u001b[0m\u001b[0;34m\u001b[0m\u001b[0m\n\u001b[0;32m--> 731\u001b[0;31m                          .format(self.__class__.__name__))\n\u001b[0m\u001b[1;32m    732\u001b[0m \u001b[0;34m\u001b[0m\u001b[0m\n\u001b[1;32m    733\u001b[0m     \u001b[0m__bool__\u001b[0m \u001b[0;34m=\u001b[0m \u001b[0m__nonzero__\u001b[0m\u001b[0;34m\u001b[0m\u001b[0m\n",
      "\u001b[0;31mValueError\u001b[0m: ('The truth value of a Series is ambiguous. Use a.empty, a.bool(), a.item(), a.any() or a.all().', 'occurred at index 0')"
     ]
    }
   ],
   "source": [
    "df['isweekend'] = df.apply(isweekend, axis=1)\n",
    "df['samezip'] = df.apply(same_zip, axis=1)\n",
    "df['timeofday'] = df.apply(time_of_day, axis=1)"
   ]
  },
  {
   "cell_type": "code",
   "execution_count": 98,
   "metadata": {
    "collapsed": false
   },
   "outputs": [
    {
     "data": {
      "text/html": [
       "<div>\n",
       "<table border=\"1\" class=\"dataframe\">\n",
       "  <thead>\n",
       "    <tr style=\"text-align: right;\">\n",
       "      <th></th>\n",
       "      <th>Created Date</th>\n",
       "      <th>Closed Date</th>\n",
       "      <th>Agency</th>\n",
       "      <th>Agency Name</th>\n",
       "      <th>Complaint Type</th>\n",
       "      <th>Descriptor</th>\n",
       "      <th>Location Type</th>\n",
       "      <th>Incident Zip</th>\n",
       "      <th>Status</th>\n",
       "      <th>Latitude</th>\n",
       "      <th>...</th>\n",
       "      <th>Borough</th>\n",
       "      <th>ZipCode</th>\n",
       "      <th>PolicePrct</th>\n",
       "      <th>Distance Km</th>\n",
       "      <th>Complaint Hour</th>\n",
       "      <th>Complaint Day</th>\n",
       "      <th>Complaint Month</th>\n",
       "      <th>isweekend</th>\n",
       "      <th>samezip</th>\n",
       "      <th>timeofday</th>\n",
       "    </tr>\n",
       "  </thead>\n",
       "  <tbody>\n",
       "    <tr>\n",
       "      <th>0</th>\n",
       "      <td>2016-04-14 02:10:07</td>\n",
       "      <td>2016-04-14 03:17:04</td>\n",
       "      <td>NYPD</td>\n",
       "      <td>New York City Police Department</td>\n",
       "      <td>Noise - Residential</td>\n",
       "      <td>Banging/Pounding</td>\n",
       "      <td>Residential Building/House</td>\n",
       "      <td>11221</td>\n",
       "      <td>Closed</td>\n",
       "      <td>40.695371</td>\n",
       "      <td>...</td>\n",
       "      <td>BK</td>\n",
       "      <td>11221</td>\n",
       "      <td>81</td>\n",
       "      <td>0.737484</td>\n",
       "      <td>2</td>\n",
       "      <td>3</td>\n",
       "      <td>4</td>\n",
       "      <td>0</td>\n",
       "      <td>1</td>\n",
       "      <td>Night</td>\n",
       "    </tr>\n",
       "    <tr>\n",
       "      <th>1</th>\n",
       "      <td>2016-04-14 02:08:10</td>\n",
       "      <td>2016-04-14 03:17:08</td>\n",
       "      <td>NYPD</td>\n",
       "      <td>New York City Police Department</td>\n",
       "      <td>Animal Abuse</td>\n",
       "      <td>Neglected</td>\n",
       "      <td>Residential Building/House</td>\n",
       "      <td>11221</td>\n",
       "      <td>Closed</td>\n",
       "      <td>40.695371</td>\n",
       "      <td>...</td>\n",
       "      <td>BK</td>\n",
       "      <td>11221</td>\n",
       "      <td>81</td>\n",
       "      <td>0.737484</td>\n",
       "      <td>2</td>\n",
       "      <td>3</td>\n",
       "      <td>4</td>\n",
       "      <td>0</td>\n",
       "      <td>1</td>\n",
       "      <td>Night</td>\n",
       "    </tr>\n",
       "    <tr>\n",
       "      <th>2</th>\n",
       "      <td>2016-04-14 01:55:06</td>\n",
       "      <td>2016-04-14 03:14:35</td>\n",
       "      <td>NYPD</td>\n",
       "      <td>New York City Police Department</td>\n",
       "      <td>Noise - Residential</td>\n",
       "      <td>Loud Music/Party</td>\n",
       "      <td>Residential Building/House</td>\n",
       "      <td>11207</td>\n",
       "      <td>Closed</td>\n",
       "      <td>40.689359</td>\n",
       "      <td>...</td>\n",
       "      <td>BK</td>\n",
       "      <td>11237</td>\n",
       "      <td>83</td>\n",
       "      <td>1.090962</td>\n",
       "      <td>1</td>\n",
       "      <td>3</td>\n",
       "      <td>4</td>\n",
       "      <td>0</td>\n",
       "      <td>0</td>\n",
       "      <td>Night</td>\n",
       "    </tr>\n",
       "    <tr>\n",
       "      <th>3</th>\n",
       "      <td>2016-04-14 01:54:57</td>\n",
       "      <td>2016-04-14 02:09:44</td>\n",
       "      <td>NYPD</td>\n",
       "      <td>New York City Police Department</td>\n",
       "      <td>Noise - Commercial</td>\n",
       "      <td>Loud Music/Party</td>\n",
       "      <td>Club/Bar/Restaurant</td>\n",
       "      <td>10013</td>\n",
       "      <td>Closed</td>\n",
       "      <td>40.716399</td>\n",
       "      <td>...</td>\n",
       "      <td>MN</td>\n",
       "      <td>10013</td>\n",
       "      <td>1</td>\n",
       "      <td>0.479000</td>\n",
       "      <td>1</td>\n",
       "      <td>3</td>\n",
       "      <td>4</td>\n",
       "      <td>0</td>\n",
       "      <td>1</td>\n",
       "      <td>Night</td>\n",
       "    </tr>\n",
       "    <tr>\n",
       "      <th>4</th>\n",
       "      <td>2016-04-14 01:47:52</td>\n",
       "      <td>2016-04-14 02:24:25</td>\n",
       "      <td>NYPD</td>\n",
       "      <td>New York City Police Department</td>\n",
       "      <td>Noise - Vehicle</td>\n",
       "      <td>Car/Truck Music</td>\n",
       "      <td>Street/Sidewalk</td>\n",
       "      <td>10009</td>\n",
       "      <td>Closed</td>\n",
       "      <td>40.725173</td>\n",
       "      <td>...</td>\n",
       "      <td>MN</td>\n",
       "      <td>10003</td>\n",
       "      <td>9</td>\n",
       "      <td>0.342959</td>\n",
       "      <td>1</td>\n",
       "      <td>3</td>\n",
       "      <td>4</td>\n",
       "      <td>0</td>\n",
       "      <td>0</td>\n",
       "      <td>Night</td>\n",
       "    </tr>\n",
       "  </tbody>\n",
       "</table>\n",
       "<p>5 rows × 22 columns</p>\n",
       "</div>"
      ],
      "text/plain": [
       "         Created Date          Closed Date Agency  \\\n",
       "0 2016-04-14 02:10:07  2016-04-14 03:17:04   NYPD   \n",
       "1 2016-04-14 02:08:10  2016-04-14 03:17:08   NYPD   \n",
       "2 2016-04-14 01:55:06  2016-04-14 03:14:35   NYPD   \n",
       "3 2016-04-14 01:54:57  2016-04-14 02:09:44   NYPD   \n",
       "4 2016-04-14 01:47:52  2016-04-14 02:24:25   NYPD   \n",
       "\n",
       "                       Agency Name       Complaint Type        Descriptor  \\\n",
       "0  New York City Police Department  Noise - Residential  Banging/Pounding   \n",
       "1  New York City Police Department         Animal Abuse         Neglected   \n",
       "2  New York City Police Department  Noise - Residential  Loud Music/Party   \n",
       "3  New York City Police Department   Noise - Commercial  Loud Music/Party   \n",
       "4  New York City Police Department      Noise - Vehicle   Car/Truck Music   \n",
       "\n",
       "                Location Type  Incident Zip  Status   Latitude    ...      \\\n",
       "0  Residential Building/House         11221  Closed  40.695371    ...       \n",
       "1  Residential Building/House         11221  Closed  40.695371    ...       \n",
       "2  Residential Building/House         11207  Closed  40.689359    ...       \n",
       "3         Club/Bar/Restaurant         10013  Closed  40.716399    ...       \n",
       "4             Street/Sidewalk         10009  Closed  40.725173    ...       \n",
       "\n",
       "   Borough  ZipCode PolicePrct  Distance Km  Complaint Hour  Complaint Day  \\\n",
       "0       BK    11221         81     0.737484               2              3   \n",
       "1       BK    11221         81     0.737484               2              3   \n",
       "2       BK    11237         83     1.090962               1              3   \n",
       "3       MN    10013          1     0.479000               1              3   \n",
       "4       MN    10003          9     0.342959               1              3   \n",
       "\n",
       "   Complaint Month  isweekend  samezip  timeofday  \n",
       "0                4          0        1      Night  \n",
       "1                4          0        1      Night  \n",
       "2                4          0        0      Night  \n",
       "3                4          0        1      Night  \n",
       "4                4          0        0      Night  \n",
       "\n",
       "[5 rows x 22 columns]"
      ]
     },
     "execution_count": 98,
     "metadata": {},
     "output_type": "execute_result"
    }
   ],
   "source": [
    "df.head()"
   ]
  },
  {
   "cell_type": "code",
   "execution_count": 150,
   "metadata": {
    "collapsed": true
   },
   "outputs": [],
   "source": [
    "cols = ['Complaint Type', 'Location Type', 'Incident Zip', 'Borough',\n",
    "        'PolicePrct', 'Distance Km', 'isweekend', 'samezip', 'timeofday','Complaint Month']\n",
    "X = df[cols]\n",
    "#features = pd.concat([X, pd.get_dummies(X[\"PolicePrct\"])], axis=1)\n",
    "features = pd.concat([X, pd.get_dummies(X[\"Location Type\"])], axis=1)\n",
    "features = pd.concat([X, pd.get_dummies(X[\"Complaint Type\"])], axis=1)\n",
    "features = pd.concat([features, pd.get_dummies(features['Incident Zip'])], axis=1)\n",
    "#features = pd.concat([features, pd.get_dummies(features['Borough'])], axis=1)\n",
    "features = pd.concat([features, pd.get_dummies(features['Complaint Month'])], axis=1)\n",
    "del features[\"Incident Zip\"]\n",
    "#del features['PolicePrct']\n",
    "del features['Complaint Month']\n",
    "#del features['Borough']\n",
    "del features['Location Type']\n",
    "del features['Complaint Type']"
   ]
  },
  {
   "cell_type": "code",
   "execution_count": 151,
   "metadata": {
    "collapsed": false
   },
   "outputs": [],
   "source": [
    "features = pd.concat([features, pd.get_dummies(features['timeofday'])], axis=1)\n",
    "del features['timeofday']"
   ]
  },
  {
   "cell_type": "code",
   "execution_count": 152,
   "metadata": {
    "collapsed": false
   },
   "outputs": [],
   "source": [
    "df2 = features"
   ]
  },
  {
   "cell_type": "code",
   "execution_count": 153,
   "metadata": {
    "collapsed": true
   },
   "outputs": [],
   "source": [
    "df2[\"responsetime\"] = y"
   ]
  },
  {
   "cell_type": "code",
   "execution_count": 154,
   "metadata": {
    "collapsed": false
   },
   "outputs": [],
   "source": [
    "df2.to_csv(\"nypd_df.csv\", index=False)"
   ]
  },
  {
   "cell_type": "code",
   "execution_count": 6,
   "metadata": {
    "collapsed": false
   },
   "outputs": [],
   "source": [
    "cols = ['Complaint Type', 'Descriptor', 'Location Type', 'Incident Zip','Response Time Minutes', 'Borough',\n",
    "       'ZipCode', 'PolicePrct', 'Distance Km', 'Complaint Hour',\n",
    "       'Complaint Day', 'Complaint Month']\n",
    "X = pd.get_dummies(df[cols])"
   ]
  },
  {
   "cell_type": "code",
   "execution_count": 109,
   "metadata": {
    "collapsed": false
   },
   "outputs": [],
   "source": [
    "y = df[\"Response Time Minutes\"].round()"
   ]
  },
  {
   "cell_type": "code",
   "execution_count": 110,
   "metadata": {
    "collapsed": false
   },
   "outputs": [
    {
     "data": {
      "text/plain": [
       "<matplotlib.axes._subplots.AxesSubplot at 0x115617cf8>"
      ]
     },
     "execution_count": 110,
     "metadata": {},
     "output_type": "execute_result"
    },
    {
     "data": {
      "image/png": "[encoded data removed]",
      "text/plain": [
       "<matplotlib.figure.Figure at 0x1177ee898>"
      ]
     },
     "metadata": {},
     "output_type": "display_data"
    }
   ],
   "source": [
    "y.hist(range=(0, 600), bins=100)"
   ]
  },
  {
   "cell_type": "code",
   "execution_count": 32,
   "metadata": {
    "collapsed": false
   },
   "outputs": [],
   "source": [
    "features = pd.concat([X, pd.get_dummies(X[\"PolicePrct\"])], axis=1)\n",
    "features = pd.concat([features, pd.get_dummies(features['ZipCode'])], axis=1)\n",
    "features = pd.concat([features, pd.get_dummies(features['Incident Zip'])], axis=1)\n",
    "features = pd.concat([features, pd.get_dummies(features['Complaint Day'])], axis=1)\n",
    "features = pd.concat([features, pd.get_dummies(features['Complaint Month'])], axis=1)\n",
    "features = pd.concat([features, pd.get_dummies(features['Complaint Hour'])], axis=1)"
   ]
  },
  {
   "cell_type": "code",
   "execution_count": 33,
   "metadata": {
    "collapsed": true
   },
   "outputs": [],
   "source": [
    "del features['PolicePrct']\n",
    "del features['ZipCode']"
   ]
  },
  {
   "cell_type": "code",
   "execution_count": 34,
   "metadata": {
    "collapsed": false
   },
   "outputs": [],
   "source": [
    "y = features[\"Response Time Minutes\"].round()\n",
    "del features[\"Response Time Minutes\"]\n",
    "del features[\"Incident Zip\"]\n",
    "del features['Complaint Day']\n",
    "del features['Complaint Month']\n",
    "del features['Complaint Hour']"
   ]
  },
  {
   "cell_type": "code",
   "execution_count": 44,
   "metadata": {
    "collapsed": false
   },
   "outputs": [],
   "source": [
    "y_med = y.median()\n",
    "y_med_binary = y.apply(lambda x: 0 if x < y_med else 1)"
   ]
  },
  {
   "cell_type": "code",
   "execution_count": 142,
   "metadata": {
    "collapsed": false
   },
   "outputs": [],
   "source": [
    "from sklearn.cross_validation import train_test_split\n",
    "X_train, X_test, y_train, y_test = train_test_split(features, y_med_binary, test_size=0.2, random_state=42)"
   ]
  },
  {
   "cell_type": "code",
   "execution_count": 149,
   "metadata": {
    "collapsed": false
   },
   "outputs": [
    {
     "data": {
      "text/plain": [
       "0.55292124736816839"
      ]
     },
     "execution_count": 149,
     "metadata": {},
     "output_type": "execute_result"
    }
   ],
   "source": [
    "from sklearn.linear_model import SGDClassifier\n",
    "clf = SGDClassifier(loss=\"hinge\", penalty=\"l2\")\n",
    "clf.fit(X_train[X_train.columns.values[feature_importances.argsort()[::-1][:4]]], y_train)\n",
    "clf.score(X_test[X_test.columns.values[feature_importances.argsort()[::-1][:4]]], y_test)"
   ]
  },
  {
   "cell_type": "code",
   "execution_count": 133,
   "metadata": {
    "collapsed": false
   },
   "outputs": [
    {
     "data": {
      "text/plain": [
       "0.58334419213913902"
      ]
     },
     "execution_count": 133,
     "metadata": {},
     "output_type": "execute_result"
    }
   ],
   "source": [
    "from sklearn.ensemble import RandomForestClassifier\n",
    "clf = RandomForestClassifier(n_estimators=10, n_jobs=-1)\n",
    "clf.fit(X_train, y_train)\n",
    "clf.score(X_test, y_test)"
   ]
  },
  {
   "cell_type": "code",
   "execution_count": 134,
   "metadata": {
    "collapsed": true
   },
   "outputs": [],
   "source": [
    "feature_importances = clf.feature_importances_"
   ]
  },
  {
   "cell_type": "code",
   "execution_count": 135,
   "metadata": {
    "collapsed": false
   },
   "outputs": [
    {
     "data": {
      "text/plain": [
       "array([  0,   1,   2, 228, 235, 236, 238, 237, 239, 233])"
      ]
     },
     "execution_count": 135,
     "metadata": {},
     "output_type": "execute_result"
    }
   ],
   "source": [
    "feature_importances.argsort()[::-1][:10]"
   ]
  },
  {
   "cell_type": "code",
   "execution_count": 125,
   "metadata": {
    "collapsed": false
   },
   "outputs": [
    {
     "data": {
      "text/plain": [
       "array(['Distance Km', 'isweekend', 'samezip', 'Animal Abuse',\n",
       "       'Blocked Driveway', 'Derelict Vehicle', 'Disorderly Youth',\n",
       "       'Drinking', 'Graffiti', 'Illegal Parking', 'Noise - Commercial',\n",
       "       'Noise - House of Worship', 'Noise - Park', 'Noise - Residential',\n",
       "       'Noise - Street/Sidewalk', 'Noise - Vehicle',\n",
       "       'Non-Emergency Police Matter', 'Posting Advertisement', 'Traffic',\n",
       "       'Vending', 83.0, 10000.0, 10001.0, 10002.0, 10003.0, 10004.0,\n",
       "       10005.0, 10006.0, 10007.0, 10009.0, 10010.0, 10011.0, 10012.0,\n",
       "       10013.0, 10014.0, 10016.0, 10017.0, 10018.0, 10019.0, 10020.0,\n",
       "       10021.0, 10022.0, 10023.0, 10024.0, 10025.0, 10026.0, 10027.0,\n",
       "       10028.0, 10029.0, 10030.0, 10031.0, 10032.0, 10033.0, 10034.0,\n",
       "       10035.0, 10036.0, 10037.0, 10038.0, 10039.0, 10040.0, 10041.0,\n",
       "       10044.0, 10048.0, 10065.0, 10069.0, 10075.0, 10103.0, 10107.0,\n",
       "       10111.0, 10112.0, 10119.0, 10123.0, 10128.0, 10129.0, 10153.0,\n",
       "       10154.0, 10162.0, 10280.0, 10281.0, 10282.0, 10301.0, 10302.0,\n",
       "       10303.0, 10304.0, 10305.0, 10306.0, 10307.0, 10308.0, 10309.0,\n",
       "       10310.0, 10312.0, 10314.0, 10451.0, 10452.0, 10453.0, 10454.0,\n",
       "       10455.0, 10456.0, 10457.0, 10458.0, 10459.0, 10460.0, 10461.0,\n",
       "       10462.0, 10463.0, 10464.0, 10465.0, 10466.0, 10467.0, 10468.0,\n",
       "       10469.0, 10470.0, 10471.0, 10472.0, 10473.0, 10474.0, 10475.0,\n",
       "       10803.0, 11001.0, 11004.0, 11005.0, 11040.0, 11101.0, 11102.0,\n",
       "       11103.0, 11104.0, 11105.0, 11106.0, 11109.0, 11201.0, 11203.0,\n",
       "       11204.0, 11205.0, 11206.0, 11207.0, 11208.0, 11209.0, 11210.0,\n",
       "       11211.0, 11212.0, 11213.0, 11214.0, 11215.0, 11216.0, 11217.0,\n",
       "       11218.0, 11219.0, 11220.0, 11221.0, 11222.0, 11223.0, 11224.0,\n",
       "       11225.0, 11226.0, 11228.0, 11229.0, 11230.0, 11231.0, 11232.0,\n",
       "       11233.0, 11234.0, 11235.0, 11236.0, 11237.0, 11238.0, 11239.0,\n",
       "       11241.0, 11242.0, 11249.0, 11251.0, 11354.0, 11355.0, 11356.0,\n",
       "       11357.0, 11358.0, 11359.0, 11360.0, 11361.0, 11362.0, 11363.0,\n",
       "       11364.0, 11365.0, 11366.0, 11367.0, 11368.0, 11369.0, 11370.0,\n",
       "       11371.0, 11372.0, 11373.0, 11374.0, 11375.0, 11377.0, 11378.0,\n",
       "       11379.0, 11385.0, 11411.0, 11412.0, 11413.0, 11414.0, 11415.0,\n",
       "       11416.0, 11417.0, 11418.0, 11419.0, 11420.0, 11421.0, 11422.0,\n",
       "       11423.0, 11426.0, 11427.0, 11428.0, 11429.0, 11430.0, 11432.0,\n",
       "       11433.0, 11434.0, 11435.0, 11436.0, 11451.0, 11691.0, 11692.0,\n",
       "       11693.0, 11694.0, 11695.0, 11697.0, 'BK', 'BX', 'MN', 'QN', 'SI', 1,\n",
       "       2, 3, 4, 5, 6, 7, 8, 9, 10, 11, 12, 'Morning', 'Night'], dtype=object)"
      ]
     },
     "execution_count": 125,
     "metadata": {},
     "output_type": "execute_result"
    }
   ],
   "source": [
    "X_train.columns.values"
   ]
  },
  {
   "cell_type": "code",
   "execution_count": 136,
   "metadata": {
    "collapsed": false
   },
   "outputs": [
    {
     "data": {
      "text/html": [
       "<div>\n",
       "<table border=\"1\" class=\"dataframe\">\n",
       "  <thead>\n",
       "    <tr style=\"text-align: right;\">\n",
       "      <th></th>\n",
       "      <th>Distance Km</th>\n",
       "      <th>isweekend</th>\n",
       "      <th>samezip</th>\n",
       "      <th>MN</th>\n",
       "    </tr>\n",
       "  </thead>\n",
       "  <tbody>\n",
       "    <tr>\n",
       "      <th>34684</th>\n",
       "      <td>1.771819</td>\n",
       "      <td>1</td>\n",
       "      <td>0</td>\n",
       "      <td>0</td>\n",
       "    </tr>\n",
       "    <tr>\n",
       "      <th>95321</th>\n",
       "      <td>1.854870</td>\n",
       "      <td>0</td>\n",
       "      <td>1</td>\n",
       "      <td>0</td>\n",
       "    </tr>\n",
       "    <tr>\n",
       "      <th>570245</th>\n",
       "      <td>0.747726</td>\n",
       "      <td>0</td>\n",
       "      <td>0</td>\n",
       "      <td>0</td>\n",
       "    </tr>\n",
       "    <tr>\n",
       "      <th>159522</th>\n",
       "      <td>0.514423</td>\n",
       "      <td>1</td>\n",
       "      <td>1</td>\n",
       "      <td>0</td>\n",
       "    </tr>\n",
       "    <tr>\n",
       "      <th>704689</th>\n",
       "      <td>0.275676</td>\n",
       "      <td>1</td>\n",
       "      <td>1</td>\n",
       "      <td>0</td>\n",
       "    </tr>\n",
       "  </tbody>\n",
       "</table>\n",
       "</div>"
      ],
      "text/plain": [
       "        Distance Km  isweekend  samezip  MN\n",
       "34684      1.771819          1        0   0\n",
       "95321      1.854870          0        1   0\n",
       "570245     0.747726          0        0   0\n",
       "159522     0.514423          1        1   0\n",
       "704689     0.275676          1        1   0"
      ]
     },
     "execution_count": 136,
     "metadata": {},
     "output_type": "execute_result"
    }
   ],
   "source": [
    "X_train[X_train.columns.values[feature_importances.argsort()[::-1][:4]]].head()"
   ]
  },
  {
   "cell_type": "code",
   "execution_count": 129,
   "metadata": {
    "collapsed": false
   },
   "outputs": [
    {
     "data": {
      "text/plain": [
       "array(['Distance Km', 'isweekend', 'MN', 'samezip'], dtype=object)"
      ]
     },
     "execution_count": 129,
     "metadata": {},
     "output_type": "execute_result"
    }
   ],
   "source": [
    "X_train.columns.values[clf.feature_importances_.argsort()[::-1][:4]]"
   ]
  },
  {
   "cell_type": "code",
   "execution_count": 51,
   "metadata": {
    "collapsed": false
   },
   "outputs": [
    {
     "ename": "TypeError",
     "evalue": "unhashable type: 'slice'",
     "output_type": "error",
     "traceback": [
      "\u001b[0;31m---------------------------------------------------------------------------\u001b[0m",
      "\u001b[0;31mTypeError\u001b[0m                                 Traceback (most recent call last)",
      "\u001b[0;32m<ipython-input-51-741460edcf61>\u001b[0m in \u001b[0;36m<module>\u001b[0;34m()\u001b[0m\n\u001b[1;32m      2\u001b[0m      \u001b[0;32mreturn\u001b[0m \u001b[0mX\u001b[0m\u001b[0;34m[\u001b[0m\u001b[0;34m:\u001b[0m\u001b[0;34m,\u001b[0m\u001b[0mmodel\u001b[0m\u001b[0;34m.\u001b[0m\u001b[0mfeature_importances_\u001b[0m\u001b[0;34m.\u001b[0m\u001b[0margsort\u001b[0m\u001b[0;34m(\u001b[0m\u001b[0;34m)\u001b[0m\u001b[0;34m[\u001b[0m\u001b[0;34m:\u001b[0m\u001b[0;34m:\u001b[0m\u001b[0;34m-\u001b[0m\u001b[0;36m1\u001b[0m\u001b[0;34m]\u001b[0m\u001b[0;34m[\u001b[0m\u001b[0;34m:\u001b[0m\u001b[0mk\u001b[0m\u001b[0;34m]\u001b[0m\u001b[0;34m]\u001b[0m\u001b[0;34m\u001b[0m\u001b[0m\n\u001b[1;32m      3\u001b[0m \u001b[0;34m\u001b[0m\u001b[0m\n\u001b[0;32m----> 4\u001b[0;31m \u001b[0mX_train2\u001b[0m \u001b[0;34m=\u001b[0m \u001b[0mselectKImportance\u001b[0m\u001b[0;34m(\u001b[0m\u001b[0mclf\u001b[0m\u001b[0;34m,\u001b[0m\u001b[0mX_train\u001b[0m\u001b[0;34m,\u001b[0m\u001b[0;36m10\u001b[0m\u001b[0;34m)\u001b[0m\u001b[0;34m\u001b[0m\u001b[0m\n\u001b[0m",
      "\u001b[0;32m<ipython-input-51-741460edcf61>\u001b[0m in \u001b[0;36mselectKImportance\u001b[0;34m(model, X, k)\u001b[0m\n\u001b[1;32m      1\u001b[0m \u001b[0;32mdef\u001b[0m \u001b[0mselectKImportance\u001b[0m\u001b[0;34m(\u001b[0m\u001b[0mmodel\u001b[0m\u001b[0;34m,\u001b[0m \u001b[0mX\u001b[0m\u001b[0;34m,\u001b[0m \u001b[0mk\u001b[0m\u001b[0;34m=\u001b[0m\u001b[0;36m5\u001b[0m\u001b[0;34m)\u001b[0m\u001b[0;34m:\u001b[0m\u001b[0;34m\u001b[0m\u001b[0m\n\u001b[0;32m----> 2\u001b[0;31m      \u001b[0;32mreturn\u001b[0m \u001b[0mX\u001b[0m\u001b[0;34m[\u001b[0m\u001b[0;34m:\u001b[0m\u001b[0;34m,\u001b[0m\u001b[0mmodel\u001b[0m\u001b[0;34m.\u001b[0m\u001b[0mfeature_importances_\u001b[0m\u001b[0;34m.\u001b[0m\u001b[0margsort\u001b[0m\u001b[0;34m(\u001b[0m\u001b[0;34m)\u001b[0m\u001b[0;34m[\u001b[0m\u001b[0;34m:\u001b[0m\u001b[0;34m:\u001b[0m\u001b[0;34m-\u001b[0m\u001b[0;36m1\u001b[0m\u001b[0;34m]\u001b[0m\u001b[0;34m[\u001b[0m\u001b[0;34m:\u001b[0m\u001b[0mk\u001b[0m\u001b[0;34m]\u001b[0m\u001b[0;34m]\u001b[0m\u001b[0;34m\u001b[0m\u001b[0m\n\u001b[0m\u001b[1;32m      3\u001b[0m \u001b[0;34m\u001b[0m\u001b[0m\n\u001b[1;32m      4\u001b[0m \u001b[0mX_train2\u001b[0m \u001b[0;34m=\u001b[0m \u001b[0mselectKImportance\u001b[0m\u001b[0;34m(\u001b[0m\u001b[0mclf\u001b[0m\u001b[0;34m,\u001b[0m\u001b[0mX_train\u001b[0m\u001b[0;34m,\u001b[0m\u001b[0;36m10\u001b[0m\u001b[0;34m)\u001b[0m\u001b[0;34m\u001b[0m\u001b[0m\n",
      "\u001b[0;32m/Users/joshua/anaconda/envs/python3/lib/python3.5/site-packages/pandas/core/frame.py\u001b[0m in \u001b[0;36m__getitem__\u001b[0;34m(self, key)\u001b[0m\n\u001b[1;32m   1967\u001b[0m             \u001b[0;32mreturn\u001b[0m \u001b[0mself\u001b[0m\u001b[0;34m.\u001b[0m\u001b[0m_getitem_multilevel\u001b[0m\u001b[0;34m(\u001b[0m\u001b[0mkey\u001b[0m\u001b[0;34m)\u001b[0m\u001b[0;34m\u001b[0m\u001b[0m\n\u001b[1;32m   1968\u001b[0m         \u001b[0;32melse\u001b[0m\u001b[0;34m:\u001b[0m\u001b[0;34m\u001b[0m\u001b[0m\n\u001b[0;32m-> 1969\u001b[0;31m             \u001b[0;32mreturn\u001b[0m \u001b[0mself\u001b[0m\u001b[0;34m.\u001b[0m\u001b[0m_getitem_column\u001b[0m\u001b[0;34m(\u001b[0m\u001b[0mkey\u001b[0m\u001b[0;34m)\u001b[0m\u001b[0;34m\u001b[0m\u001b[0m\n\u001b[0m\u001b[1;32m   1970\u001b[0m \u001b[0;34m\u001b[0m\u001b[0m\n\u001b[1;32m   1971\u001b[0m     \u001b[0;32mdef\u001b[0m \u001b[0m_getitem_column\u001b[0m\u001b[0;34m(\u001b[0m\u001b[0mself\u001b[0m\u001b[0;34m,\u001b[0m \u001b[0mkey\u001b[0m\u001b[0;34m)\u001b[0m\u001b[0;34m:\u001b[0m\u001b[0;34m\u001b[0m\u001b[0m\n",
      "\u001b[0;32m/Users/joshua/anaconda/envs/python3/lib/python3.5/site-packages/pandas/core/frame.py\u001b[0m in \u001b[0;36m_getitem_column\u001b[0;34m(self, key)\u001b[0m\n\u001b[1;32m   1977\u001b[0m \u001b[0;34m\u001b[0m\u001b[0m\n\u001b[1;32m   1978\u001b[0m         \u001b[0;31m# duplicate columns & possible reduce dimensionality\u001b[0m\u001b[0;34m\u001b[0m\u001b[0;34m\u001b[0m\u001b[0m\n\u001b[0;32m-> 1979\u001b[0;31m         \u001b[0mresult\u001b[0m \u001b[0;34m=\u001b[0m \u001b[0mself\u001b[0m\u001b[0;34m.\u001b[0m\u001b[0m_constructor\u001b[0m\u001b[0;34m(\u001b[0m\u001b[0mself\u001b[0m\u001b[0;34m.\u001b[0m\u001b[0m_data\u001b[0m\u001b[0;34m.\u001b[0m\u001b[0mget\u001b[0m\u001b[0;34m(\u001b[0m\u001b[0mkey\u001b[0m\u001b[0;34m)\u001b[0m\u001b[0;34m)\u001b[0m\u001b[0;34m\u001b[0m\u001b[0m\n\u001b[0m\u001b[1;32m   1980\u001b[0m         \u001b[0;32mif\u001b[0m \u001b[0mresult\u001b[0m\u001b[0;34m.\u001b[0m\u001b[0mcolumns\u001b[0m\u001b[0;34m.\u001b[0m\u001b[0mis_unique\u001b[0m\u001b[0;34m:\u001b[0m\u001b[0;34m\u001b[0m\u001b[0m\n\u001b[1;32m   1981\u001b[0m             \u001b[0mresult\u001b[0m \u001b[0;34m=\u001b[0m \u001b[0mresult\u001b[0m\u001b[0;34m[\u001b[0m\u001b[0mkey\u001b[0m\u001b[0;34m]\u001b[0m\u001b[0;34m\u001b[0m\u001b[0m\n",
      "\u001b[0;32m/Users/joshua/anaconda/envs/python3/lib/python3.5/site-packages/pandas/core/internals.py\u001b[0m in \u001b[0;36mget\u001b[0;34m(self, item, fastpath)\u001b[0m\n\u001b[1;32m   3226\u001b[0m                 \u001b[0;32mraise\u001b[0m \u001b[0mTypeError\u001b[0m\u001b[0;34m(\u001b[0m\u001b[0;34m\"cannot label index with a null key\"\u001b[0m\u001b[0;34m)\u001b[0m\u001b[0;34m\u001b[0m\u001b[0m\n\u001b[1;32m   3227\u001b[0m \u001b[0;34m\u001b[0m\u001b[0m\n\u001b[0;32m-> 3228\u001b[0;31m             \u001b[0mindexer\u001b[0m \u001b[0;34m=\u001b[0m \u001b[0mself\u001b[0m\u001b[0;34m.\u001b[0m\u001b[0mitems\u001b[0m\u001b[0;34m.\u001b[0m\u001b[0mget_indexer_for\u001b[0m\u001b[0;34m(\u001b[0m\u001b[0;34m[\u001b[0m\u001b[0mitem\u001b[0m\u001b[0;34m]\u001b[0m\u001b[0;34m)\u001b[0m\u001b[0;34m\u001b[0m\u001b[0m\n\u001b[0m\u001b[1;32m   3229\u001b[0m             return self.reindex_indexer(new_axis=self.items[indexer],\n\u001b[1;32m   3230\u001b[0m                                         indexer=indexer, axis=0, allow_dups=True)\n",
      "\u001b[0;32m/Users/joshua/anaconda/envs/python3/lib/python3.5/site-packages/pandas/core/index.py\u001b[0m in \u001b[0;36mget_indexer_for\u001b[0;34m(self, target, **kwargs)\u001b[0m\n\u001b[1;32m   2005\u001b[0m         \u001b[0;32mif\u001b[0m \u001b[0mself\u001b[0m\u001b[0;34m.\u001b[0m\u001b[0mis_unique\u001b[0m\u001b[0;34m:\u001b[0m\u001b[0;34m\u001b[0m\u001b[0m\n\u001b[1;32m   2006\u001b[0m             \u001b[0;32mreturn\u001b[0m \u001b[0mself\u001b[0m\u001b[0;34m.\u001b[0m\u001b[0mget_indexer\u001b[0m\u001b[0;34m(\u001b[0m\u001b[0mtarget\u001b[0m\u001b[0;34m,\u001b[0m \u001b[0;34m**\u001b[0m\u001b[0mkwargs\u001b[0m\u001b[0;34m)\u001b[0m\u001b[0;34m\u001b[0m\u001b[0m\n\u001b[0;32m-> 2007\u001b[0;31m         \u001b[0mindexer\u001b[0m\u001b[0;34m,\u001b[0m \u001b[0m_\u001b[0m \u001b[0;34m=\u001b[0m \u001b[0mself\u001b[0m\u001b[0;34m.\u001b[0m\u001b[0mget_indexer_non_unique\u001b[0m\u001b[0;34m(\u001b[0m\u001b[0mtarget\u001b[0m\u001b[0;34m,\u001b[0m \u001b[0;34m**\u001b[0m\u001b[0mkwargs\u001b[0m\u001b[0;34m)\u001b[0m\u001b[0;34m\u001b[0m\u001b[0m\n\u001b[0m\u001b[1;32m   2008\u001b[0m         \u001b[0;32mreturn\u001b[0m \u001b[0mindexer\u001b[0m\u001b[0;34m\u001b[0m\u001b[0m\n\u001b[1;32m   2009\u001b[0m \u001b[0;34m\u001b[0m\u001b[0m\n",
      "\u001b[0;32m/Users/joshua/anaconda/envs/python3/lib/python3.5/site-packages/pandas/core/index.py\u001b[0m in \u001b[0;36mget_indexer_non_unique\u001b[0;34m(self, target)\u001b[0m\n\u001b[1;32m   1998\u001b[0m             \u001b[0mtgt_values\u001b[0m \u001b[0;34m=\u001b[0m \u001b[0mtarget\u001b[0m\u001b[0;34m.\u001b[0m\u001b[0m_values\u001b[0m\u001b[0;34m\u001b[0m\u001b[0m\n\u001b[1;32m   1999\u001b[0m \u001b[0;34m\u001b[0m\u001b[0m\n\u001b[0;32m-> 2000\u001b[0;31m         \u001b[0mindexer\u001b[0m\u001b[0;34m,\u001b[0m \u001b[0mmissing\u001b[0m \u001b[0;34m=\u001b[0m \u001b[0mself\u001b[0m\u001b[0;34m.\u001b[0m\u001b[0m_engine\u001b[0m\u001b[0;34m.\u001b[0m\u001b[0mget_indexer_non_unique\u001b[0m\u001b[0;34m(\u001b[0m\u001b[0mtgt_values\u001b[0m\u001b[0;34m)\u001b[0m\u001b[0;34m\u001b[0m\u001b[0m\n\u001b[0m\u001b[1;32m   2001\u001b[0m         \u001b[0;32mreturn\u001b[0m \u001b[0mIndex\u001b[0m\u001b[0;34m(\u001b[0m\u001b[0mindexer\u001b[0m\u001b[0;34m)\u001b[0m\u001b[0;34m,\u001b[0m \u001b[0mmissing\u001b[0m\u001b[0;34m\u001b[0m\u001b[0m\n\u001b[1;32m   2002\u001b[0m \u001b[0;34m\u001b[0m\u001b[0m\n",
      "\u001b[0;32mpandas/index.pyx\u001b[0m in \u001b[0;36mpandas.index.IndexEngine.get_indexer_non_unique (pandas/index.c:6011)\u001b[0;34m()\u001b[0m\n",
      "\u001b[0;31mTypeError\u001b[0m: unhashable type: 'slice'"
     ]
    }
   ],
   "source": [
    "def selectKImportance(model, X, k=5):\n",
    "     return X[:,model.feature_importances_.argsort()[::-1][:k]]\n",
    "    \n",
    "X_train2 = selectKImportance(clf,X_train,10)"
   ]
  },
  {
   "cell_type": "code",
   "execution_count": null,
   "metadata": {
    "collapsed": false
   },
   "outputs": [],
   "source": [
    "from sklearn import linear_model\n",
    "clf = linear_model.Lasso(alpha = 2)\n",
    "clf.fit(X_train, y_train)\n",
    "\n",
    "clf.score(X_test, y_test)"
   ]
  },
  {
   "cell_type": "code",
   "execution_count": null,
   "metadata": {
    "collapsed": false
   },
   "outputs": [],
   "source": [
    "from sklearn.decomposition import PCA\n",
    "pca = PCA(n_components=2)\n",
    "pca.fit(X_train)"
   ]
  },
  {
   "cell_type": "code",
   "execution_count": null,
   "metadata": {
    "collapsed": false
   },
   "outputs": [],
   "source": [
    "pca.explained_variance_ratio_"
   ]
  },
  {
   "cell_type": "code",
   "execution_count": 11,
   "metadata": {
    "collapsed": true
   },
   "outputs": [],
   "source": [
    "def same_zip(row):\n",
    "    incident_zip = row['Incident Zip']\n",
    "    police_zip = row['ZipCode']\n",
    "    if incident_zip == police_zip:\n",
    "        return 1\n",
    "    else:\n",
    "        return 0"
   ]
  },
  {
   "cell_type": "code",
   "execution_count": 13,
   "metadata": {
    "collapsed": false
   },
   "outputs": [],
   "source": [
    "X['Same Zip'] = X.apply(same_zip, axis=1)"
   ]
  },
  {
   "cell_type": "code",
   "execution_count": 84,
   "metadata": {
    "collapsed": false
   },
   "outputs": [],
   "source": [
    "def time_of_day(row):\n",
    "    hour = row['Complaint Hour']\n",
    "    if 6 < hour < 11:\n",
    "        return \"Morning\"\n",
    "    elif 11 < hour < 6:\n",
    "        return \"Day\"\n",
    "    else:\n",
    "        return \"Night\"\n",
    "    \n",
    "def get_season(x):\n",
    "    if x in [12, 1, 2]:\n",
    "        return \"Winter\"\n",
    "    elif x in [3, 4, 5]:\n",
    "        return \"Spring\"\n",
    "    elif x in [6, 7, 8]:\n",
    "        return \"Summer\"\n",
    "    else:\n",
    "        return \"Autumn\""
   ]
  },
  {
   "cell_type": "code",
   "execution_count": 82,
   "metadata": {
    "collapsed": false
   },
   "outputs": [],
   "source": [
    "X[\"Time of Day\"] = X.apply(time_of_day, axis=1)"
   ]
  },
  {
   "cell_type": "code",
   "execution_count": 89,
   "metadata": {
    "collapsed": false
   },
   "outputs": [],
   "source": [
    "X[\"Season\"] = X[\"Complaint Month\"].apply(lambda x: get_season(x))"
   ]
  },
  {
   "cell_type": "code",
   "execution_count": 129,
   "metadata": {
    "collapsed": true
   },
   "outputs": [],
   "source": [
    "X2 = X.copy()"
   ]
  },
  {
   "cell_type": "code",
   "execution_count": 102,
   "metadata": {
    "collapsed": false
   },
   "outputs": [],
   "source": [
    "columns = ['Distance Km', 'Complaint Day',\n",
    "           'Borough_BK', 'Borough_BX', 'Borough_MN',\n",
    "       'Borough_QN', 'Borough_SI', 'Same Zip', 'Season', 'Time of Day']\n",
    "features2 = X[columns]"
   ]
  },
  {
   "cell_type": "code",
   "execution_count": 103,
   "metadata": {
    "collapsed": false
   },
   "outputs": [],
   "source": [
    "features2 = pd.concat([features2, pd.get_dummies(features2['Complaint Day'])], axis=1)\n",
    "features2 = pd.concat([features2, pd.get_dummies(features2['Season'])], axis=1)\n",
    "features2 = pd.concat([features2, pd.get_dummies(features2['Time of Day'])], axis=1)\n",
    "del features2['Complaint Day']\n",
    "del features2['Time of Day']\n",
    "del features2['Season']"
   ]
  },
  {
   "cell_type": "code",
   "execution_count": 109,
   "metadata": {
    "collapsed": false
   },
   "outputs": [
    {
     "name": "stderr",
     "output_type": "stream",
     "text": [
      "/Users/joshua/anaconda/envs/python3/lib/python3.5/site-packages/sklearn/preprocessing/data.py:583: DeprecationWarning: Passing 1d arrays as data is deprecated in 0.17 and will raise ValueError in 0.19. Reshape your data either using X.reshape(-1, 1) if your data has a single feature or X.reshape(1, -1) if it contains a single sample.\n",
      "  warnings.warn(DEPRECATION_MSG_1D, DeprecationWarning)\n",
      "/Users/joshua/anaconda/envs/python3/lib/python3.5/site-packages/sklearn/preprocessing/data.py:646: DeprecationWarning: Passing 1d arrays as data is deprecated in 0.17 and will raise ValueError in 0.19. Reshape your data either using X.reshape(-1, 1) if your data has a single feature or X.reshape(1, -1) if it contains a single sample.\n",
      "  warnings.warn(DEPRECATION_MSG_1D, DeprecationWarning)\n"
     ]
    }
   ],
   "source": [
    "from sklearn.preprocessing import StandardScaler\n",
    "y = StandardScaler().fit_transform(y)"
   ]
  },
  {
   "cell_type": "code",
   "execution_count": 121,
   "metadata": {
    "collapsed": false
   },
   "outputs": [],
   "source": [
    "X_train, X_test, y_train, y_test = train_test_split(features2, y, test_size=0.2, random_state=42)"
   ]
  },
  {
   "cell_type": "code",
   "execution_count": 17,
   "metadata": {
    "collapsed": false
   },
   "outputs": [
    {
     "data": {
      "text/plain": [
       "array([ 0.69418455,  0.16116342,  0.05836015,  0.0126753 ,  0.00667824,\n",
       "        0.00495884,  0.00418881,  0.0031003 ,  0.0028053 ,  0.00235831,\n",
       "        0.00220779,  0.0020806 ,  0.00205576,  0.00194874,  0.00184733,\n",
       "        0.00182321,  0.00178255,  0.00143249,  0.001387  ,  0.00131402])"
      ]
     },
     "execution_count": 17,
     "metadata": {},
     "output_type": "execute_result"
    }
   ],
   "source": [
    "from sklearn.decomposition import PCA\n",
    "pca = PCA(n_components=20)\n",
    "pca.fit(X_train)\n",
    "pca.explained_variance_ratio_"
   ]
  },
  {
   "cell_type": "code",
   "execution_count": 26,
   "metadata": {
    "collapsed": false
   },
   "outputs": [],
   "source": [
    "X_trainr = pca.transform(X_train)\n",
    "X_testr = pca.transform(X_test)\n",
    "features2_r = pca.fit(features2).transform(features2)"
   ]
  },
  {
   "cell_type": "code",
   "execution_count": 112,
   "metadata": {
    "collapsed": false
   },
   "outputs": [
    {
     "data": {
      "text/plain": [
       "-8.948010358222902e-06"
      ]
     },
     "execution_count": 112,
     "metadata": {},
     "output_type": "execute_result"
    }
   ],
   "source": [
    "clf = linear_model.Lasso(alpha = .1)\n",
    "clf.fit(X_train, y_train)\n",
    "\n",
    "clf.score(X_test, y_test)"
   ]
  },
  {
   "cell_type": "code",
   "execution_count": 32,
   "metadata": {
    "collapsed": false
   },
   "outputs": [
    {
     "data": {
      "text/plain": [
       "(1000, 20)"
      ]
     },
     "execution_count": 32,
     "metadata": {},
     "output_type": "execute_result"
    }
   ],
   "source": [
    "features2_r[:1000].shape"
   ]
  },
  {
   "cell_type": "code",
   "execution_count": 113,
   "metadata": {
    "collapsed": false
   },
   "outputs": [
    {
     "name": "stdout",
     "output_type": "stream",
     "text": [
      "Score with the entire dataset = -1.80\n"
     ]
    }
   ],
   "source": [
    "from sklearn.ensemble import RandomForestRegressor\n",
    "from sklearn.cross_validation import cross_val_score\n",
    "# Estimate the score on the entire dataset, with no missing values\n",
    "estimator = RandomForestRegressor(random_state=0, n_estimators=100, n_jobs=-1)\n",
    "score = cross_val_score(estimator, features2[:1000], y[:1000]).mean()\n",
    "print(\"Score with the entire dataset = %.2f\" % score)"
   ]
  },
  {
   "cell_type": "code",
   "execution_count": 106,
   "metadata": {
    "collapsed": false
   },
   "outputs": [
    {
     "name": "stdout",
     "output_type": "stream",
     "text": [
      "0.101983297868\n",
      "-0.26518975433\n"
     ]
    }
   ],
   "source": [
    "from sklearn.tree import DecisionTreeRegressor\n",
    "from sklearn.ensemble import AdaBoostRegressor\n",
    "\n",
    "# Create the dataset\n",
    "rng = np.random.RandomState(1)\n",
    "X_sample = features2[:5000]\n",
    "y_sample = y[:5000]\n",
    "\n",
    "# Fit regression model\n",
    "regr_1 = DecisionTreeRegressor(max_depth=4)\n",
    "\n",
    "regr_2 = AdaBoostRegressor(DecisionTreeRegressor(max_depth=4),\n",
    "                          n_estimators=300, random_state=rng)\n",
    "\n",
    "regr_1.fit(X_sample, y_sample)\n",
    "regr_2.fit(X_sample, y_sample)\n",
    "\n",
    "# Predict\n",
    "print(regr_1.score(X_sample, y_sample))\n",
    "print(regr_2.score(X_sample, y_sample))"
   ]
  },
  {
   "cell_type": "code",
   "execution_count": 120,
   "metadata": {
    "collapsed": false
   },
   "outputs": [
    {
     "data": {
      "text/plain": [
       "(729053, 20)"
      ]
     },
     "execution_count": 120,
     "metadata": {},
     "output_type": "execute_result"
    }
   ],
   "source": [
    "features2.shape"
   ]
  },
  {
   "cell_type": "code",
   "execution_count": 122,
   "metadata": {
    "collapsed": false
   },
   "outputs": [
    {
     "name": "stdout",
     "output_type": "stream",
     "text": [
      "MSE: 0.5062\n"
     ]
    },
    {
     "data": {
      "image/png": "[encoded data removed]",
      "text/plain": [
       "<matplotlib.figure.Figure at 0x10dddd9e8>"
      ]
     },
     "metadata": {},
     "output_type": "display_data"
    }
   ],
   "source": [
    "import numpy as np\n",
    "import matplotlib.pyplot as plt\n",
    "\n",
    "from sklearn import ensemble\n",
    "from sklearn import datasets\n",
    "from sklearn.utils import shuffle\n",
    "from sklearn.metrics import mean_squared_error\n",
    "\n",
    "###############################################################################\n",
    "# Load data\n",
    "\"\"\"\n",
    "offset1 = 30000\n",
    "offset2 = 34000\n",
    "X_train, y_train = features2[:offset1], y[:offset1]\n",
    "X_test, y_test = features2[offset1:offset2], y[offset1:offset2]\n",
    "\"\"\"\n",
    "###############################################################################\n",
    "# Fit regression model\n",
    "params = {'n_estimators': 200, 'max_depth': 4, 'min_samples_split': 1,\n",
    "          'learning_rate': 0.01, 'loss': 'ls'}\n",
    "clf = ensemble.GradientBoostingRegressor(**params)\n",
    "\n",
    "clf.fit(X_train, y_train)\n",
    "mse = mean_squared_error(y_test, clf.predict(X_test))\n",
    "print(\"MSE: %.4f\" % mse)\n",
    "\n",
    "###############################################################################\n",
    "# Plot training deviance\n",
    "\n",
    "# compute test set deviance\n",
    "test_score = np.zeros((params['n_estimators'],), dtype=np.float64)\n",
    "\n",
    "for i, y_pred in enumerate(clf.staged_predict(X_test)):\n",
    "    test_score[i] = clf.loss_(y_test, y_pred)\n",
    "\n",
    "plt.figure(figsize=(12, 6))\n",
    "plt.subplot(1, 2, 1)\n",
    "plt.title('Deviance')\n",
    "plt.plot(np.arange(params['n_estimators']) + 1, clf.train_score_, 'b-',\n",
    "         label='Training Set Deviance')\n",
    "plt.plot(np.arange(params['n_estimators']) + 1, test_score, 'r-',\n",
    "         label='Test Set Deviance')\n",
    "plt.legend(loc='upper right')\n",
    "plt.xlabel('Boosting Iterations')\n",
    "plt.ylabel('Deviance')\n",
    "\n",
    "###############################################################################\n",
    "# Plot feature importance\n",
    "feature_importance = clf.feature_importances_\n",
    "# make importances relative to max importance\n",
    "feature_importance = 100.0 * (feature_importance / feature_importance.max())\n",
    "sorted_idx = np.argsort(feature_importance)\n",
    "pos = np.arange(sorted_idx.shape[0]) + .5\n",
    "plt.subplot(1, 2, 2)\n",
    "plt.barh(pos, feature_importance[sorted_idx], align='center')\n",
    "#plt.yticks(pos, features2.columns[sorted_idx])\n",
    "plt.xlabel('Relative Importance')\n",
    "plt.title('Variable Importance')\n",
    "plt.show()"
   ]
  },
  {
   "cell_type": "code",
   "execution_count": 123,
   "metadata": {
    "collapsed": false
   },
   "outputs": [
    {
     "data": {
      "image/png": "[encoded data removed]",
      "text/plain": [
       "<matplotlib.figure.Figure at 0x1151dd1d0>"
      ]
     },
     "metadata": {},
     "output_type": "display_data"
    }
   ],
   "source": [
    "# Plot feature importance\n",
    "feature_importance = clf.feature_importances_\n",
    "# make importances relative to max importance\n",
    "feature_importance = 100.0 * (feature_importance / feature_importance.max())\n",
    "sorted_idx = np.argsort(feature_importance)\n",
    "pos = np.arange(sorted_idx.shape[0]) + .5\n",
    "plt.barh(pos, feature_importance[sorted_idx], align='center')\n",
    "plt.yticks(pos, features2.columns[sorted_idx])\n",
    "plt.xlabel('Relative Importance')\n",
    "plt.title('Variable Importance')\n",
    "plt.show()"
   ]
  },
  {
   "cell_type": "code",
   "execution_count": 131,
   "metadata": {
    "collapsed": false
   },
   "outputs": [
    {
     "name": "stderr",
     "output_type": "stream",
     "text": [
      "/Users/joshua/anaconda/envs/python3/lib/python3.5/site-packages/sklearn/linear_model/randomized_l1.py:609: DeprecationWarning: This function is deprecated. Please call randint(0, 1 + 1) instead\n",
      "  for k in range(n_resampling))\n",
      "/Users/joshua/anaconda/envs/python3/lib/python3.5/site-packages/sklearn/linear_model/randomized_l1.py:515: VisibleDeprecationWarning: boolean index did not match indexed array along dimension 0; dimension is 729053 but corresponding boolean dimension is 1000\n",
      "  y = y[mask]\n",
      "/Users/joshua/anaconda/envs/python3/lib/python3.5/site-packages/sklearn/linear_model/randomized_l1.py:609: DeprecationWarning: This function is deprecated. Please call randint(0, 1 + 1) instead\n",
      "  for k in range(n_resampling))\n",
      "/Users/joshua/anaconda/envs/python3/lib/python3.5/site-packages/sklearn/linear_model/randomized_l1.py:515: VisibleDeprecationWarning: boolean index did not match indexed array along dimension 0; dimension is 729053 but corresponding boolean dimension is 1000\n",
      "  y = y[mask]\n",
      "/Users/joshua/anaconda/envs/python3/lib/python3.5/site-packages/sklearn/linear_model/randomized_l1.py:609: DeprecationWarning: This function is deprecated. Please call randint(0, 1 + 1) instead\n",
      "  for k in range(n_resampling))\n",
      "/Users/joshua/anaconda/envs/python3/lib/python3.5/site-packages/sklearn/linear_model/randomized_l1.py:515: VisibleDeprecationWarning: boolean index did not match indexed array along dimension 0; dimension is 729053 but corresponding boolean dimension is 1000\n",
      "  y = y[mask]\n",
      "/Users/joshua/anaconda/envs/python3/lib/python3.5/site-packages/sklearn/linear_model/randomized_l1.py:609: DeprecationWarning: This function is deprecated. Please call randint(0, 1 + 1) instead\n",
      "  for k in range(n_resampling))\n",
      "/Users/joshua/anaconda/envs/python3/lib/python3.5/site-packages/sklearn/linear_model/randomized_l1.py:515: VisibleDeprecationWarning: boolean index did not match indexed array along dimension 0; dimension is 729053 but corresponding boolean dimension is 1000\n",
      "  y = y[mask]\n",
      "/Users/joshua/anaconda/envs/python3/lib/python3.5/site-packages/sklearn/linear_model/randomized_l1.py:609: DeprecationWarning: This function is deprecated. Please call randint(0, 1 + 1) instead\n",
      "  for k in range(n_resampling))\n",
      "/Users/joshua/anaconda/envs/python3/lib/python3.5/site-packages/sklearn/linear_model/randomized_l1.py:515: VisibleDeprecationWarning: boolean index did not match indexed array along dimension 0; dimension is 729053 but corresponding boolean dimension is 1000\n",
      "  y = y[mask]\n",
      "/Users/joshua/anaconda/envs/python3/lib/python3.5/site-packages/sklearn/linear_model/randomized_l1.py:609: DeprecationWarning: This function is deprecated. Please call randint(0, 1 + 1) instead\n",
      "  for k in range(n_resampling))\n",
      "/Users/joshua/anaconda/envs/python3/lib/python3.5/site-packages/sklearn/linear_model/randomized_l1.py:515: VisibleDeprecationWarning: boolean index did not match indexed array along dimension 0; dimension is 729053 but corresponding boolean dimension is 1000\n",
      "  y = y[mask]\n",
      "/Users/joshua/anaconda/envs/python3/lib/python3.5/site-packages/sklearn/linear_model/randomized_l1.py:609: DeprecationWarning: This function is deprecated. Please call randint(0, 1 + 1) instead\n",
      "  for k in range(n_resampling))\n",
      "/Users/joshua/anaconda/envs/python3/lib/python3.5/site-packages/sklearn/linear_model/randomized_l1.py:515: VisibleDeprecationWarning: boolean index did not match indexed array along dimension 0; dimension is 729053 but corresponding boolean dimension is 1000\n",
      "  y = y[mask]\n",
      "/Users/joshua/anaconda/envs/python3/lib/python3.5/site-packages/sklearn/linear_model/randomized_l1.py:609: DeprecationWarning: This function is deprecated. Please call randint(0, 1 + 1) instead\n",
      "  for k in range(n_resampling))\n",
      "/Users/joshua/anaconda/envs/python3/lib/python3.5/site-packages/sklearn/linear_model/randomized_l1.py:515: VisibleDeprecationWarning: boolean index did not match indexed array along dimension 0; dimension is 729053 but corresponding boolean dimension is 1000\n",
      "  y = y[mask]\n",
      "/Users/joshua/anaconda/envs/python3/lib/python3.5/site-packages/sklearn/linear_model/randomized_l1.py:609: DeprecationWarning: This function is deprecated. Please call randint(0, 1 + 1) instead\n",
      "  for k in range(n_resampling))\n",
      "/Users/joshua/anaconda/envs/python3/lib/python3.5/site-packages/sklearn/linear_model/randomized_l1.py:515: VisibleDeprecationWarning: boolean index did not match indexed array along dimension 0; dimension is 729053 but corresponding boolean dimension is 1000\n",
      "  y = y[mask]\n",
      "/Users/joshua/anaconda/envs/python3/lib/python3.5/site-packages/sklearn/linear_model/randomized_l1.py:609: DeprecationWarning: This function is deprecated. Please call randint(0, 1 + 1) instead\n",
      "  for k in range(n_resampling))\n",
      "/Users/joshua/anaconda/envs/python3/lib/python3.5/site-packages/sklearn/linear_model/randomized_l1.py:515: VisibleDeprecationWarning: boolean index did not match indexed array along dimension 0; dimension is 729053 but corresponding boolean dimension is 1000\n",
      "  y = y[mask]\n",
      "/Users/joshua/anaconda/envs/python3/lib/python3.5/site-packages/sklearn/linear_model/randomized_l1.py:609: DeprecationWarning: This function is deprecated. Please call randint(0, 1 + 1) instead\n",
      "  for k in range(n_resampling))\n",
      "/Users/joshua/anaconda/envs/python3/lib/python3.5/site-packages/sklearn/linear_model/randomized_l1.py:515: VisibleDeprecationWarning: boolean index did not match indexed array along dimension 0; dimension is 729053 but corresponding boolean dimension is 1000\n",
      "  y = y[mask]\n",
      "/Users/joshua/anaconda/envs/python3/lib/python3.5/site-packages/sklearn/linear_model/randomized_l1.py:609: DeprecationWarning: This function is deprecated. Please call randint(0, 1 + 1) instead\n",
      "  for k in range(n_resampling))\n",
      "/Users/joshua/anaconda/envs/python3/lib/python3.5/site-packages/sklearn/linear_model/randomized_l1.py:515: VisibleDeprecationWarning: boolean index did not match indexed array along dimension 0; dimension is 729053 but corresponding boolean dimension is 1000\n",
      "  y = y[mask]\n",
      "/Users/joshua/anaconda/envs/python3/lib/python3.5/site-packages/sklearn/linear_model/randomized_l1.py:609: DeprecationWarning: This function is deprecated. Please call randint(0, 1 + 1) instead\n",
      "  for k in range(n_resampling))\n",
      "/Users/joshua/anaconda/envs/python3/lib/python3.5/site-packages/sklearn/linear_model/randomized_l1.py:515: VisibleDeprecationWarning: boolean index did not match indexed array along dimension 0; dimension is 729053 but corresponding boolean dimension is 1000\n",
      "  y = y[mask]\n",
      "/Users/joshua/anaconda/envs/python3/lib/python3.5/site-packages/sklearn/linear_model/randomized_l1.py:609: DeprecationWarning: This function is deprecated. Please call randint(0, 1 + 1) instead\n",
      "  for k in range(n_resampling))\n",
      "/Users/joshua/anaconda/envs/python3/lib/python3.5/site-packages/sklearn/linear_model/randomized_l1.py:515: VisibleDeprecationWarning: boolean index did not match indexed array along dimension 0; dimension is 729053 but corresponding boolean dimension is 1000\n",
      "  y = y[mask]\n",
      "/Users/joshua/anaconda/envs/python3/lib/python3.5/site-packages/sklearn/linear_model/randomized_l1.py:609: DeprecationWarning: This function is deprecated. Please call randint(0, 1 + 1) instead\n",
      "  for k in range(n_resampling))\n",
      "/Users/joshua/anaconda/envs/python3/lib/python3.5/site-packages/sklearn/linear_model/randomized_l1.py:515: VisibleDeprecationWarning: boolean index did not match indexed array along dimension 0; dimension is 729053 but corresponding boolean dimension is 1000\n",
      "  y = y[mask]\n",
      "/Users/joshua/anaconda/envs/python3/lib/python3.5/site-packages/sklearn/linear_model/randomized_l1.py:609: DeprecationWarning: This function is deprecated. Please call randint(0, 1 + 1) instead\n",
      "  for k in range(n_resampling))\n",
      "/Users/joshua/anaconda/envs/python3/lib/python3.5/site-packages/sklearn/linear_model/randomized_l1.py:515: VisibleDeprecationWarning: boolean index did not match indexed array along dimension 0; dimension is 729053 but corresponding boolean dimension is 1000\n",
      "  y = y[mask]\n",
      "/Users/joshua/anaconda/envs/python3/lib/python3.5/site-packages/sklearn/linear_model/randomized_l1.py:609: DeprecationWarning: This function is deprecated. Please call randint(0, 1 + 1) instead\n",
      "  for k in range(n_resampling))\n",
      "/Users/joshua/anaconda/envs/python3/lib/python3.5/site-packages/sklearn/linear_model/randomized_l1.py:515: VisibleDeprecationWarning: boolean index did not match indexed array along dimension 0; dimension is 729053 but corresponding boolean dimension is 1000\n",
      "  y = y[mask]\n",
      "/Users/joshua/anaconda/envs/python3/lib/python3.5/site-packages/sklearn/linear_model/randomized_l1.py:609: DeprecationWarning: This function is deprecated. Please call randint(0, 1 + 1) instead\n",
      "  for k in range(n_resampling))\n",
      "/Users/joshua/anaconda/envs/python3/lib/python3.5/site-packages/sklearn/linear_model/randomized_l1.py:515: VisibleDeprecationWarning: boolean index did not match indexed array along dimension 0; dimension is 729053 but corresponding boolean dimension is 1000\n",
      "  y = y[mask]\n",
      "/Users/joshua/anaconda/envs/python3/lib/python3.5/site-packages/sklearn/linear_model/randomized_l1.py:609: DeprecationWarning: This function is deprecated. Please call randint(0, 1 + 1) instead\n",
      "  for k in range(n_resampling))\n",
      "/Users/joshua/anaconda/envs/python3/lib/python3.5/site-packages/sklearn/linear_model/randomized_l1.py:515: VisibleDeprecationWarning: boolean index did not match indexed array along dimension 0; dimension is 729053 but corresponding boolean dimension is 1000\n",
      "  y = y[mask]\n",
      "/Users/joshua/anaconda/envs/python3/lib/python3.5/site-packages/sklearn/linear_model/randomized_l1.py:609: DeprecationWarning: This function is deprecated. Please call randint(0, 1 + 1) instead\n",
      "  for k in range(n_resampling))\n",
      "/Users/joshua/anaconda/envs/python3/lib/python3.5/site-packages/sklearn/linear_model/randomized_l1.py:515: VisibleDeprecationWarning: boolean index did not match indexed array along dimension 0; dimension is 729053 but corresponding boolean dimension is 1000\n",
      "  y = y[mask]\n",
      "/Users/joshua/anaconda/envs/python3/lib/python3.5/site-packages/sklearn/linear_model/randomized_l1.py:609: DeprecationWarning: This function is deprecated. Please call randint(0, 1 + 1) instead\n",
      "  for k in range(n_resampling))\n",
      "/Users/joshua/anaconda/envs/python3/lib/python3.5/site-packages/sklearn/linear_model/randomized_l1.py:515: VisibleDeprecationWarning: boolean index did not match indexed array along dimension 0; dimension is 729053 but corresponding boolean dimension is 1000\n",
      "  y = y[mask]\n",
      "/Users/joshua/anaconda/envs/python3/lib/python3.5/site-packages/sklearn/linear_model/randomized_l1.py:609: DeprecationWarning: This function is deprecated. Please call randint(0, 1 + 1) instead\n",
      "  for k in range(n_resampling))\n",
      "/Users/joshua/anaconda/envs/python3/lib/python3.5/site-packages/sklearn/linear_model/randomized_l1.py:515: VisibleDeprecationWarning: boolean index did not match indexed array along dimension 0; dimension is 729053 but corresponding boolean dimension is 1000\n",
      "  y = y[mask]\n",
      "/Users/joshua/anaconda/envs/python3/lib/python3.5/site-packages/sklearn/linear_model/randomized_l1.py:609: DeprecationWarning: This function is deprecated. Please call randint(0, 1 + 1) instead\n",
      "  for k in range(n_resampling))\n",
      "/Users/joshua/anaconda/envs/python3/lib/python3.5/site-packages/sklearn/linear_model/randomized_l1.py:515: VisibleDeprecationWarning: boolean index did not match indexed array along dimension 0; dimension is 729053 but corresponding boolean dimension is 1000\n",
      "  y = y[mask]\n",
      "/Users/joshua/anaconda/envs/python3/lib/python3.5/site-packages/sklearn/linear_model/randomized_l1.py:609: DeprecationWarning: This function is deprecated. Please call randint(0, 1 + 1) instead\n",
      "  for k in range(n_resampling))\n",
      "/Users/joshua/anaconda/envs/python3/lib/python3.5/site-packages/sklearn/linear_model/randomized_l1.py:515: VisibleDeprecationWarning: boolean index did not match indexed array along dimension 0; dimension is 729053 but corresponding boolean dimension is 1000\n",
      "  y = y[mask]\n",
      "/Users/joshua/anaconda/envs/python3/lib/python3.5/site-packages/sklearn/linear_model/randomized_l1.py:609: DeprecationWarning: This function is deprecated. Please call randint(0, 1 + 1) instead\n",
      "  for k in range(n_resampling))\n",
      "/Users/joshua/anaconda/envs/python3/lib/python3.5/site-packages/sklearn/linear_model/randomized_l1.py:515: VisibleDeprecationWarning: boolean index did not match indexed array along dimension 0; dimension is 729053 but corresponding boolean dimension is 1000\n",
      "  y = y[mask]\n",
      "/Users/joshua/anaconda/envs/python3/lib/python3.5/site-packages/sklearn/linear_model/randomized_l1.py:609: DeprecationWarning: This function is deprecated. Please call randint(0, 1 + 1) instead\n",
      "  for k in range(n_resampling))\n",
      "/Users/joshua/anaconda/envs/python3/lib/python3.5/site-packages/sklearn/linear_model/randomized_l1.py:515: VisibleDeprecationWarning: boolean index did not match indexed array along dimension 0; dimension is 729053 but corresponding boolean dimension is 1000\n",
      "  y = y[mask]\n",
      "/Users/joshua/anaconda/envs/python3/lib/python3.5/site-packages/sklearn/linear_model/randomized_l1.py:609: DeprecationWarning: This function is deprecated. Please call randint(0, 1 + 1) instead\n",
      "  for k in range(n_resampling))\n",
      "/Users/joshua/anaconda/envs/python3/lib/python3.5/site-packages/sklearn/linear_model/randomized_l1.py:515: VisibleDeprecationWarning: boolean index did not match indexed array along dimension 0; dimension is 729053 but corresponding boolean dimension is 1000\n",
      "  y = y[mask]\n",
      "/Users/joshua/anaconda/envs/python3/lib/python3.5/site-packages/sklearn/linear_model/randomized_l1.py:609: DeprecationWarning: This function is deprecated. Please call randint(0, 1 + 1) instead\n",
      "  for k in range(n_resampling))\n",
      "/Users/joshua/anaconda/envs/python3/lib/python3.5/site-packages/sklearn/linear_model/randomized_l1.py:515: VisibleDeprecationWarning: boolean index did not match indexed array along dimension 0; dimension is 729053 but corresponding boolean dimension is 1000\n",
      "  y = y[mask]\n",
      "/Users/joshua/anaconda/envs/python3/lib/python3.5/site-packages/sklearn/linear_model/randomized_l1.py:609: DeprecationWarning: This function is deprecated. Please call randint(0, 1 + 1) instead\n",
      "  for k in range(n_resampling))\n",
      "/Users/joshua/anaconda/envs/python3/lib/python3.5/site-packages/sklearn/linear_model/randomized_l1.py:515: VisibleDeprecationWarning: boolean index did not match indexed array along dimension 0; dimension is 729053 but corresponding boolean dimension is 1000\n",
      "  y = y[mask]\n",
      "/Users/joshua/anaconda/envs/python3/lib/python3.5/site-packages/sklearn/linear_model/randomized_l1.py:609: DeprecationWarning: This function is deprecated. Please call randint(0, 1 + 1) instead\n",
      "  for k in range(n_resampling))\n",
      "/Users/joshua/anaconda/envs/python3/lib/python3.5/site-packages/sklearn/linear_model/randomized_l1.py:515: VisibleDeprecationWarning: boolean index did not match indexed array along dimension 0; dimension is 729053 but corresponding boolean dimension is 1000\n",
      "  y = y[mask]\n",
      "/Users/joshua/anaconda/envs/python3/lib/python3.5/site-packages/sklearn/linear_model/randomized_l1.py:609: DeprecationWarning: This function is deprecated. Please call randint(0, 1 + 1) instead\n",
      "  for k in range(n_resampling))\n",
      "/Users/joshua/anaconda/envs/python3/lib/python3.5/site-packages/sklearn/linear_model/randomized_l1.py:515: VisibleDeprecationWarning: boolean index did not match indexed array along dimension 0; dimension is 729053 but corresponding boolean dimension is 1000\n",
      "  y = y[mask]\n",
      "/Users/joshua/anaconda/envs/python3/lib/python3.5/site-packages/sklearn/linear_model/randomized_l1.py:609: DeprecationWarning: This function is deprecated. Please call randint(0, 1 + 1) instead\n",
      "  for k in range(n_resampling))\n",
      "/Users/joshua/anaconda/envs/python3/lib/python3.5/site-packages/sklearn/linear_model/randomized_l1.py:515: VisibleDeprecationWarning: boolean index did not match indexed array along dimension 0; dimension is 729053 but corresponding boolean dimension is 1000\n",
      "  y = y[mask]\n",
      "/Users/joshua/anaconda/envs/python3/lib/python3.5/site-packages/sklearn/linear_model/randomized_l1.py:609: DeprecationWarning: This function is deprecated. Please call randint(0, 1 + 1) instead\n",
      "  for k in range(n_resampling))\n",
      "/Users/joshua/anaconda/envs/python3/lib/python3.5/site-packages/sklearn/linear_model/randomized_l1.py:515: VisibleDeprecationWarning: boolean index did not match indexed array along dimension 0; dimension is 729053 but corresponding boolean dimension is 1000\n",
      "  y = y[mask]\n",
      "/Users/joshua/anaconda/envs/python3/lib/python3.5/site-packages/sklearn/linear_model/randomized_l1.py:609: DeprecationWarning: This function is deprecated. Please call randint(0, 1 + 1) instead\n",
      "  for k in range(n_resampling))\n",
      "/Users/joshua/anaconda/envs/python3/lib/python3.5/site-packages/sklearn/linear_model/randomized_l1.py:515: VisibleDeprecationWarning: boolean index did not match indexed array along dimension 0; dimension is 729053 but corresponding boolean dimension is 1000\n",
      "  y = y[mask]\n",
      "/Users/joshua/anaconda/envs/python3/lib/python3.5/site-packages/sklearn/linear_model/randomized_l1.py:609: DeprecationWarning: This function is deprecated. Please call randint(0, 1 + 1) instead\n",
      "  for k in range(n_resampling))\n",
      "/Users/joshua/anaconda/envs/python3/lib/python3.5/site-packages/sklearn/linear_model/randomized_l1.py:515: VisibleDeprecationWarning: boolean index did not match indexed array along dimension 0; dimension is 729053 but corresponding boolean dimension is 1000\n",
      "  y = y[mask]\n",
      "/Users/joshua/anaconda/envs/python3/lib/python3.5/site-packages/sklearn/linear_model/randomized_l1.py:609: DeprecationWarning: This function is deprecated. Please call randint(0, 1 + 1) instead\n",
      "  for k in range(n_resampling))\n",
      "/Users/joshua/anaconda/envs/python3/lib/python3.5/site-packages/sklearn/linear_model/randomized_l1.py:515: VisibleDeprecationWarning: boolean index did not match indexed array along dimension 0; dimension is 729053 but corresponding boolean dimension is 1000\n",
      "  y = y[mask]\n",
      "/Users/joshua/anaconda/envs/python3/lib/python3.5/site-packages/sklearn/linear_model/randomized_l1.py:609: DeprecationWarning: This function is deprecated. Please call randint(0, 1 + 1) instead\n",
      "  for k in range(n_resampling))\n",
      "/Users/joshua/anaconda/envs/python3/lib/python3.5/site-packages/sklearn/linear_model/randomized_l1.py:515: VisibleDeprecationWarning: boolean index did not match indexed array along dimension 0; dimension is 729053 but corresponding boolean dimension is 1000\n",
      "  y = y[mask]\n",
      "/Users/joshua/anaconda/envs/python3/lib/python3.5/site-packages/sklearn/linear_model/randomized_l1.py:609: DeprecationWarning: This function is deprecated. Please call randint(0, 1 + 1) instead\n",
      "  for k in range(n_resampling))\n",
      "/Users/joshua/anaconda/envs/python3/lib/python3.5/site-packages/sklearn/linear_model/randomized_l1.py:515: VisibleDeprecationWarning: boolean index did not match indexed array along dimension 0; dimension is 729053 but corresponding boolean dimension is 1000\n",
      "  y = y[mask]\n",
      "/Users/joshua/anaconda/envs/python3/lib/python3.5/site-packages/sklearn/linear_model/randomized_l1.py:609: DeprecationWarning: This function is deprecated. Please call randint(0, 1 + 1) instead\n",
      "  for k in range(n_resampling))\n",
      "/Users/joshua/anaconda/envs/python3/lib/python3.5/site-packages/sklearn/linear_model/randomized_l1.py:515: VisibleDeprecationWarning: boolean index did not match indexed array along dimension 0; dimension is 729053 but corresponding boolean dimension is 1000\n",
      "  y = y[mask]\n",
      "/Users/joshua/anaconda/envs/python3/lib/python3.5/site-packages/sklearn/linear_model/randomized_l1.py:609: DeprecationWarning: This function is deprecated. Please call randint(0, 1 + 1) instead\n",
      "  for k in range(n_resampling))\n",
      "/Users/joshua/anaconda/envs/python3/lib/python3.5/site-packages/sklearn/linear_model/randomized_l1.py:515: VisibleDeprecationWarning: boolean index did not match indexed array along dimension 0; dimension is 729053 but corresponding boolean dimension is 1000\n",
      "  y = y[mask]\n",
      "/Users/joshua/anaconda/envs/python3/lib/python3.5/site-packages/sklearn/linear_model/randomized_l1.py:609: DeprecationWarning: This function is deprecated. Please call randint(0, 1 + 1) instead\n",
      "  for k in range(n_resampling))\n",
      "/Users/joshua/anaconda/envs/python3/lib/python3.5/site-packages/sklearn/linear_model/randomized_l1.py:515: VisibleDeprecationWarning: boolean index did not match indexed array along dimension 0; dimension is 729053 but corresponding boolean dimension is 1000\n",
      "  y = y[mask]\n",
      "/Users/joshua/anaconda/envs/python3/lib/python3.5/site-packages/sklearn/linear_model/randomized_l1.py:609: DeprecationWarning: This function is deprecated. Please call randint(0, 1 + 1) instead\n",
      "  for k in range(n_resampling))\n",
      "/Users/joshua/anaconda/envs/python3/lib/python3.5/site-packages/sklearn/linear_model/randomized_l1.py:515: VisibleDeprecationWarning: boolean index did not match indexed array along dimension 0; dimension is 729053 but corresponding boolean dimension is 1000\n",
      "  y = y[mask]\n",
      "/Users/joshua/anaconda/envs/python3/lib/python3.5/site-packages/sklearn/linear_model/randomized_l1.py:609: DeprecationWarning: This function is deprecated. Please call randint(0, 1 + 1) instead\n",
      "  for k in range(n_resampling))\n",
      "/Users/joshua/anaconda/envs/python3/lib/python3.5/site-packages/sklearn/linear_model/randomized_l1.py:515: VisibleDeprecationWarning: boolean index did not match indexed array along dimension 0; dimension is 729053 but corresponding boolean dimension is 1000\n",
      "  y = y[mask]\n",
      "/Users/joshua/anaconda/envs/python3/lib/python3.5/site-packages/sklearn/linear_model/randomized_l1.py:609: DeprecationWarning: This function is deprecated. Please call randint(0, 1 + 1) instead\n",
      "  for k in range(n_resampling))\n",
      "/Users/joshua/anaconda/envs/python3/lib/python3.5/site-packages/sklearn/linear_model/randomized_l1.py:515: VisibleDeprecationWarning: boolean index did not match indexed array along dimension 0; dimension is 729053 but corresponding boolean dimension is 1000\n",
      "  y = y[mask]\n",
      "/Users/joshua/anaconda/envs/python3/lib/python3.5/site-packages/sklearn/linear_model/randomized_l1.py:609: DeprecationWarning: This function is deprecated. Please call randint(0, 1 + 1) instead\n",
      "  for k in range(n_resampling))\n",
      "/Users/joshua/anaconda/envs/python3/lib/python3.5/site-packages/sklearn/linear_model/randomized_l1.py:515: VisibleDeprecationWarning: boolean index did not match indexed array along dimension 0; dimension is 729053 but corresponding boolean dimension is 1000\n",
      "  y = y[mask]\n",
      "/Users/joshua/anaconda/envs/python3/lib/python3.5/site-packages/sklearn/linear_model/randomized_l1.py:609: DeprecationWarning: This function is deprecated. Please call randint(0, 1 + 1) instead\n",
      "  for k in range(n_resampling))\n",
      "/Users/joshua/anaconda/envs/python3/lib/python3.5/site-packages/sklearn/linear_model/randomized_l1.py:515: VisibleDeprecationWarning: boolean index did not match indexed array along dimension 0; dimension is 729053 but corresponding boolean dimension is 1000\n",
      "  y = y[mask]\n",
      "/Users/joshua/anaconda/envs/python3/lib/python3.5/site-packages/sklearn/linear_model/randomized_l1.py:609: DeprecationWarning: This function is deprecated. Please call randint(0, 1 + 1) instead\n",
      "  for k in range(n_resampling))\n",
      "/Users/joshua/anaconda/envs/python3/lib/python3.5/site-packages/sklearn/linear_model/randomized_l1.py:515: VisibleDeprecationWarning: boolean index did not match indexed array along dimension 0; dimension is 729053 but corresponding boolean dimension is 1000\n",
      "  y = y[mask]\n",
      "/Users/joshua/anaconda/envs/python3/lib/python3.5/site-packages/sklearn/linear_model/randomized_l1.py:609: DeprecationWarning: This function is deprecated. Please call randint(0, 1 + 1) instead\n",
      "  for k in range(n_resampling))\n",
      "/Users/joshua/anaconda/envs/python3/lib/python3.5/site-packages/sklearn/linear_model/randomized_l1.py:515: VisibleDeprecationWarning: boolean index did not match indexed array along dimension 0; dimension is 729053 but corresponding boolean dimension is 1000\n",
      "  y = y[mask]\n",
      "/Users/joshua/anaconda/envs/python3/lib/python3.5/site-packages/sklearn/linear_model/randomized_l1.py:609: DeprecationWarning: This function is deprecated. Please call randint(0, 1 + 1) instead\n",
      "  for k in range(n_resampling))\n",
      "/Users/joshua/anaconda/envs/python3/lib/python3.5/site-packages/sklearn/linear_model/randomized_l1.py:515: VisibleDeprecationWarning: boolean index did not match indexed array along dimension 0; dimension is 729053 but corresponding boolean dimension is 1000\n",
      "  y = y[mask]\n",
      "/Users/joshua/anaconda/envs/python3/lib/python3.5/site-packages/sklearn/linear_model/randomized_l1.py:609: DeprecationWarning: This function is deprecated. Please call randint(0, 1 + 1) instead\n",
      "  for k in range(n_resampling))\n",
      "/Users/joshua/anaconda/envs/python3/lib/python3.5/site-packages/sklearn/linear_model/randomized_l1.py:515: VisibleDeprecationWarning: boolean index did not match indexed array along dimension 0; dimension is 729053 but corresponding boolean dimension is 1000\n",
      "  y = y[mask]\n",
      "/Users/joshua/anaconda/envs/python3/lib/python3.5/site-packages/sklearn/linear_model/randomized_l1.py:609: DeprecationWarning: This function is deprecated. Please call randint(0, 1 + 1) instead\n",
      "  for k in range(n_resampling))\n",
      "/Users/joshua/anaconda/envs/python3/lib/python3.5/site-packages/sklearn/linear_model/randomized_l1.py:515: VisibleDeprecationWarning: boolean index did not match indexed array along dimension 0; dimension is 729053 but corresponding boolean dimension is 1000\n",
      "  y = y[mask]\n",
      "/Users/joshua/anaconda/envs/python3/lib/python3.5/site-packages/sklearn/linear_model/randomized_l1.py:609: DeprecationWarning: This function is deprecated. Please call randint(0, 1 + 1) instead\n",
      "  for k in range(n_resampling))\n",
      "/Users/joshua/anaconda/envs/python3/lib/python3.5/site-packages/sklearn/linear_model/randomized_l1.py:515: VisibleDeprecationWarning: boolean index did not match indexed array along dimension 0; dimension is 729053 but corresponding boolean dimension is 1000\n",
      "  y = y[mask]\n",
      "/Users/joshua/anaconda/envs/python3/lib/python3.5/site-packages/sklearn/linear_model/randomized_l1.py:609: DeprecationWarning: This function is deprecated. Please call randint(0, 1 + 1) instead\n",
      "  for k in range(n_resampling))\n",
      "/Users/joshua/anaconda/envs/python3/lib/python3.5/site-packages/sklearn/linear_model/randomized_l1.py:515: VisibleDeprecationWarning: boolean index did not match indexed array along dimension 0; dimension is 729053 but corresponding boolean dimension is 1000\n",
      "  y = y[mask]\n",
      "/Users/joshua/anaconda/envs/python3/lib/python3.5/site-packages/sklearn/linear_model/randomized_l1.py:609: DeprecationWarning: This function is deprecated. Please call randint(0, 1 + 1) instead\n",
      "  for k in range(n_resampling))\n",
      "/Users/joshua/anaconda/envs/python3/lib/python3.5/site-packages/sklearn/linear_model/randomized_l1.py:515: VisibleDeprecationWarning: boolean index did not match indexed array along dimension 0; dimension is 729053 but corresponding boolean dimension is 1000\n",
      "  y = y[mask]\n",
      "/Users/joshua/anaconda/envs/python3/lib/python3.5/site-packages/sklearn/linear_model/randomized_l1.py:609: DeprecationWarning: This function is deprecated. Please call randint(0, 1 + 1) instead\n",
      "  for k in range(n_resampling))\n",
      "/Users/joshua/anaconda/envs/python3/lib/python3.5/site-packages/sklearn/linear_model/randomized_l1.py:515: VisibleDeprecationWarning: boolean index did not match indexed array along dimension 0; dimension is 729053 but corresponding boolean dimension is 1000\n",
      "  y = y[mask]\n",
      "/Users/joshua/anaconda/envs/python3/lib/python3.5/site-packages/sklearn/linear_model/randomized_l1.py:609: DeprecationWarning: This function is deprecated. Please call randint(0, 1 + 1) instead\n",
      "  for k in range(n_resampling))\n",
      "/Users/joshua/anaconda/envs/python3/lib/python3.5/site-packages/sklearn/linear_model/randomized_l1.py:515: VisibleDeprecationWarning: boolean index did not match indexed array along dimension 0; dimension is 729053 but corresponding boolean dimension is 1000\n",
      "  y = y[mask]\n",
      "/Users/joshua/anaconda/envs/python3/lib/python3.5/site-packages/sklearn/linear_model/randomized_l1.py:609: DeprecationWarning: This function is deprecated. Please call randint(0, 1 + 1) instead\n",
      "  for k in range(n_resampling))\n",
      "/Users/joshua/anaconda/envs/python3/lib/python3.5/site-packages/sklearn/linear_model/randomized_l1.py:515: VisibleDeprecationWarning: boolean index did not match indexed array along dimension 0; dimension is 729053 but corresponding boolean dimension is 1000\n",
      "  y = y[mask]\n",
      "/Users/joshua/anaconda/envs/python3/lib/python3.5/site-packages/sklearn/linear_model/randomized_l1.py:609: DeprecationWarning: This function is deprecated. Please call randint(0, 1 + 1) instead\n",
      "  for k in range(n_resampling))\n",
      "/Users/joshua/anaconda/envs/python3/lib/python3.5/site-packages/sklearn/linear_model/randomized_l1.py:515: VisibleDeprecationWarning: boolean index did not match indexed array along dimension 0; dimension is 729053 but corresponding boolean dimension is 1000\n",
      "  y = y[mask]\n",
      "/Users/joshua/anaconda/envs/python3/lib/python3.5/site-packages/sklearn/linear_model/randomized_l1.py:609: DeprecationWarning: This function is deprecated. Please call randint(0, 1 + 1) instead\n",
      "  for k in range(n_resampling))\n",
      "/Users/joshua/anaconda/envs/python3/lib/python3.5/site-packages/sklearn/linear_model/randomized_l1.py:515: VisibleDeprecationWarning: boolean index did not match indexed array along dimension 0; dimension is 729053 but corresponding boolean dimension is 1000\n",
      "  y = y[mask]\n",
      "/Users/joshua/anaconda/envs/python3/lib/python3.5/site-packages/sklearn/linear_model/randomized_l1.py:609: DeprecationWarning: This function is deprecated. Please call randint(0, 1 + 1) instead\n",
      "  for k in range(n_resampling))\n",
      "/Users/joshua/anaconda/envs/python3/lib/python3.5/site-packages/sklearn/linear_model/randomized_l1.py:515: VisibleDeprecationWarning: boolean index did not match indexed array along dimension 0; dimension is 729053 but corresponding boolean dimension is 1000\n",
      "  y = y[mask]\n",
      "/Users/joshua/anaconda/envs/python3/lib/python3.5/site-packages/sklearn/linear_model/randomized_l1.py:609: DeprecationWarning: This function is deprecated. Please call randint(0, 1 + 1) instead\n",
      "  for k in range(n_resampling))\n",
      "/Users/joshua/anaconda/envs/python3/lib/python3.5/site-packages/sklearn/linear_model/randomized_l1.py:515: VisibleDeprecationWarning: boolean index did not match indexed array along dimension 0; dimension is 729053 but corresponding boolean dimension is 1000\n",
      "  y = y[mask]\n",
      "/Users/joshua/anaconda/envs/python3/lib/python3.5/site-packages/sklearn/linear_model/randomized_l1.py:609: DeprecationWarning: This function is deprecated. Please call randint(0, 1 + 1) instead\n",
      "  for k in range(n_resampling))\n",
      "/Users/joshua/anaconda/envs/python3/lib/python3.5/site-packages/sklearn/linear_model/randomized_l1.py:515: VisibleDeprecationWarning: boolean index did not match indexed array along dimension 0; dimension is 729053 but corresponding boolean dimension is 1000\n",
      "  y = y[mask]\n",
      "/Users/joshua/anaconda/envs/python3/lib/python3.5/site-packages/sklearn/linear_model/randomized_l1.py:609: DeprecationWarning: This function is deprecated. Please call randint(0, 1 + 1) instead\n",
      "  for k in range(n_resampling))\n",
      "/Users/joshua/anaconda/envs/python3/lib/python3.5/site-packages/sklearn/linear_model/randomized_l1.py:515: VisibleDeprecationWarning: boolean index did not match indexed array along dimension 0; dimension is 729053 but corresponding boolean dimension is 1000\n",
      "  y = y[mask]\n",
      "/Users/joshua/anaconda/envs/python3/lib/python3.5/site-packages/sklearn/linear_model/randomized_l1.py:609: DeprecationWarning: This function is deprecated. Please call randint(0, 1 + 1) instead\n",
      "  for k in range(n_resampling))\n",
      "/Users/joshua/anaconda/envs/python3/lib/python3.5/site-packages/sklearn/linear_model/randomized_l1.py:515: VisibleDeprecationWarning: boolean index did not match indexed array along dimension 0; dimension is 729053 but corresponding boolean dimension is 1000\n",
      "  y = y[mask]\n",
      "/Users/joshua/anaconda/envs/python3/lib/python3.5/site-packages/sklearn/linear_model/randomized_l1.py:609: DeprecationWarning: This function is deprecated. Please call randint(0, 1 + 1) instead\n",
      "  for k in range(n_resampling))\n",
      "/Users/joshua/anaconda/envs/python3/lib/python3.5/site-packages/sklearn/linear_model/randomized_l1.py:515: VisibleDeprecationWarning: boolean index did not match indexed array along dimension 0; dimension is 729053 but corresponding boolean dimension is 1000\n",
      "  y = y[mask]\n",
      "/Users/joshua/anaconda/envs/python3/lib/python3.5/site-packages/sklearn/linear_model/randomized_l1.py:609: DeprecationWarning: This function is deprecated. Please call randint(0, 1 + 1) instead\n",
      "  for k in range(n_resampling))\n",
      "/Users/joshua/anaconda/envs/python3/lib/python3.5/site-packages/sklearn/linear_model/randomized_l1.py:515: VisibleDeprecationWarning: boolean index did not match indexed array along dimension 0; dimension is 729053 but corresponding boolean dimension is 1000\n",
      "  y = y[mask]\n",
      "/Users/joshua/anaconda/envs/python3/lib/python3.5/site-packages/sklearn/linear_model/randomized_l1.py:609: DeprecationWarning: This function is deprecated. Please call randint(0, 1 + 1) instead\n",
      "  for k in range(n_resampling))\n",
      "/Users/joshua/anaconda/envs/python3/lib/python3.5/site-packages/sklearn/linear_model/randomized_l1.py:515: VisibleDeprecationWarning: boolean index did not match indexed array along dimension 0; dimension is 729053 but corresponding boolean dimension is 1000\n",
      "  y = y[mask]\n",
      "/Users/joshua/anaconda/envs/python3/lib/python3.5/site-packages/sklearn/linear_model/randomized_l1.py:609: DeprecationWarning: This function is deprecated. Please call randint(0, 1 + 1) instead\n",
      "  for k in range(n_resampling))\n",
      "/Users/joshua/anaconda/envs/python3/lib/python3.5/site-packages/sklearn/linear_model/randomized_l1.py:515: VisibleDeprecationWarning: boolean index did not match indexed array along dimension 0; dimension is 729053 but corresponding boolean dimension is 1000\n",
      "  y = y[mask]\n",
      "/Users/joshua/anaconda/envs/python3/lib/python3.5/site-packages/sklearn/linear_model/randomized_l1.py:609: DeprecationWarning: This function is deprecated. Please call randint(0, 1 + 1) instead\n",
      "  for k in range(n_resampling))\n",
      "/Users/joshua/anaconda/envs/python3/lib/python3.5/site-packages/sklearn/linear_model/randomized_l1.py:515: VisibleDeprecationWarning: boolean index did not match indexed array along dimension 0; dimension is 729053 but corresponding boolean dimension is 1000\n",
      "  y = y[mask]\n",
      "/Users/joshua/anaconda/envs/python3/lib/python3.5/site-packages/sklearn/linear_model/randomized_l1.py:609: DeprecationWarning: This function is deprecated. Please call randint(0, 1 + 1) instead\n",
      "  for k in range(n_resampling))\n",
      "/Users/joshua/anaconda/envs/python3/lib/python3.5/site-packages/sklearn/linear_model/randomized_l1.py:515: VisibleDeprecationWarning: boolean index did not match indexed array along dimension 0; dimension is 729053 but corresponding boolean dimension is 1000\n",
      "  y = y[mask]\n",
      "/Users/joshua/anaconda/envs/python3/lib/python3.5/site-packages/sklearn/linear_model/randomized_l1.py:609: DeprecationWarning: This function is deprecated. Please call randint(0, 1 + 1) instead\n",
      "  for k in range(n_resampling))\n",
      "/Users/joshua/anaconda/envs/python3/lib/python3.5/site-packages/sklearn/linear_model/randomized_l1.py:515: VisibleDeprecationWarning: boolean index did not match indexed array along dimension 0; dimension is 729053 but corresponding boolean dimension is 1000\n",
      "  y = y[mask]\n",
      "/Users/joshua/anaconda/envs/python3/lib/python3.5/site-packages/sklearn/linear_model/randomized_l1.py:609: DeprecationWarning: This function is deprecated. Please call randint(0, 1 + 1) instead\n",
      "  for k in range(n_resampling))\n",
      "/Users/joshua/anaconda/envs/python3/lib/python3.5/site-packages/sklearn/linear_model/randomized_l1.py:515: VisibleDeprecationWarning: boolean index did not match indexed array along dimension 0; dimension is 729053 but corresponding boolean dimension is 1000\n",
      "  y = y[mask]\n",
      "/Users/joshua/anaconda/envs/python3/lib/python3.5/site-packages/sklearn/linear_model/randomized_l1.py:609: DeprecationWarning: This function is deprecated. Please call randint(0, 1 + 1) instead\n",
      "  for k in range(n_resampling))\n",
      "/Users/joshua/anaconda/envs/python3/lib/python3.5/site-packages/sklearn/linear_model/randomized_l1.py:515: VisibleDeprecationWarning: boolean index did not match indexed array along dimension 0; dimension is 729053 but corresponding boolean dimension is 1000\n",
      "  y = y[mask]\n",
      "/Users/joshua/anaconda/envs/python3/lib/python3.5/site-packages/sklearn/linear_model/randomized_l1.py:609: DeprecationWarning: This function is deprecated. Please call randint(0, 1 + 1) instead\n",
      "  for k in range(n_resampling))\n",
      "/Users/joshua/anaconda/envs/python3/lib/python3.5/site-packages/sklearn/linear_model/randomized_l1.py:515: VisibleDeprecationWarning: boolean index did not match indexed array along dimension 0; dimension is 729053 but corresponding boolean dimension is 1000\n",
      "  y = y[mask]\n",
      "/Users/joshua/anaconda/envs/python3/lib/python3.5/site-packages/sklearn/linear_model/randomized_l1.py:609: DeprecationWarning: This function is deprecated. Please call randint(0, 1 + 1) instead\n",
      "  for k in range(n_resampling))\n",
      "/Users/joshua/anaconda/envs/python3/lib/python3.5/site-packages/sklearn/linear_model/randomized_l1.py:515: VisibleDeprecationWarning: boolean index did not match indexed array along dimension 0; dimension is 729053 but corresponding boolean dimension is 1000\n",
      "  y = y[mask]\n",
      "/Users/joshua/anaconda/envs/python3/lib/python3.5/site-packages/sklearn/linear_model/randomized_l1.py:609: DeprecationWarning: This function is deprecated. Please call randint(0, 1 + 1) instead\n",
      "  for k in range(n_resampling))\n",
      "/Users/joshua/anaconda/envs/python3/lib/python3.5/site-packages/sklearn/linear_model/randomized_l1.py:515: VisibleDeprecationWarning: boolean index did not match indexed array along dimension 0; dimension is 729053 but corresponding boolean dimension is 1000\n",
      "  y = y[mask]\n",
      "/Users/joshua/anaconda/envs/python3/lib/python3.5/site-packages/sklearn/linear_model/randomized_l1.py:609: DeprecationWarning: This function is deprecated. Please call randint(0, 1 + 1) instead\n",
      "  for k in range(n_resampling))\n",
      "/Users/joshua/anaconda/envs/python3/lib/python3.5/site-packages/sklearn/linear_model/randomized_l1.py:515: VisibleDeprecationWarning: boolean index did not match indexed array along dimension 0; dimension is 729053 but corresponding boolean dimension is 1000\n",
      "  y = y[mask]\n",
      "/Users/joshua/anaconda/envs/python3/lib/python3.5/site-packages/sklearn/linear_model/randomized_l1.py:609: DeprecationWarning: This function is deprecated. Please call randint(0, 1 + 1) instead\n",
      "  for k in range(n_resampling))\n",
      "/Users/joshua/anaconda/envs/python3/lib/python3.5/site-packages/sklearn/linear_model/randomized_l1.py:515: VisibleDeprecationWarning: boolean index did not match indexed array along dimension 0; dimension is 729053 but corresponding boolean dimension is 1000\n",
      "  y = y[mask]\n",
      "/Users/joshua/anaconda/envs/python3/lib/python3.5/site-packages/sklearn/linear_model/randomized_l1.py:609: DeprecationWarning: This function is deprecated. Please call randint(0, 1 + 1) instead\n",
      "  for k in range(n_resampling))\n",
      "/Users/joshua/anaconda/envs/python3/lib/python3.5/site-packages/sklearn/linear_model/randomized_l1.py:515: VisibleDeprecationWarning: boolean index did not match indexed array along dimension 0; dimension is 729053 but corresponding boolean dimension is 1000\n",
      "  y = y[mask]\n",
      "/Users/joshua/anaconda/envs/python3/lib/python3.5/site-packages/sklearn/linear_model/randomized_l1.py:609: DeprecationWarning: This function is deprecated. Please call randint(0, 1 + 1) instead\n",
      "  for k in range(n_resampling))\n",
      "/Users/joshua/anaconda/envs/python3/lib/python3.5/site-packages/sklearn/linear_model/randomized_l1.py:515: VisibleDeprecationWarning: boolean index did not match indexed array along dimension 0; dimension is 729053 but corresponding boolean dimension is 1000\n",
      "  y = y[mask]\n",
      "/Users/joshua/anaconda/envs/python3/lib/python3.5/site-packages/sklearn/linear_model/randomized_l1.py:609: DeprecationWarning: This function is deprecated. Please call randint(0, 1 + 1) instead\n",
      "  for k in range(n_resampling))\n",
      "/Users/joshua/anaconda/envs/python3/lib/python3.5/site-packages/sklearn/linear_model/randomized_l1.py:515: VisibleDeprecationWarning: boolean index did not match indexed array along dimension 0; dimension is 729053 but corresponding boolean dimension is 1000\n",
      "  y = y[mask]\n",
      "/Users/joshua/anaconda/envs/python3/lib/python3.5/site-packages/sklearn/linear_model/randomized_l1.py:609: DeprecationWarning: This function is deprecated. Please call randint(0, 1 + 1) instead\n",
      "  for k in range(n_resampling))\n",
      "/Users/joshua/anaconda/envs/python3/lib/python3.5/site-packages/sklearn/linear_model/randomized_l1.py:515: VisibleDeprecationWarning: boolean index did not match indexed array along dimension 0; dimension is 729053 but corresponding boolean dimension is 1000\n",
      "  y = y[mask]\n",
      "/Users/joshua/anaconda/envs/python3/lib/python3.5/site-packages/sklearn/linear_model/randomized_l1.py:609: DeprecationWarning: This function is deprecated. Please call randint(0, 1 + 1) instead\n",
      "  for k in range(n_resampling))\n",
      "/Users/joshua/anaconda/envs/python3/lib/python3.5/site-packages/sklearn/linear_model/randomized_l1.py:515: VisibleDeprecationWarning: boolean index did not match indexed array along dimension 0; dimension is 729053 but corresponding boolean dimension is 1000\n",
      "  y = y[mask]\n",
      "/Users/joshua/anaconda/envs/python3/lib/python3.5/site-packages/sklearn/linear_model/randomized_l1.py:609: DeprecationWarning: This function is deprecated. Please call randint(0, 1 + 1) instead\n",
      "  for k in range(n_resampling))\n",
      "/Users/joshua/anaconda/envs/python3/lib/python3.5/site-packages/sklearn/linear_model/randomized_l1.py:515: VisibleDeprecationWarning: boolean index did not match indexed array along dimension 0; dimension is 729053 but corresponding boolean dimension is 1000\n",
      "  y = y[mask]\n",
      "/Users/joshua/anaconda/envs/python3/lib/python3.5/site-packages/sklearn/linear_model/randomized_l1.py:609: DeprecationWarning: This function is deprecated. Please call randint(0, 1 + 1) instead\n",
      "  for k in range(n_resampling))\n",
      "/Users/joshua/anaconda/envs/python3/lib/python3.5/site-packages/sklearn/linear_model/randomized_l1.py:515: VisibleDeprecationWarning: boolean index did not match indexed array along dimension 0; dimension is 729053 but corresponding boolean dimension is 1000\n",
      "  y = y[mask]\n",
      "/Users/joshua/anaconda/envs/python3/lib/python3.5/site-packages/sklearn/linear_model/randomized_l1.py:609: DeprecationWarning: This function is deprecated. Please call randint(0, 1 + 1) instead\n",
      "  for k in range(n_resampling))\n",
      "/Users/joshua/anaconda/envs/python3/lib/python3.5/site-packages/sklearn/linear_model/randomized_l1.py:515: VisibleDeprecationWarning: boolean index did not match indexed array along dimension 0; dimension is 729053 but corresponding boolean dimension is 1000\n",
      "  y = y[mask]\n",
      "/Users/joshua/anaconda/envs/python3/lib/python3.5/site-packages/sklearn/linear_model/randomized_l1.py:609: DeprecationWarning: This function is deprecated. Please call randint(0, 1 + 1) instead\n",
      "  for k in range(n_resampling))\n",
      "/Users/joshua/anaconda/envs/python3/lib/python3.5/site-packages/sklearn/linear_model/randomized_l1.py:515: VisibleDeprecationWarning: boolean index did not match indexed array along dimension 0; dimension is 729053 but corresponding boolean dimension is 1000\n",
      "  y = y[mask]\n",
      "/Users/joshua/anaconda/envs/python3/lib/python3.5/site-packages/sklearn/linear_model/randomized_l1.py:609: DeprecationWarning: This function is deprecated. Please call randint(0, 1 + 1) instead\n",
      "  for k in range(n_resampling))\n",
      "/Users/joshua/anaconda/envs/python3/lib/python3.5/site-packages/sklearn/linear_model/randomized_l1.py:515: VisibleDeprecationWarning: boolean index did not match indexed array along dimension 0; dimension is 729053 but corresponding boolean dimension is 1000\n",
      "  y = y[mask]\n",
      "/Users/joshua/anaconda/envs/python3/lib/python3.5/site-packages/sklearn/linear_model/randomized_l1.py:609: DeprecationWarning: This function is deprecated. Please call randint(0, 1 + 1) instead\n",
      "  for k in range(n_resampling))\n",
      "/Users/joshua/anaconda/envs/python3/lib/python3.5/site-packages/sklearn/linear_model/randomized_l1.py:515: VisibleDeprecationWarning: boolean index did not match indexed array along dimension 0; dimension is 729053 but corresponding boolean dimension is 1000\n",
      "  y = y[mask]\n",
      "/Users/joshua/anaconda/envs/python3/lib/python3.5/site-packages/sklearn/linear_model/randomized_l1.py:609: DeprecationWarning: This function is deprecated. Please call randint(0, 1 + 1) instead\n",
      "  for k in range(n_resampling))\n",
      "/Users/joshua/anaconda/envs/python3/lib/python3.5/site-packages/sklearn/linear_model/randomized_l1.py:515: VisibleDeprecationWarning: boolean index did not match indexed array along dimension 0; dimension is 729053 but corresponding boolean dimension is 1000\n",
      "  y = y[mask]\n",
      "/Users/joshua/anaconda/envs/python3/lib/python3.5/site-packages/sklearn/linear_model/randomized_l1.py:609: DeprecationWarning: This function is deprecated. Please call randint(0, 1 + 1) instead\n",
      "  for k in range(n_resampling))\n",
      "/Users/joshua/anaconda/envs/python3/lib/python3.5/site-packages/sklearn/linear_model/randomized_l1.py:515: VisibleDeprecationWarning: boolean index did not match indexed array along dimension 0; dimension is 729053 but corresponding boolean dimension is 1000\n",
      "  y = y[mask]\n",
      "/Users/joshua/anaconda/envs/python3/lib/python3.5/site-packages/sklearn/linear_model/randomized_l1.py:609: DeprecationWarning: This function is deprecated. Please call randint(0, 1 + 1) instead\n",
      "  for k in range(n_resampling))\n",
      "/Users/joshua/anaconda/envs/python3/lib/python3.5/site-packages/sklearn/linear_model/randomized_l1.py:515: VisibleDeprecationWarning: boolean index did not match indexed array along dimension 0; dimension is 729053 but corresponding boolean dimension is 1000\n",
      "  y = y[mask]\n",
      "/Users/joshua/anaconda/envs/python3/lib/python3.5/site-packages/sklearn/linear_model/randomized_l1.py:609: DeprecationWarning: This function is deprecated. Please call randint(0, 1 + 1) instead\n",
      "  for k in range(n_resampling))\n",
      "/Users/joshua/anaconda/envs/python3/lib/python3.5/site-packages/sklearn/linear_model/randomized_l1.py:515: VisibleDeprecationWarning: boolean index did not match indexed array along dimension 0; dimension is 729053 but corresponding boolean dimension is 1000\n",
      "  y = y[mask]\n",
      "/Users/joshua/anaconda/envs/python3/lib/python3.5/site-packages/sklearn/linear_model/randomized_l1.py:609: DeprecationWarning: This function is deprecated. Please call randint(0, 1 + 1) instead\n",
      "  for k in range(n_resampling))\n",
      "/Users/joshua/anaconda/envs/python3/lib/python3.5/site-packages/sklearn/linear_model/randomized_l1.py:515: VisibleDeprecationWarning: boolean index did not match indexed array along dimension 0; dimension is 729053 but corresponding boolean dimension is 1000\n",
      "  y = y[mask]\n",
      "/Users/joshua/anaconda/envs/python3/lib/python3.5/site-packages/sklearn/linear_model/randomized_l1.py:609: DeprecationWarning: This function is deprecated. Please call randint(0, 1 + 1) instead\n",
      "  for k in range(n_resampling))\n",
      "/Users/joshua/anaconda/envs/python3/lib/python3.5/site-packages/sklearn/linear_model/randomized_l1.py:515: VisibleDeprecationWarning: boolean index did not match indexed array along dimension 0; dimension is 729053 but corresponding boolean dimension is 1000\n",
      "  y = y[mask]\n",
      "/Users/joshua/anaconda/envs/python3/lib/python3.5/site-packages/sklearn/linear_model/randomized_l1.py:609: DeprecationWarning: This function is deprecated. Please call randint(0, 1 + 1) instead\n",
      "  for k in range(n_resampling))\n",
      "/Users/joshua/anaconda/envs/python3/lib/python3.5/site-packages/sklearn/linear_model/randomized_l1.py:515: VisibleDeprecationWarning: boolean index did not match indexed array along dimension 0; dimension is 729053 but corresponding boolean dimension is 1000\n",
      "  y = y[mask]\n",
      "/Users/joshua/anaconda/envs/python3/lib/python3.5/site-packages/sklearn/linear_model/randomized_l1.py:609: DeprecationWarning: This function is deprecated. Please call randint(0, 1 + 1) instead\n",
      "  for k in range(n_resampling))\n",
      "/Users/joshua/anaconda/envs/python3/lib/python3.5/site-packages/sklearn/linear_model/randomized_l1.py:515: VisibleDeprecationWarning: boolean index did not match indexed array along dimension 0; dimension is 729053 but corresponding boolean dimension is 1000\n",
      "  y = y[mask]\n",
      "/Users/joshua/anaconda/envs/python3/lib/python3.5/site-packages/sklearn/linear_model/randomized_l1.py:609: DeprecationWarning: This function is deprecated. Please call randint(0, 1 + 1) instead\n",
      "  for k in range(n_resampling))\n",
      "/Users/joshua/anaconda/envs/python3/lib/python3.5/site-packages/sklearn/linear_model/randomized_l1.py:515: VisibleDeprecationWarning: boolean index did not match indexed array along dimension 0; dimension is 729053 but corresponding boolean dimension is 1000\n",
      "  y = y[mask]\n",
      "/Users/joshua/anaconda/envs/python3/lib/python3.5/site-packages/sklearn/linear_model/randomized_l1.py:609: DeprecationWarning: This function is deprecated. Please call randint(0, 1 + 1) instead\n",
      "  for k in range(n_resampling))\n",
      "/Users/joshua/anaconda/envs/python3/lib/python3.5/site-packages/sklearn/linear_model/randomized_l1.py:515: VisibleDeprecationWarning: boolean index did not match indexed array along dimension 0; dimension is 729053 but corresponding boolean dimension is 1000\n",
      "  y = y[mask]\n",
      "/Users/joshua/anaconda/envs/python3/lib/python3.5/site-packages/sklearn/linear_model/randomized_l1.py:609: DeprecationWarning: This function is deprecated. Please call randint(0, 1 + 1) instead\n",
      "  for k in range(n_resampling))\n",
      "/Users/joshua/anaconda/envs/python3/lib/python3.5/site-packages/sklearn/linear_model/randomized_l1.py:515: VisibleDeprecationWarning: boolean index did not match indexed array along dimension 0; dimension is 729053 but corresponding boolean dimension is 1000\n",
      "  y = y[mask]\n",
      "/Users/joshua/anaconda/envs/python3/lib/python3.5/site-packages/sklearn/linear_model/randomized_l1.py:609: DeprecationWarning: This function is deprecated. Please call randint(0, 1 + 1) instead\n",
      "  for k in range(n_resampling))\n",
      "/Users/joshua/anaconda/envs/python3/lib/python3.5/site-packages/sklearn/linear_model/randomized_l1.py:515: VisibleDeprecationWarning: boolean index did not match indexed array along dimension 0; dimension is 729053 but corresponding boolean dimension is 1000\n",
      "  y = y[mask]\n",
      "/Users/joshua/anaconda/envs/python3/lib/python3.5/site-packages/sklearn/linear_model/randomized_l1.py:609: DeprecationWarning: This function is deprecated. Please call randint(0, 1 + 1) instead\n",
      "  for k in range(n_resampling))\n",
      "/Users/joshua/anaconda/envs/python3/lib/python3.5/site-packages/sklearn/linear_model/randomized_l1.py:515: VisibleDeprecationWarning: boolean index did not match indexed array along dimension 0; dimension is 729053 but corresponding boolean dimension is 1000\n",
      "  y = y[mask]\n",
      "/Users/joshua/anaconda/envs/python3/lib/python3.5/site-packages/sklearn/linear_model/randomized_l1.py:609: DeprecationWarning: This function is deprecated. Please call randint(0, 1 + 1) instead\n",
      "  for k in range(n_resampling))\n",
      "/Users/joshua/anaconda/envs/python3/lib/python3.5/site-packages/sklearn/linear_model/randomized_l1.py:515: VisibleDeprecationWarning: boolean index did not match indexed array along dimension 0; dimension is 729053 but corresponding boolean dimension is 1000\n",
      "  y = y[mask]\n",
      "/Users/joshua/anaconda/envs/python3/lib/python3.5/site-packages/sklearn/linear_model/randomized_l1.py:609: DeprecationWarning: This function is deprecated. Please call randint(0, 1 + 1) instead\n",
      "  for k in range(n_resampling))\n",
      "/Users/joshua/anaconda/envs/python3/lib/python3.5/site-packages/sklearn/linear_model/randomized_l1.py:515: VisibleDeprecationWarning: boolean index did not match indexed array along dimension 0; dimension is 729053 but corresponding boolean dimension is 1000\n",
      "  y = y[mask]\n",
      "/Users/joshua/anaconda/envs/python3/lib/python3.5/site-packages/sklearn/linear_model/randomized_l1.py:609: DeprecationWarning: This function is deprecated. Please call randint(0, 1 + 1) instead\n",
      "  for k in range(n_resampling))\n",
      "/Users/joshua/anaconda/envs/python3/lib/python3.5/site-packages/sklearn/linear_model/randomized_l1.py:515: VisibleDeprecationWarning: boolean index did not match indexed array along dimension 0; dimension is 729053 but corresponding boolean dimension is 1000\n",
      "  y = y[mask]\n",
      "/Users/joshua/anaconda/envs/python3/lib/python3.5/site-packages/sklearn/linear_model/randomized_l1.py:609: DeprecationWarning: This function is deprecated. Please call randint(0, 1 + 1) instead\n",
      "  for k in range(n_resampling))\n",
      "/Users/joshua/anaconda/envs/python3/lib/python3.5/site-packages/sklearn/linear_model/randomized_l1.py:515: VisibleDeprecationWarning: boolean index did not match indexed array along dimension 0; dimension is 729053 but corresponding boolean dimension is 1000\n",
      "  y = y[mask]\n",
      "/Users/joshua/anaconda/envs/python3/lib/python3.5/site-packages/sklearn/linear_model/randomized_l1.py:609: DeprecationWarning: This function is deprecated. Please call randint(0, 1 + 1) instead\n",
      "  for k in range(n_resampling))\n",
      "/Users/joshua/anaconda/envs/python3/lib/python3.5/site-packages/sklearn/linear_model/randomized_l1.py:515: VisibleDeprecationWarning: boolean index did not match indexed array along dimension 0; dimension is 729053 but corresponding boolean dimension is 1000\n",
      "  y = y[mask]\n",
      "/Users/joshua/anaconda/envs/python3/lib/python3.5/site-packages/sklearn/linear_model/randomized_l1.py:609: DeprecationWarning: This function is deprecated. Please call randint(0, 1 + 1) instead\n",
      "  for k in range(n_resampling))\n",
      "/Users/joshua/anaconda/envs/python3/lib/python3.5/site-packages/sklearn/linear_model/randomized_l1.py:515: VisibleDeprecationWarning: boolean index did not match indexed array along dimension 0; dimension is 729053 but corresponding boolean dimension is 1000\n",
      "  y = y[mask]\n",
      "/Users/joshua/anaconda/envs/python3/lib/python3.5/site-packages/sklearn/linear_model/randomized_l1.py:609: DeprecationWarning: This function is deprecated. Please call randint(0, 1 + 1) instead\n",
      "  for k in range(n_resampling))\n",
      "/Users/joshua/anaconda/envs/python3/lib/python3.5/site-packages/sklearn/linear_model/randomized_l1.py:515: VisibleDeprecationWarning: boolean index did not match indexed array along dimension 0; dimension is 729053 but corresponding boolean dimension is 1000\n",
      "  y = y[mask]\n",
      "/Users/joshua/anaconda/envs/python3/lib/python3.5/site-packages/sklearn/linear_model/randomized_l1.py:609: DeprecationWarning: This function is deprecated. Please call randint(0, 1 + 1) instead\n",
      "  for k in range(n_resampling))\n",
      "/Users/joshua/anaconda/envs/python3/lib/python3.5/site-packages/sklearn/linear_model/randomized_l1.py:515: VisibleDeprecationWarning: boolean index did not match indexed array along dimension 0; dimension is 729053 but corresponding boolean dimension is 1000\n",
      "  y = y[mask]\n",
      "/Users/joshua/anaconda/envs/python3/lib/python3.5/site-packages/sklearn/linear_model/randomized_l1.py:609: DeprecationWarning: This function is deprecated. Please call randint(0, 1 + 1) instead\n",
      "  for k in range(n_resampling))\n",
      "/Users/joshua/anaconda/envs/python3/lib/python3.5/site-packages/sklearn/linear_model/randomized_l1.py:515: VisibleDeprecationWarning: boolean index did not match indexed array along dimension 0; dimension is 729053 but corresponding boolean dimension is 1000\n",
      "  y = y[mask]\n",
      "/Users/joshua/anaconda/envs/python3/lib/python3.5/site-packages/sklearn/linear_model/randomized_l1.py:609: DeprecationWarning: This function is deprecated. Please call randint(0, 1 + 1) instead\n",
      "  for k in range(n_resampling))\n",
      "/Users/joshua/anaconda/envs/python3/lib/python3.5/site-packages/sklearn/linear_model/randomized_l1.py:515: VisibleDeprecationWarning: boolean index did not match indexed array along dimension 0; dimension is 729053 but corresponding boolean dimension is 1000\n",
      "  y = y[mask]\n",
      "/Users/joshua/anaconda/envs/python3/lib/python3.5/site-packages/sklearn/linear_model/randomized_l1.py:609: DeprecationWarning: This function is deprecated. Please call randint(0, 1 + 1) instead\n",
      "  for k in range(n_resampling))\n",
      "/Users/joshua/anaconda/envs/python3/lib/python3.5/site-packages/sklearn/linear_model/randomized_l1.py:515: VisibleDeprecationWarning: boolean index did not match indexed array along dimension 0; dimension is 729053 but corresponding boolean dimension is 1000\n",
      "  y = y[mask]\n",
      "/Users/joshua/anaconda/envs/python3/lib/python3.5/site-packages/sklearn/linear_model/randomized_l1.py:609: DeprecationWarning: This function is deprecated. Please call randint(0, 1 + 1) instead\n",
      "  for k in range(n_resampling))\n",
      "/Users/joshua/anaconda/envs/python3/lib/python3.5/site-packages/sklearn/linear_model/randomized_l1.py:515: VisibleDeprecationWarning: boolean index did not match indexed array along dimension 0; dimension is 729053 but corresponding boolean dimension is 1000\n",
      "  y = y[mask]\n",
      "/Users/joshua/anaconda/envs/python3/lib/python3.5/site-packages/sklearn/linear_model/randomized_l1.py:609: DeprecationWarning: This function is deprecated. Please call randint(0, 1 + 1) instead\n",
      "  for k in range(n_resampling))\n",
      "/Users/joshua/anaconda/envs/python3/lib/python3.5/site-packages/sklearn/linear_model/randomized_l1.py:515: VisibleDeprecationWarning: boolean index did not match indexed array along dimension 0; dimension is 729053 but corresponding boolean dimension is 1000\n",
      "  y = y[mask]\n",
      "/Users/joshua/anaconda/envs/python3/lib/python3.5/site-packages/sklearn/linear_model/randomized_l1.py:609: DeprecationWarning: This function is deprecated. Please call randint(0, 1 + 1) instead\n",
      "  for k in range(n_resampling))\n",
      "/Users/joshua/anaconda/envs/python3/lib/python3.5/site-packages/sklearn/linear_model/randomized_l1.py:515: VisibleDeprecationWarning: boolean index did not match indexed array along dimension 0; dimension is 729053 but corresponding boolean dimension is 1000\n",
      "  y = y[mask]\n",
      "/Users/joshua/anaconda/envs/python3/lib/python3.5/site-packages/sklearn/linear_model/randomized_l1.py:609: DeprecationWarning: This function is deprecated. Please call randint(0, 1 + 1) instead\n",
      "  for k in range(n_resampling))\n",
      "/Users/joshua/anaconda/envs/python3/lib/python3.5/site-packages/sklearn/linear_model/randomized_l1.py:515: VisibleDeprecationWarning: boolean index did not match indexed array along dimension 0; dimension is 729053 but corresponding boolean dimension is 1000\n",
      "  y = y[mask]\n",
      "/Users/joshua/anaconda/envs/python3/lib/python3.5/site-packages/sklearn/linear_model/randomized_l1.py:609: DeprecationWarning: This function is deprecated. Please call randint(0, 1 + 1) instead\n",
      "  for k in range(n_resampling))\n",
      "/Users/joshua/anaconda/envs/python3/lib/python3.5/site-packages/sklearn/linear_model/randomized_l1.py:515: VisibleDeprecationWarning: boolean index did not match indexed array along dimension 0; dimension is 729053 but corresponding boolean dimension is 1000\n",
      "  y = y[mask]\n",
      "/Users/joshua/anaconda/envs/python3/lib/python3.5/site-packages/sklearn/linear_model/randomized_l1.py:609: DeprecationWarning: This function is deprecated. Please call randint(0, 1 + 1) instead\n",
      "  for k in range(n_resampling))\n",
      "/Users/joshua/anaconda/envs/python3/lib/python3.5/site-packages/sklearn/linear_model/randomized_l1.py:515: VisibleDeprecationWarning: boolean index did not match indexed array along dimension 0; dimension is 729053 but corresponding boolean dimension is 1000\n",
      "  y = y[mask]\n",
      "/Users/joshua/anaconda/envs/python3/lib/python3.5/site-packages/sklearn/linear_model/randomized_l1.py:609: DeprecationWarning: This function is deprecated. Please call randint(0, 1 + 1) instead\n",
      "  for k in range(n_resampling))\n",
      "/Users/joshua/anaconda/envs/python3/lib/python3.5/site-packages/sklearn/linear_model/randomized_l1.py:515: VisibleDeprecationWarning: boolean index did not match indexed array along dimension 0; dimension is 729053 but corresponding boolean dimension is 1000\n",
      "  y = y[mask]\n",
      "/Users/joshua/anaconda/envs/python3/lib/python3.5/site-packages/sklearn/linear_model/randomized_l1.py:609: DeprecationWarning: This function is deprecated. Please call randint(0, 1 + 1) instead\n",
      "  for k in range(n_resampling))\n",
      "/Users/joshua/anaconda/envs/python3/lib/python3.5/site-packages/sklearn/linear_model/randomized_l1.py:515: VisibleDeprecationWarning: boolean index did not match indexed array along dimension 0; dimension is 729053 but corresponding boolean dimension is 1000\n",
      "  y = y[mask]\n",
      "/Users/joshua/anaconda/envs/python3/lib/python3.5/site-packages/sklearn/linear_model/randomized_l1.py:609: DeprecationWarning: This function is deprecated. Please call randint(0, 1 + 1) instead\n",
      "  for k in range(n_resampling))\n",
      "/Users/joshua/anaconda/envs/python3/lib/python3.5/site-packages/sklearn/linear_model/randomized_l1.py:515: VisibleDeprecationWarning: boolean index did not match indexed array along dimension 0; dimension is 729053 but corresponding boolean dimension is 1000\n",
      "  y = y[mask]\n",
      "/Users/joshua/anaconda/envs/python3/lib/python3.5/site-packages/sklearn/linear_model/randomized_l1.py:609: DeprecationWarning: This function is deprecated. Please call randint(0, 1 + 1) instead\n",
      "  for k in range(n_resampling))\n",
      "/Users/joshua/anaconda/envs/python3/lib/python3.5/site-packages/sklearn/linear_model/randomized_l1.py:515: VisibleDeprecationWarning: boolean index did not match indexed array along dimension 0; dimension is 729053 but corresponding boolean dimension is 1000\n",
      "  y = y[mask]\n",
      "/Users/joshua/anaconda/envs/python3/lib/python3.5/site-packages/sklearn/linear_model/randomized_l1.py:609: DeprecationWarning: This function is deprecated. Please call randint(0, 1 + 1) instead\n",
      "  for k in range(n_resampling))\n",
      "/Users/joshua/anaconda/envs/python3/lib/python3.5/site-packages/sklearn/linear_model/randomized_l1.py:515: VisibleDeprecationWarning: boolean index did not match indexed array along dimension 0; dimension is 729053 but corresponding boolean dimension is 1000\n",
      "  y = y[mask]\n",
      "/Users/joshua/anaconda/envs/python3/lib/python3.5/site-packages/sklearn/linear_model/randomized_l1.py:609: DeprecationWarning: This function is deprecated. Please call randint(0, 1 + 1) instead\n",
      "  for k in range(n_resampling))\n",
      "/Users/joshua/anaconda/envs/python3/lib/python3.5/site-packages/sklearn/linear_model/randomized_l1.py:515: VisibleDeprecationWarning: boolean index did not match indexed array along dimension 0; dimension is 729053 but corresponding boolean dimension is 1000\n",
      "  y = y[mask]\n",
      "/Users/joshua/anaconda/envs/python3/lib/python3.5/site-packages/sklearn/linear_model/randomized_l1.py:609: DeprecationWarning: This function is deprecated. Please call randint(0, 1 + 1) instead\n",
      "  for k in range(n_resampling))\n",
      "/Users/joshua/anaconda/envs/python3/lib/python3.5/site-packages/sklearn/linear_model/randomized_l1.py:515: VisibleDeprecationWarning: boolean index did not match indexed array along dimension 0; dimension is 729053 but corresponding boolean dimension is 1000\n",
      "  y = y[mask]\n",
      "/Users/joshua/anaconda/envs/python3/lib/python3.5/site-packages/sklearn/linear_model/randomized_l1.py:609: DeprecationWarning: This function is deprecated. Please call randint(0, 1 + 1) instead\n",
      "  for k in range(n_resampling))\n",
      "/Users/joshua/anaconda/envs/python3/lib/python3.5/site-packages/sklearn/linear_model/randomized_l1.py:515: VisibleDeprecationWarning: boolean index did not match indexed array along dimension 0; dimension is 729053 but corresponding boolean dimension is 1000\n",
      "  y = y[mask]\n",
      "/Users/joshua/anaconda/envs/python3/lib/python3.5/site-packages/sklearn/linear_model/randomized_l1.py:609: DeprecationWarning: This function is deprecated. Please call randint(0, 1 + 1) instead\n",
      "  for k in range(n_resampling))\n",
      "/Users/joshua/anaconda/envs/python3/lib/python3.5/site-packages/sklearn/linear_model/randomized_l1.py:515: VisibleDeprecationWarning: boolean index did not match indexed array along dimension 0; dimension is 729053 but corresponding boolean dimension is 1000\n",
      "  y = y[mask]\n",
      "/Users/joshua/anaconda/envs/python3/lib/python3.5/site-packages/sklearn/linear_model/randomized_l1.py:609: DeprecationWarning: This function is deprecated. Please call randint(0, 1 + 1) instead\n",
      "  for k in range(n_resampling))\n",
      "/Users/joshua/anaconda/envs/python3/lib/python3.5/site-packages/sklearn/linear_model/randomized_l1.py:515: VisibleDeprecationWarning: boolean index did not match indexed array along dimension 0; dimension is 729053 but corresponding boolean dimension is 1000\n",
      "  y = y[mask]\n",
      "/Users/joshua/anaconda/envs/python3/lib/python3.5/site-packages/sklearn/linear_model/randomized_l1.py:609: DeprecationWarning: This function is deprecated. Please call randint(0, 1 + 1) instead\n",
      "  for k in range(n_resampling))\n",
      "/Users/joshua/anaconda/envs/python3/lib/python3.5/site-packages/sklearn/linear_model/randomized_l1.py:515: VisibleDeprecationWarning: boolean index did not match indexed array along dimension 0; dimension is 729053 but corresponding boolean dimension is 1000\n",
      "  y = y[mask]\n",
      "/Users/joshua/anaconda/envs/python3/lib/python3.5/site-packages/sklearn/linear_model/randomized_l1.py:609: DeprecationWarning: This function is deprecated. Please call randint(0, 1 + 1) instead\n",
      "  for k in range(n_resampling))\n",
      "/Users/joshua/anaconda/envs/python3/lib/python3.5/site-packages/sklearn/linear_model/randomized_l1.py:515: VisibleDeprecationWarning: boolean index did not match indexed array along dimension 0; dimension is 729053 but corresponding boolean dimension is 1000\n",
      "  y = y[mask]\n",
      "/Users/joshua/anaconda/envs/python3/lib/python3.5/site-packages/sklearn/linear_model/randomized_l1.py:609: DeprecationWarning: This function is deprecated. Please call randint(0, 1 + 1) instead\n",
      "  for k in range(n_resampling))\n",
      "/Users/joshua/anaconda/envs/python3/lib/python3.5/site-packages/sklearn/linear_model/randomized_l1.py:515: VisibleDeprecationWarning: boolean index did not match indexed array along dimension 0; dimension is 729053 but corresponding boolean dimension is 1000\n",
      "  y = y[mask]\n",
      "/Users/joshua/anaconda/envs/python3/lib/python3.5/site-packages/sklearn/linear_model/randomized_l1.py:609: DeprecationWarning: This function is deprecated. Please call randint(0, 1 + 1) instead\n",
      "  for k in range(n_resampling))\n",
      "/Users/joshua/anaconda/envs/python3/lib/python3.5/site-packages/sklearn/linear_model/randomized_l1.py:515: VisibleDeprecationWarning: boolean index did not match indexed array along dimension 0; dimension is 729053 but corresponding boolean dimension is 1000\n",
      "  y = y[mask]\n",
      "/Users/joshua/anaconda/envs/python3/lib/python3.5/site-packages/sklearn/linear_model/randomized_l1.py:609: DeprecationWarning: This function is deprecated. Please call randint(0, 1 + 1) instead\n",
      "  for k in range(n_resampling))\n",
      "/Users/joshua/anaconda/envs/python3/lib/python3.5/site-packages/sklearn/linear_model/randomized_l1.py:515: VisibleDeprecationWarning: boolean index did not match indexed array along dimension 0; dimension is 729053 but corresponding boolean dimension is 1000\n",
      "  y = y[mask]\n",
      "/Users/joshua/anaconda/envs/python3/lib/python3.5/site-packages/sklearn/linear_model/randomized_l1.py:609: DeprecationWarning: This function is deprecated. Please call randint(0, 1 + 1) instead\n",
      "  for k in range(n_resampling))\n",
      "/Users/joshua/anaconda/envs/python3/lib/python3.5/site-packages/sklearn/linear_model/randomized_l1.py:515: VisibleDeprecationWarning: boolean index did not match indexed array along dimension 0; dimension is 729053 but corresponding boolean dimension is 1000\n",
      "  y = y[mask]\n",
      "/Users/joshua/anaconda/envs/python3/lib/python3.5/site-packages/sklearn/linear_model/randomized_l1.py:609: DeprecationWarning: This function is deprecated. Please call randint(0, 1 + 1) instead\n",
      "  for k in range(n_resampling))\n",
      "/Users/joshua/anaconda/envs/python3/lib/python3.5/site-packages/sklearn/linear_model/randomized_l1.py:515: VisibleDeprecationWarning: boolean index did not match indexed array along dimension 0; dimension is 729053 but corresponding boolean dimension is 1000\n",
      "  y = y[mask]\n",
      "/Users/joshua/anaconda/envs/python3/lib/python3.5/site-packages/sklearn/linear_model/randomized_l1.py:609: DeprecationWarning: This function is deprecated. Please call randint(0, 1 + 1) instead\n",
      "  for k in range(n_resampling))\n",
      "/Users/joshua/anaconda/envs/python3/lib/python3.5/site-packages/sklearn/linear_model/randomized_l1.py:515: VisibleDeprecationWarning: boolean index did not match indexed array along dimension 0; dimension is 729053 but corresponding boolean dimension is 1000\n",
      "  y = y[mask]\n",
      "/Users/joshua/anaconda/envs/python3/lib/python3.5/site-packages/sklearn/linear_model/randomized_l1.py:609: DeprecationWarning: This function is deprecated. Please call randint(0, 1 + 1) instead\n",
      "  for k in range(n_resampling))\n",
      "/Users/joshua/anaconda/envs/python3/lib/python3.5/site-packages/sklearn/linear_model/randomized_l1.py:515: VisibleDeprecationWarning: boolean index did not match indexed array along dimension 0; dimension is 729053 but corresponding boolean dimension is 1000\n",
      "  y = y[mask]\n",
      "/Users/joshua/anaconda/envs/python3/lib/python3.5/site-packages/sklearn/linear_model/randomized_l1.py:609: DeprecationWarning: This function is deprecated. Please call randint(0, 1 + 1) instead\n",
      "  for k in range(n_resampling))\n",
      "/Users/joshua/anaconda/envs/python3/lib/python3.5/site-packages/sklearn/linear_model/randomized_l1.py:515: VisibleDeprecationWarning: boolean index did not match indexed array along dimension 0; dimension is 729053 but corresponding boolean dimension is 1000\n",
      "  y = y[mask]\n",
      "/Users/joshua/anaconda/envs/python3/lib/python3.5/site-packages/sklearn/linear_model/randomized_l1.py:609: DeprecationWarning: This function is deprecated. Please call randint(0, 1 + 1) instead\n",
      "  for k in range(n_resampling))\n",
      "/Users/joshua/anaconda/envs/python3/lib/python3.5/site-packages/sklearn/linear_model/randomized_l1.py:515: VisibleDeprecationWarning: boolean index did not match indexed array along dimension 0; dimension is 729053 but corresponding boolean dimension is 1000\n",
      "  y = y[mask]\n",
      "/Users/joshua/anaconda/envs/python3/lib/python3.5/site-packages/sklearn/linear_model/randomized_l1.py:609: DeprecationWarning: This function is deprecated. Please call randint(0, 1 + 1) instead\n",
      "  for k in range(n_resampling))\n",
      "/Users/joshua/anaconda/envs/python3/lib/python3.5/site-packages/sklearn/linear_model/randomized_l1.py:515: VisibleDeprecationWarning: boolean index did not match indexed array along dimension 0; dimension is 729053 but corresponding boolean dimension is 1000\n",
      "  y = y[mask]\n",
      "/Users/joshua/anaconda/envs/python3/lib/python3.5/site-packages/sklearn/linear_model/randomized_l1.py:609: DeprecationWarning: This function is deprecated. Please call randint(0, 1 + 1) instead\n",
      "  for k in range(n_resampling))\n",
      "/Users/joshua/anaconda/envs/python3/lib/python3.5/site-packages/sklearn/linear_model/randomized_l1.py:515: VisibleDeprecationWarning: boolean index did not match indexed array along dimension 0; dimension is 729053 but corresponding boolean dimension is 1000\n",
      "  y = y[mask]\n",
      "/Users/joshua/anaconda/envs/python3/lib/python3.5/site-packages/sklearn/linear_model/randomized_l1.py:609: DeprecationWarning: This function is deprecated. Please call randint(0, 1 + 1) instead\n",
      "  for k in range(n_resampling))\n",
      "/Users/joshua/anaconda/envs/python3/lib/python3.5/site-packages/sklearn/linear_model/randomized_l1.py:515: VisibleDeprecationWarning: boolean index did not match indexed array along dimension 0; dimension is 729053 but corresponding boolean dimension is 1000\n",
      "  y = y[mask]\n",
      "/Users/joshua/anaconda/envs/python3/lib/python3.5/site-packages/sklearn/linear_model/randomized_l1.py:609: DeprecationWarning: This function is deprecated. Please call randint(0, 1 + 1) instead\n",
      "  for k in range(n_resampling))\n",
      "/Users/joshua/anaconda/envs/python3/lib/python3.5/site-packages/sklearn/linear_model/randomized_l1.py:515: VisibleDeprecationWarning: boolean index did not match indexed array along dimension 0; dimension is 729053 but corresponding boolean dimension is 1000\n",
      "  y = y[mask]\n",
      "/Users/joshua/anaconda/envs/python3/lib/python3.5/site-packages/sklearn/linear_model/randomized_l1.py:609: DeprecationWarning: This function is deprecated. Please call randint(0, 1 + 1) instead\n",
      "  for k in range(n_resampling))\n",
      "/Users/joshua/anaconda/envs/python3/lib/python3.5/site-packages/sklearn/linear_model/randomized_l1.py:515: VisibleDeprecationWarning: boolean index did not match indexed array along dimension 0; dimension is 729053 but corresponding boolean dimension is 1000\n",
      "  y = y[mask]\n",
      "/Users/joshua/anaconda/envs/python3/lib/python3.5/site-packages/sklearn/linear_model/randomized_l1.py:609: DeprecationWarning: This function is deprecated. Please call randint(0, 1 + 1) instead\n",
      "  for k in range(n_resampling))\n",
      "/Users/joshua/anaconda/envs/python3/lib/python3.5/site-packages/sklearn/linear_model/randomized_l1.py:515: VisibleDeprecationWarning: boolean index did not match indexed array along dimension 0; dimension is 729053 but corresponding boolean dimension is 1000\n",
      "  y = y[mask]\n",
      "/Users/joshua/anaconda/envs/python3/lib/python3.5/site-packages/sklearn/linear_model/randomized_l1.py:609: DeprecationWarning: This function is deprecated. Please call randint(0, 1 + 1) instead\n",
      "  for k in range(n_resampling))\n",
      "/Users/joshua/anaconda/envs/python3/lib/python3.5/site-packages/sklearn/linear_model/randomized_l1.py:515: VisibleDeprecationWarning: boolean index did not match indexed array along dimension 0; dimension is 729053 but corresponding boolean dimension is 1000\n",
      "  y = y[mask]\n",
      "/Users/joshua/anaconda/envs/python3/lib/python3.5/site-packages/sklearn/linear_model/randomized_l1.py:609: DeprecationWarning: This function is deprecated. Please call randint(0, 1 + 1) instead\n",
      "  for k in range(n_resampling))\n",
      "/Users/joshua/anaconda/envs/python3/lib/python3.5/site-packages/sklearn/linear_model/randomized_l1.py:515: VisibleDeprecationWarning: boolean index did not match indexed array along dimension 0; dimension is 729053 but corresponding boolean dimension is 1000\n",
      "  y = y[mask]\n",
      "/Users/joshua/anaconda/envs/python3/lib/python3.5/site-packages/sklearn/linear_model/randomized_l1.py:609: DeprecationWarning: This function is deprecated. Please call randint(0, 1 + 1) instead\n",
      "  for k in range(n_resampling))\n",
      "/Users/joshua/anaconda/envs/python3/lib/python3.5/site-packages/sklearn/linear_model/randomized_l1.py:515: VisibleDeprecationWarning: boolean index did not match indexed array along dimension 0; dimension is 729053 but corresponding boolean dimension is 1000\n",
      "  y = y[mask]\n",
      "/Users/joshua/anaconda/envs/python3/lib/python3.5/site-packages/sklearn/linear_model/randomized_l1.py:609: DeprecationWarning: This function is deprecated. Please call randint(0, 1 + 1) instead\n",
      "  for k in range(n_resampling))\n",
      "/Users/joshua/anaconda/envs/python3/lib/python3.5/site-packages/sklearn/linear_model/randomized_l1.py:515: VisibleDeprecationWarning: boolean index did not match indexed array along dimension 0; dimension is 729053 but corresponding boolean dimension is 1000\n",
      "  y = y[mask]\n",
      "/Users/joshua/anaconda/envs/python3/lib/python3.5/site-packages/sklearn/linear_model/randomized_l1.py:609: DeprecationWarning: This function is deprecated. Please call randint(0, 1 + 1) instead\n",
      "  for k in range(n_resampling))\n",
      "/Users/joshua/anaconda/envs/python3/lib/python3.5/site-packages/sklearn/linear_model/randomized_l1.py:515: VisibleDeprecationWarning: boolean index did not match indexed array along dimension 0; dimension is 729053 but corresponding boolean dimension is 1000\n",
      "  y = y[mask]\n",
      "/Users/joshua/anaconda/envs/python3/lib/python3.5/site-packages/sklearn/linear_model/randomized_l1.py:609: DeprecationWarning: This function is deprecated. Please call randint(0, 1 + 1) instead\n",
      "  for k in range(n_resampling))\n",
      "/Users/joshua/anaconda/envs/python3/lib/python3.5/site-packages/sklearn/linear_model/randomized_l1.py:515: VisibleDeprecationWarning: boolean index did not match indexed array along dimension 0; dimension is 729053 but corresponding boolean dimension is 1000\n",
      "  y = y[mask]\n",
      "/Users/joshua/anaconda/envs/python3/lib/python3.5/site-packages/sklearn/linear_model/randomized_l1.py:609: DeprecationWarning: This function is deprecated. Please call randint(0, 1 + 1) instead\n",
      "  for k in range(n_resampling))\n",
      "/Users/joshua/anaconda/envs/python3/lib/python3.5/site-packages/sklearn/linear_model/randomized_l1.py:515: VisibleDeprecationWarning: boolean index did not match indexed array along dimension 0; dimension is 729053 but corresponding boolean dimension is 1000\n",
      "  y = y[mask]\n",
      "/Users/joshua/anaconda/envs/python3/lib/python3.5/site-packages/sklearn/linear_model/randomized_l1.py:609: DeprecationWarning: This function is deprecated. Please call randint(0, 1 + 1) instead\n",
      "  for k in range(n_resampling))\n",
      "/Users/joshua/anaconda/envs/python3/lib/python3.5/site-packages/sklearn/linear_model/randomized_l1.py:515: VisibleDeprecationWarning: boolean index did not match indexed array along dimension 0; dimension is 729053 but corresponding boolean dimension is 1000\n",
      "  y = y[mask]\n",
      "/Users/joshua/anaconda/envs/python3/lib/python3.5/site-packages/sklearn/linear_model/randomized_l1.py:609: DeprecationWarning: This function is deprecated. Please call randint(0, 1 + 1) instead\n",
      "  for k in range(n_resampling))\n",
      "/Users/joshua/anaconda/envs/python3/lib/python3.5/site-packages/sklearn/linear_model/randomized_l1.py:515: VisibleDeprecationWarning: boolean index did not match indexed array along dimension 0; dimension is 729053 but corresponding boolean dimension is 1000\n",
      "  y = y[mask]\n",
      "/Users/joshua/anaconda/envs/python3/lib/python3.5/site-packages/sklearn/linear_model/randomized_l1.py:609: DeprecationWarning: This function is deprecated. Please call randint(0, 1 + 1) instead\n",
      "  for k in range(n_resampling))\n",
      "/Users/joshua/anaconda/envs/python3/lib/python3.5/site-packages/sklearn/linear_model/randomized_l1.py:515: VisibleDeprecationWarning: boolean index did not match indexed array along dimension 0; dimension is 729053 but corresponding boolean dimension is 1000\n",
      "  y = y[mask]\n",
      "/Users/joshua/anaconda/envs/python3/lib/python3.5/site-packages/sklearn/linear_model/randomized_l1.py:609: DeprecationWarning: This function is deprecated. Please call randint(0, 1 + 1) instead\n",
      "  for k in range(n_resampling))\n",
      "/Users/joshua/anaconda/envs/python3/lib/python3.5/site-packages/sklearn/linear_model/randomized_l1.py:515: VisibleDeprecationWarning: boolean index did not match indexed array along dimension 0; dimension is 729053 but corresponding boolean dimension is 1000\n",
      "  y = y[mask]\n",
      "/Users/joshua/anaconda/envs/python3/lib/python3.5/site-packages/sklearn/linear_model/randomized_l1.py:609: DeprecationWarning: This function is deprecated. Please call randint(0, 1 + 1) instead\n",
      "  for k in range(n_resampling))\n",
      "/Users/joshua/anaconda/envs/python3/lib/python3.5/site-packages/sklearn/linear_model/randomized_l1.py:515: VisibleDeprecationWarning: boolean index did not match indexed array along dimension 0; dimension is 729053 but corresponding boolean dimension is 1000\n",
      "  y = y[mask]\n",
      "/Users/joshua/anaconda/envs/python3/lib/python3.5/site-packages/sklearn/linear_model/randomized_l1.py:609: DeprecationWarning: This function is deprecated. Please call randint(0, 1 + 1) instead\n",
      "  for k in range(n_resampling))\n",
      "/Users/joshua/anaconda/envs/python3/lib/python3.5/site-packages/sklearn/linear_model/randomized_l1.py:515: VisibleDeprecationWarning: boolean index did not match indexed array along dimension 0; dimension is 729053 but corresponding boolean dimension is 1000\n",
      "  y = y[mask]\n",
      "/Users/joshua/anaconda/envs/python3/lib/python3.5/site-packages/sklearn/linear_model/randomized_l1.py:609: DeprecationWarning: This function is deprecated. Please call randint(0, 1 + 1) instead\n",
      "  for k in range(n_resampling))\n",
      "/Users/joshua/anaconda/envs/python3/lib/python3.5/site-packages/sklearn/linear_model/randomized_l1.py:515: VisibleDeprecationWarning: boolean index did not match indexed array along dimension 0; dimension is 729053 but corresponding boolean dimension is 1000\n",
      "  y = y[mask]\n",
      "/Users/joshua/anaconda/envs/python3/lib/python3.5/site-packages/sklearn/linear_model/randomized_l1.py:609: DeprecationWarning: This function is deprecated. Please call randint(0, 1 + 1) instead\n",
      "  for k in range(n_resampling))\n",
      "/Users/joshua/anaconda/envs/python3/lib/python3.5/site-packages/sklearn/linear_model/randomized_l1.py:515: VisibleDeprecationWarning: boolean index did not match indexed array along dimension 0; dimension is 729053 but corresponding boolean dimension is 1000\n",
      "  y = y[mask]\n",
      "/Users/joshua/anaconda/envs/python3/lib/python3.5/site-packages/sklearn/linear_model/randomized_l1.py:609: DeprecationWarning: This function is deprecated. Please call randint(0, 1 + 1) instead\n",
      "  for k in range(n_resampling))\n",
      "/Users/joshua/anaconda/envs/python3/lib/python3.5/site-packages/sklearn/linear_model/randomized_l1.py:515: VisibleDeprecationWarning: boolean index did not match indexed array along dimension 0; dimension is 729053 but corresponding boolean dimension is 1000\n",
      "  y = y[mask]\n",
      "/Users/joshua/anaconda/envs/python3/lib/python3.5/site-packages/sklearn/linear_model/randomized_l1.py:609: DeprecationWarning: This function is deprecated. Please call randint(0, 1 + 1) instead\n",
      "  for k in range(n_resampling))\n",
      "/Users/joshua/anaconda/envs/python3/lib/python3.5/site-packages/sklearn/linear_model/randomized_l1.py:515: VisibleDeprecationWarning: boolean index did not match indexed array along dimension 0; dimension is 729053 but corresponding boolean dimension is 1000\n",
      "  y = y[mask]\n",
      "/Users/joshua/anaconda/envs/python3/lib/python3.5/site-packages/sklearn/linear_model/randomized_l1.py:609: DeprecationWarning: This function is deprecated. Please call randint(0, 1 + 1) instead\n",
      "  for k in range(n_resampling))\n",
      "/Users/joshua/anaconda/envs/python3/lib/python3.5/site-packages/sklearn/linear_model/randomized_l1.py:515: VisibleDeprecationWarning: boolean index did not match indexed array along dimension 0; dimension is 729053 but corresponding boolean dimension is 1000\n",
      "  y = y[mask]\n",
      "/Users/joshua/anaconda/envs/python3/lib/python3.5/site-packages/sklearn/linear_model/randomized_l1.py:609: DeprecationWarning: This function is deprecated. Please call randint(0, 1 + 1) instead\n",
      "  for k in range(n_resampling))\n",
      "/Users/joshua/anaconda/envs/python3/lib/python3.5/site-packages/sklearn/linear_model/randomized_l1.py:515: VisibleDeprecationWarning: boolean index did not match indexed array along dimension 0; dimension is 729053 but corresponding boolean dimension is 1000\n",
      "  y = y[mask]\n",
      "/Users/joshua/anaconda/envs/python3/lib/python3.5/site-packages/sklearn/linear_model/randomized_l1.py:609: DeprecationWarning: This function is deprecated. Please call randint(0, 1 + 1) instead\n",
      "  for k in range(n_resampling))\n",
      "/Users/joshua/anaconda/envs/python3/lib/python3.5/site-packages/sklearn/linear_model/randomized_l1.py:515: VisibleDeprecationWarning: boolean index did not match indexed array along dimension 0; dimension is 729053 but corresponding boolean dimension is 1000\n",
      "  y = y[mask]\n",
      "/Users/joshua/anaconda/envs/python3/lib/python3.5/site-packages/sklearn/linear_model/randomized_l1.py:609: DeprecationWarning: This function is deprecated. Please call randint(0, 1 + 1) instead\n",
      "  for k in range(n_resampling))\n",
      "/Users/joshua/anaconda/envs/python3/lib/python3.5/site-packages/sklearn/linear_model/randomized_l1.py:515: VisibleDeprecationWarning: boolean index did not match indexed array along dimension 0; dimension is 729053 but corresponding boolean dimension is 1000\n",
      "  y = y[mask]\n",
      "/Users/joshua/anaconda/envs/python3/lib/python3.5/site-packages/sklearn/linear_model/randomized_l1.py:609: DeprecationWarning: This function is deprecated. Please call randint(0, 1 + 1) instead\n",
      "  for k in range(n_resampling))\n",
      "/Users/joshua/anaconda/envs/python3/lib/python3.5/site-packages/sklearn/linear_model/randomized_l1.py:515: VisibleDeprecationWarning: boolean index did not match indexed array along dimension 0; dimension is 729053 but corresponding boolean dimension is 1000\n",
      "  y = y[mask]\n",
      "/Users/joshua/anaconda/envs/python3/lib/python3.5/site-packages/sklearn/linear_model/randomized_l1.py:609: DeprecationWarning: This function is deprecated. Please call randint(0, 1 + 1) instead\n",
      "  for k in range(n_resampling))\n",
      "/Users/joshua/anaconda/envs/python3/lib/python3.5/site-packages/sklearn/linear_model/randomized_l1.py:515: VisibleDeprecationWarning: boolean index did not match indexed array along dimension 0; dimension is 729053 but corresponding boolean dimension is 1000\n",
      "  y = y[mask]\n",
      "/Users/joshua/anaconda/envs/python3/lib/python3.5/site-packages/sklearn/linear_model/randomized_l1.py:609: DeprecationWarning: This function is deprecated. Please call randint(0, 1 + 1) instead\n",
      "  for k in range(n_resampling))\n",
      "/Users/joshua/anaconda/envs/python3/lib/python3.5/site-packages/sklearn/linear_model/randomized_l1.py:515: VisibleDeprecationWarning: boolean index did not match indexed array along dimension 0; dimension is 729053 but corresponding boolean dimension is 1000\n",
      "  y = y[mask]\n",
      "/Users/joshua/anaconda/envs/python3/lib/python3.5/site-packages/sklearn/linear_model/randomized_l1.py:609: DeprecationWarning: This function is deprecated. Please call randint(0, 1 + 1) instead\n",
      "  for k in range(n_resampling))\n",
      "/Users/joshua/anaconda/envs/python3/lib/python3.5/site-packages/sklearn/linear_model/randomized_l1.py:515: VisibleDeprecationWarning: boolean index did not match indexed array along dimension 0; dimension is 729053 but corresponding boolean dimension is 1000\n",
      "  y = y[mask]\n",
      "/Users/joshua/anaconda/envs/python3/lib/python3.5/site-packages/sklearn/linear_model/randomized_l1.py:609: DeprecationWarning: This function is deprecated. Please call randint(0, 1 + 1) instead\n",
      "  for k in range(n_resampling))\n",
      "/Users/joshua/anaconda/envs/python3/lib/python3.5/site-packages/sklearn/linear_model/randomized_l1.py:515: VisibleDeprecationWarning: boolean index did not match indexed array along dimension 0; dimension is 729053 but corresponding boolean dimension is 1000\n",
      "  y = y[mask]\n",
      "/Users/joshua/anaconda/envs/python3/lib/python3.5/site-packages/sklearn/linear_model/randomized_l1.py:609: DeprecationWarning: This function is deprecated. Please call randint(0, 1 + 1) instead\n",
      "  for k in range(n_resampling))\n",
      "/Users/joshua/anaconda/envs/python3/lib/python3.5/site-packages/sklearn/linear_model/randomized_l1.py:515: VisibleDeprecationWarning: boolean index did not match indexed array along dimension 0; dimension is 729053 but corresponding boolean dimension is 1000\n",
      "  y = y[mask]\n",
      "/Users/joshua/anaconda/envs/python3/lib/python3.5/site-packages/sklearn/linear_model/randomized_l1.py:609: DeprecationWarning: This function is deprecated. Please call randint(0, 1 + 1) instead\n",
      "  for k in range(n_resampling))\n",
      "/Users/joshua/anaconda/envs/python3/lib/python3.5/site-packages/sklearn/linear_model/randomized_l1.py:515: VisibleDeprecationWarning: boolean index did not match indexed array along dimension 0; dimension is 729053 but corresponding boolean dimension is 1000\n",
      "  y = y[mask]\n",
      "/Users/joshua/anaconda/envs/python3/lib/python3.5/site-packages/sklearn/linear_model/randomized_l1.py:609: DeprecationWarning: This function is deprecated. Please call randint(0, 1 + 1) instead\n",
      "  for k in range(n_resampling))\n",
      "/Users/joshua/anaconda/envs/python3/lib/python3.5/site-packages/sklearn/linear_model/randomized_l1.py:515: VisibleDeprecationWarning: boolean index did not match indexed array along dimension 0; dimension is 729053 but corresponding boolean dimension is 1000\n",
      "  y = y[mask]\n",
      "/Users/joshua/anaconda/envs/python3/lib/python3.5/site-packages/sklearn/linear_model/randomized_l1.py:609: DeprecationWarning: This function is deprecated. Please call randint(0, 1 + 1) instead\n",
      "  for k in range(n_resampling))\n",
      "/Users/joshua/anaconda/envs/python3/lib/python3.5/site-packages/sklearn/linear_model/randomized_l1.py:515: VisibleDeprecationWarning: boolean index did not match indexed array along dimension 0; dimension is 729053 but corresponding boolean dimension is 1000\n",
      "  y = y[mask]\n",
      "/Users/joshua/anaconda/envs/python3/lib/python3.5/site-packages/sklearn/linear_model/randomized_l1.py:609: DeprecationWarning: This function is deprecated. Please call randint(0, 1 + 1) instead\n",
      "  for k in range(n_resampling))\n",
      "/Users/joshua/anaconda/envs/python3/lib/python3.5/site-packages/sklearn/linear_model/randomized_l1.py:515: VisibleDeprecationWarning: boolean index did not match indexed array along dimension 0; dimension is 729053 but corresponding boolean dimension is 1000\n",
      "  y = y[mask]\n",
      "/Users/joshua/anaconda/envs/python3/lib/python3.5/site-packages/sklearn/linear_model/randomized_l1.py:609: DeprecationWarning: This function is deprecated. Please call randint(0, 1 + 1) instead\n",
      "  for k in range(n_resampling))\n",
      "/Users/joshua/anaconda/envs/python3/lib/python3.5/site-packages/sklearn/linear_model/randomized_l1.py:515: VisibleDeprecationWarning: boolean index did not match indexed array along dimension 0; dimension is 729053 but corresponding boolean dimension is 1000\n",
      "  y = y[mask]\n",
      "/Users/joshua/anaconda/envs/python3/lib/python3.5/site-packages/sklearn/linear_model/randomized_l1.py:609: DeprecationWarning: This function is deprecated. Please call randint(0, 1 + 1) instead\n",
      "  for k in range(n_resampling))\n",
      "/Users/joshua/anaconda/envs/python3/lib/python3.5/site-packages/sklearn/linear_model/randomized_l1.py:515: VisibleDeprecationWarning: boolean index did not match indexed array along dimension 0; dimension is 729053 but corresponding boolean dimension is 1000\n",
      "  y = y[mask]\n",
      "/Users/joshua/anaconda/envs/python3/lib/python3.5/site-packages/sklearn/linear_model/randomized_l1.py:609: DeprecationWarning: This function is deprecated. Please call randint(0, 1 + 1) instead\n",
      "  for k in range(n_resampling))\n",
      "/Users/joshua/anaconda/envs/python3/lib/python3.5/site-packages/sklearn/linear_model/randomized_l1.py:515: VisibleDeprecationWarning: boolean index did not match indexed array along dimension 0; dimension is 729053 but corresponding boolean dimension is 1000\n",
      "  y = y[mask]\n",
      "/Users/joshua/anaconda/envs/python3/lib/python3.5/site-packages/sklearn/linear_model/randomized_l1.py:609: DeprecationWarning: This function is deprecated. Please call randint(0, 1 + 1) instead\n",
      "  for k in range(n_resampling))\n",
      "/Users/joshua/anaconda/envs/python3/lib/python3.5/site-packages/sklearn/linear_model/randomized_l1.py:515: VisibleDeprecationWarning: boolean index did not match indexed array along dimension 0; dimension is 729053 but corresponding boolean dimension is 1000\n",
      "  y = y[mask]\n",
      "/Users/joshua/anaconda/envs/python3/lib/python3.5/site-packages/sklearn/linear_model/randomized_l1.py:609: DeprecationWarning: This function is deprecated. Please call randint(0, 1 + 1) instead\n",
      "  for k in range(n_resampling))\n",
      "/Users/joshua/anaconda/envs/python3/lib/python3.5/site-packages/sklearn/linear_model/randomized_l1.py:515: VisibleDeprecationWarning: boolean index did not match indexed array along dimension 0; dimension is 729053 but corresponding boolean dimension is 1000\n",
      "  y = y[mask]\n",
      "/Users/joshua/anaconda/envs/python3/lib/python3.5/site-packages/sklearn/linear_model/randomized_l1.py:609: DeprecationWarning: This function is deprecated. Please call randint(0, 1 + 1) instead\n",
      "  for k in range(n_resampling))\n",
      "/Users/joshua/anaconda/envs/python3/lib/python3.5/site-packages/sklearn/linear_model/randomized_l1.py:515: VisibleDeprecationWarning: boolean index did not match indexed array along dimension 0; dimension is 729053 but corresponding boolean dimension is 1000\n",
      "  y = y[mask]\n",
      "/Users/joshua/anaconda/envs/python3/lib/python3.5/site-packages/sklearn/linear_model/randomized_l1.py:609: DeprecationWarning: This function is deprecated. Please call randint(0, 1 + 1) instead\n",
      "  for k in range(n_resampling))\n",
      "/Users/joshua/anaconda/envs/python3/lib/python3.5/site-packages/sklearn/linear_model/randomized_l1.py:515: VisibleDeprecationWarning: boolean index did not match indexed array along dimension 0; dimension is 729053 but corresponding boolean dimension is 1000\n",
      "  y = y[mask]\n",
      "/Users/joshua/anaconda/envs/python3/lib/python3.5/site-packages/sklearn/linear_model/randomized_l1.py:609: DeprecationWarning: This function is deprecated. Please call randint(0, 1 + 1) instead\n",
      "  for k in range(n_resampling))\n",
      "/Users/joshua/anaconda/envs/python3/lib/python3.5/site-packages/sklearn/linear_model/randomized_l1.py:515: VisibleDeprecationWarning: boolean index did not match indexed array along dimension 0; dimension is 729053 but corresponding boolean dimension is 1000\n",
      "  y = y[mask]\n",
      "/Users/joshua/anaconda/envs/python3/lib/python3.5/site-packages/sklearn/linear_model/randomized_l1.py:609: DeprecationWarning: This function is deprecated. Please call randint(0, 1 + 1) instead\n",
      "  for k in range(n_resampling))\n",
      "/Users/joshua/anaconda/envs/python3/lib/python3.5/site-packages/sklearn/linear_model/randomized_l1.py:515: VisibleDeprecationWarning: boolean index did not match indexed array along dimension 0; dimension is 729053 but corresponding boolean dimension is 1000\n",
      "  y = y[mask]\n",
      "/Users/joshua/anaconda/envs/python3/lib/python3.5/site-packages/sklearn/linear_model/randomized_l1.py:609: DeprecationWarning: This function is deprecated. Please call randint(0, 1 + 1) instead\n",
      "  for k in range(n_resampling))\n",
      "/Users/joshua/anaconda/envs/python3/lib/python3.5/site-packages/sklearn/linear_model/randomized_l1.py:515: VisibleDeprecationWarning: boolean index did not match indexed array along dimension 0; dimension is 729053 but corresponding boolean dimension is 1000\n",
      "  y = y[mask]\n",
      "/Users/joshua/anaconda/envs/python3/lib/python3.5/site-packages/sklearn/linear_model/randomized_l1.py:609: DeprecationWarning: This function is deprecated. Please call randint(0, 1 + 1) instead\n",
      "  for k in range(n_resampling))\n",
      "/Users/joshua/anaconda/envs/python3/lib/python3.5/site-packages/sklearn/linear_model/randomized_l1.py:515: VisibleDeprecationWarning: boolean index did not match indexed array along dimension 0; dimension is 729053 but corresponding boolean dimension is 1000\n",
      "  y = y[mask]\n",
      "/Users/joshua/anaconda/envs/python3/lib/python3.5/site-packages/sklearn/linear_model/randomized_l1.py:609: DeprecationWarning: This function is deprecated. Please call randint(0, 1 + 1) instead\n",
      "  for k in range(n_resampling))\n",
      "/Users/joshua/anaconda/envs/python3/lib/python3.5/site-packages/sklearn/linear_model/randomized_l1.py:515: VisibleDeprecationWarning: boolean index did not match indexed array along dimension 0; dimension is 729053 but corresponding boolean dimension is 1000\n",
      "  y = y[mask]\n",
      "/Users/joshua/anaconda/envs/python3/lib/python3.5/site-packages/sklearn/linear_model/randomized_l1.py:609: DeprecationWarning: This function is deprecated. Please call randint(0, 1 + 1) instead\n",
      "  for k in range(n_resampling))\n",
      "/Users/joshua/anaconda/envs/python3/lib/python3.5/site-packages/sklearn/linear_model/randomized_l1.py:515: VisibleDeprecationWarning: boolean index did not match indexed array along dimension 0; dimension is 729053 but corresponding boolean dimension is 1000\n",
      "  y = y[mask]\n",
      "/Users/joshua/anaconda/envs/python3/lib/python3.5/site-packages/sklearn/linear_model/randomized_l1.py:609: DeprecationWarning: This function is deprecated. Please call randint(0, 1 + 1) instead\n",
      "  for k in range(n_resampling))\n",
      "/Users/joshua/anaconda/envs/python3/lib/python3.5/site-packages/sklearn/linear_model/randomized_l1.py:515: VisibleDeprecationWarning: boolean index did not match indexed array along dimension 0; dimension is 729053 but corresponding boolean dimension is 1000\n",
      "  y = y[mask]\n",
      "/Users/joshua/anaconda/envs/python3/lib/python3.5/site-packages/sklearn/linear_model/randomized_l1.py:609: DeprecationWarning: This function is deprecated. Please call randint(0, 1 + 1) instead\n",
      "  for k in range(n_resampling))\n",
      "/Users/joshua/anaconda/envs/python3/lib/python3.5/site-packages/sklearn/linear_model/randomized_l1.py:515: VisibleDeprecationWarning: boolean index did not match indexed array along dimension 0; dimension is 729053 but corresponding boolean dimension is 1000\n",
      "  y = y[mask]\n",
      "/Users/joshua/anaconda/envs/python3/lib/python3.5/site-packages/sklearn/linear_model/randomized_l1.py:609: DeprecationWarning: This function is deprecated. Please call randint(0, 1 + 1) instead\n",
      "  for k in range(n_resampling))\n",
      "/Users/joshua/anaconda/envs/python3/lib/python3.5/site-packages/sklearn/linear_model/randomized_l1.py:515: VisibleDeprecationWarning: boolean index did not match indexed array along dimension 0; dimension is 729053 but corresponding boolean dimension is 1000\n",
      "  y = y[mask]\n",
      "/Users/joshua/anaconda/envs/python3/lib/python3.5/site-packages/sklearn/linear_model/randomized_l1.py:609: DeprecationWarning: This function is deprecated. Please call randint(0, 1 + 1) instead\n",
      "  for k in range(n_resampling))\n",
      "/Users/joshua/anaconda/envs/python3/lib/python3.5/site-packages/sklearn/linear_model/randomized_l1.py:515: VisibleDeprecationWarning: boolean index did not match indexed array along dimension 0; dimension is 729053 but corresponding boolean dimension is 1000\n",
      "  y = y[mask]\n",
      "/Users/joshua/anaconda/envs/python3/lib/python3.5/site-packages/sklearn/linear_model/randomized_l1.py:609: DeprecationWarning: This function is deprecated. Please call randint(0, 1 + 1) instead\n",
      "  for k in range(n_resampling))\n",
      "/Users/joshua/anaconda/envs/python3/lib/python3.5/site-packages/sklearn/linear_model/randomized_l1.py:515: VisibleDeprecationWarning: boolean index did not match indexed array along dimension 0; dimension is 729053 but corresponding boolean dimension is 1000\n",
      "  y = y[mask]\n",
      "/Users/joshua/anaconda/envs/python3/lib/python3.5/site-packages/sklearn/linear_model/randomized_l1.py:609: DeprecationWarning: This function is deprecated. Please call randint(0, 1 + 1) instead\n",
      "  for k in range(n_resampling))\n",
      "/Users/joshua/anaconda/envs/python3/lib/python3.5/site-packages/sklearn/linear_model/randomized_l1.py:515: VisibleDeprecationWarning: boolean index did not match indexed array along dimension 0; dimension is 729053 but corresponding boolean dimension is 1000\n",
      "  y = y[mask]\n",
      "/Users/joshua/anaconda/envs/python3/lib/python3.5/site-packages/sklearn/linear_model/randomized_l1.py:609: DeprecationWarning: This function is deprecated. Please call randint(0, 1 + 1) instead\n",
      "  for k in range(n_resampling))\n",
      "/Users/joshua/anaconda/envs/python3/lib/python3.5/site-packages/sklearn/linear_model/randomized_l1.py:515: VisibleDeprecationWarning: boolean index did not match indexed array along dimension 0; dimension is 729053 but corresponding boolean dimension is 1000\n",
      "  y = y[mask]\n",
      "/Users/joshua/anaconda/envs/python3/lib/python3.5/site-packages/sklearn/linear_model/randomized_l1.py:609: DeprecationWarning: This function is deprecated. Please call randint(0, 1 + 1) instead\n",
      "  for k in range(n_resampling))\n",
      "/Users/joshua/anaconda/envs/python3/lib/python3.5/site-packages/sklearn/linear_model/randomized_l1.py:515: VisibleDeprecationWarning: boolean index did not match indexed array along dimension 0; dimension is 729053 but corresponding boolean dimension is 1000\n",
      "  y = y[mask]\n",
      "/Users/joshua/anaconda/envs/python3/lib/python3.5/site-packages/sklearn/linear_model/randomized_l1.py:609: DeprecationWarning: This function is deprecated. Please call randint(0, 1 + 1) instead\n",
      "  for k in range(n_resampling))\n",
      "/Users/joshua/anaconda/envs/python3/lib/python3.5/site-packages/sklearn/linear_model/randomized_l1.py:515: VisibleDeprecationWarning: boolean index did not match indexed array along dimension 0; dimension is 729053 but corresponding boolean dimension is 1000\n",
      "  y = y[mask]\n",
      "/Users/joshua/anaconda/envs/python3/lib/python3.5/site-packages/sklearn/linear_model/randomized_l1.py:609: DeprecationWarning: This function is deprecated. Please call randint(0, 1 + 1) instead\n",
      "  for k in range(n_resampling))\n",
      "/Users/joshua/anaconda/envs/python3/lib/python3.5/site-packages/sklearn/linear_model/randomized_l1.py:515: VisibleDeprecationWarning: boolean index did not match indexed array along dimension 0; dimension is 729053 but corresponding boolean dimension is 1000\n",
      "  y = y[mask]\n"
     ]
    },
    {
     "ename": "ValueError",
     "evalue": "Found arrays with inconsistent numbers of samples: [  1000 729053]",
     "output_type": "error",
     "traceback": [
      "\u001b[0;31m---------------------------------------------------------------------------\u001b[0m",
      "\u001b[0;31mValueError\u001b[0m                                Traceback (most recent call last)",
      "\u001b[0;32m<ipython-input-131-8c424d547bf4>\u001b[0m in \u001b[0;36m<module>\u001b[0;34m()\u001b[0m\n\u001b[1;32m     93\u001b[0m         \u001b[0mwarnings\u001b[0m\u001b[0;34m.\u001b[0m\u001b[0msimplefilter\u001b[0m\u001b[0;34m(\u001b[0m\u001b[0;34m'ignore'\u001b[0m\u001b[0;34m,\u001b[0m \u001b[0mUserWarning\u001b[0m\u001b[0;34m)\u001b[0m\u001b[0;34m\u001b[0m\u001b[0m\n\u001b[1;32m     94\u001b[0m         \u001b[0mwarnings\u001b[0m\u001b[0;34m.\u001b[0m\u001b[0msimplefilter\u001b[0m\u001b[0;34m(\u001b[0m\u001b[0;34m'ignore'\u001b[0m\u001b[0;34m,\u001b[0m \u001b[0mConvergenceWarning\u001b[0m\u001b[0;34m)\u001b[0m\u001b[0;34m\u001b[0m\u001b[0m\n\u001b[0;32m---> 95\u001b[0;31m         \u001b[0mlars_cv\u001b[0m \u001b[0;34m=\u001b[0m \u001b[0mLassoLarsCV\u001b[0m\u001b[0;34m(\u001b[0m\u001b[0mcv\u001b[0m\u001b[0;34m=\u001b[0m\u001b[0;36m6\u001b[0m\u001b[0;34m)\u001b[0m\u001b[0;34m.\u001b[0m\u001b[0mfit\u001b[0m\u001b[0;34m(\u001b[0m\u001b[0mX\u001b[0m\u001b[0;34m,\u001b[0m \u001b[0my\u001b[0m\u001b[0;34m)\u001b[0m\u001b[0;34m\u001b[0m\u001b[0m\n\u001b[0m\u001b[1;32m     96\u001b[0m \u001b[0;34m\u001b[0m\u001b[0m\n\u001b[1;32m     97\u001b[0m     \u001b[0;31m# Run the RandomizedLasso: we use a paths going down to .1*alpha_max\u001b[0m\u001b[0;34m\u001b[0m\u001b[0;34m\u001b[0m\u001b[0m\n",
      "\u001b[0;32m/Users/joshua/anaconda/envs/python3/lib/python3.5/site-packages/sklearn/linear_model/least_angle.py\u001b[0m in \u001b[0;36mfit\u001b[0;34m(self, X, y)\u001b[0m\n\u001b[1;32m   1076\u001b[0m         \"\"\"\n\u001b[1;32m   1077\u001b[0m         \u001b[0mself\u001b[0m\u001b[0;34m.\u001b[0m\u001b[0mfit_path\u001b[0m \u001b[0;34m=\u001b[0m \u001b[0;32mTrue\u001b[0m\u001b[0;34m\u001b[0m\u001b[0m\n\u001b[0;32m-> 1078\u001b[0;31m         \u001b[0mX\u001b[0m\u001b[0;34m,\u001b[0m \u001b[0my\u001b[0m \u001b[0;34m=\u001b[0m \u001b[0mcheck_X_y\u001b[0m\u001b[0;34m(\u001b[0m\u001b[0mX\u001b[0m\u001b[0;34m,\u001b[0m \u001b[0my\u001b[0m\u001b[0;34m,\u001b[0m \u001b[0my_numeric\u001b[0m\u001b[0;34m=\u001b[0m\u001b[0;32mTrue\u001b[0m\u001b[0;34m)\u001b[0m\u001b[0;34m\u001b[0m\u001b[0m\n\u001b[0m\u001b[1;32m   1079\u001b[0m         \u001b[0mX\u001b[0m \u001b[0;34m=\u001b[0m \u001b[0mas_float_array\u001b[0m\u001b[0;34m(\u001b[0m\u001b[0mX\u001b[0m\u001b[0;34m,\u001b[0m \u001b[0mcopy\u001b[0m\u001b[0;34m=\u001b[0m\u001b[0mself\u001b[0m\u001b[0;34m.\u001b[0m\u001b[0mcopy_X\u001b[0m\u001b[0;34m)\u001b[0m\u001b[0;34m\u001b[0m\u001b[0m\n\u001b[1;32m   1080\u001b[0m         \u001b[0my\u001b[0m \u001b[0;34m=\u001b[0m \u001b[0mas_float_array\u001b[0m\u001b[0;34m(\u001b[0m\u001b[0my\u001b[0m\u001b[0;34m,\u001b[0m \u001b[0mcopy\u001b[0m\u001b[0;34m=\u001b[0m\u001b[0mself\u001b[0m\u001b[0;34m.\u001b[0m\u001b[0mcopy_X\u001b[0m\u001b[0;34m)\u001b[0m\u001b[0;34m\u001b[0m\u001b[0m\n",
      "\u001b[0;32m/Users/joshua/anaconda/envs/python3/lib/python3.5/site-packages/sklearn/utils/validation.py\u001b[0m in \u001b[0;36mcheck_X_y\u001b[0;34m(X, y, accept_sparse, dtype, order, copy, force_all_finite, ensure_2d, allow_nd, multi_output, ensure_min_samples, ensure_min_features, y_numeric, warn_on_dtype, estimator)\u001b[0m\n\u001b[1;32m    518\u001b[0m         \u001b[0my\u001b[0m \u001b[0;34m=\u001b[0m \u001b[0my\u001b[0m\u001b[0;34m.\u001b[0m\u001b[0mastype\u001b[0m\u001b[0;34m(\u001b[0m\u001b[0mnp\u001b[0m\u001b[0;34m.\u001b[0m\u001b[0mfloat64\u001b[0m\u001b[0;34m)\u001b[0m\u001b[0;34m\u001b[0m\u001b[0m\n\u001b[1;32m    519\u001b[0m \u001b[0;34m\u001b[0m\u001b[0m\n\u001b[0;32m--> 520\u001b[0;31m     \u001b[0mcheck_consistent_length\u001b[0m\u001b[0;34m(\u001b[0m\u001b[0mX\u001b[0m\u001b[0;34m,\u001b[0m \u001b[0my\u001b[0m\u001b[0;34m)\u001b[0m\u001b[0;34m\u001b[0m\u001b[0m\n\u001b[0m\u001b[1;32m    521\u001b[0m \u001b[0;34m\u001b[0m\u001b[0m\n\u001b[1;32m    522\u001b[0m     \u001b[0;32mreturn\u001b[0m \u001b[0mX\u001b[0m\u001b[0;34m,\u001b[0m \u001b[0my\u001b[0m\u001b[0;34m\u001b[0m\u001b[0m\n",
      "\u001b[0;32m/Users/joshua/anaconda/envs/python3/lib/python3.5/site-packages/sklearn/utils/validation.py\u001b[0m in \u001b[0;36mcheck_consistent_length\u001b[0;34m(*arrays)\u001b[0m\n\u001b[1;32m    174\u001b[0m     \u001b[0;32mif\u001b[0m \u001b[0mlen\u001b[0m\u001b[0;34m(\u001b[0m\u001b[0muniques\u001b[0m\u001b[0;34m)\u001b[0m \u001b[0;34m>\u001b[0m \u001b[0;36m1\u001b[0m\u001b[0;34m:\u001b[0m\u001b[0;34m\u001b[0m\u001b[0m\n\u001b[1;32m    175\u001b[0m         raise ValueError(\"Found arrays with inconsistent numbers of samples: \"\n\u001b[0;32m--> 176\u001b[0;31m                          \"%s\" % str(uniques))\n\u001b[0m\u001b[1;32m    177\u001b[0m \u001b[0;34m\u001b[0m\u001b[0m\n\u001b[1;32m    178\u001b[0m \u001b[0;34m\u001b[0m\u001b[0m\n",
      "\u001b[0;31mValueError\u001b[0m: Found arrays with inconsistent numbers of samples: [  1000 729053]"
     ]
    },
    {
     "data": {
      "image/png": "[encoded data removed]",
      "text/plain": [
       "<matplotlib.figure.Figure at 0x11311bc18>"
      ]
     },
     "metadata": {},
     "output_type": "display_data"
    }
   ],
   "source": [
    "import warnings\n",
    "\n",
    "import matplotlib.pyplot as plt\n",
    "import numpy as np\n",
    "from scipy import linalg\n",
    "\n",
    "from sklearn.linear_model import (RandomizedLasso, lasso_stability_path,\n",
    "                                  LassoLarsCV)\n",
    "from sklearn.feature_selection import f_regression\n",
    "from sklearn.preprocessing import StandardScaler\n",
    "from sklearn.metrics import auc, precision_recall_curve\n",
    "from sklearn.ensemble import ExtraTreesRegressor\n",
    "from sklearn.utils.extmath import pinvh\n",
    "from sklearn.utils import ConvergenceWarning\n",
    "\n",
    "\n",
    "def mutual_incoherence(X_relevant, X_irelevant):\n",
    "    \"\"\"Mutual incoherence, as defined by formula (26a) of [Wainwright2006].\n",
    "    \"\"\"\n",
    "    projector = np.dot(np.dot(X_irelevant.T, X_relevant),\n",
    "                       pinvh(np.dot(X_relevant.T, X_relevant)))\n",
    "    return np.max(np.abs(projector).sum(axis=1))\n",
    "\n",
    "\n",
    "for conditioning in (1, 1e-4):\n",
    "    ###########################################################################\n",
    "    # Simulate regression data with a correlated design\n",
    "    n_features = 20\n",
    "    n_relevant_features = 3\n",
    "    noise_level = .2\n",
    "    coef_min = .2\n",
    "    # The Donoho-Tanner phase transition is around n_samples=25: below we\n",
    "    # will completely fail to recover in the well-conditioned case\n",
    "    n_samples = 1000\n",
    "    block_size = n_relevant_features\n",
    "\n",
    "    rng = np.random.RandomState(42)\n",
    "\n",
    "    # The coefficients of our model\n",
    "    coef = np.zeros(n_features)\n",
    "    coef[:n_relevant_features] = coef_min + rng.rand(n_relevant_features)\n",
    "\n",
    "    # The correlation of our design: variables correlated by blocs of 3\n",
    "    corr = np.zeros((n_features, n_features))\n",
    "    for i in range(0, n_features, block_size):\n",
    "        corr[i:i + block_size, i:i + block_size] = 1 - conditioning\n",
    "    corr.flat[::n_features + 1] = 1\n",
    "    corr = linalg.cholesky(corr)\n",
    "\n",
    "    # Our design\n",
    "    X = X_train[:1000]\n",
    "    X = np.dot(X, corr)\n",
    "    # Keep [Wainwright2006] (26c) constant\n",
    "    X[:n_relevant_features] /= np.abs(\n",
    "        linalg.svdvals(X[:n_relevant_features])).max()\n",
    "    X = StandardScaler().fit_transform(X.copy())\n",
    "\n",
    "    # The output variable\n",
    "    # We scale the added noise as a function of the average correlation\n",
    "    # between the design and the output variable\n",
    "    y[:1000] += noise_level * rng.normal(size=n_samples)\n",
    "    mi = mutual_incoherence(X[:, :n_relevant_features],\n",
    "                            X[:, n_relevant_features:])\n",
    "\n",
    "    ###########################################################################\n",
    "    # Plot stability selection path, using a high eps for early stopping\n",
    "    # of the path, to save computation time\n",
    "    alpha_grid, scores_path = lasso_stability_path(X, y, random_state=42,\n",
    "                                                   eps=0.05)\n",
    "\n",
    "    plt.figure()\n",
    "    # We plot the path as a function of alpha/alpha_max to the power 1/3: the\n",
    "    # power 1/3 scales the path less brutally than the log, and enables to\n",
    "    # see the progression along the path\n",
    "    hg = plt.plot(alpha_grid[1:] ** .333, scores_path[coef != 0].T[1:], 'r')\n",
    "    hb = plt.plot(alpha_grid[1:] ** .333, scores_path[coef == 0].T[1:], 'k')\n",
    "    ymin, ymax = plt.ylim()\n",
    "    plt.xlabel(r'$(\\alpha / \\alpha_{max})^{1/3}$')\n",
    "    plt.ylabel('Stability score: proportion of times selected')\n",
    "    plt.title('Stability Scores Path - Mutual incoherence: %.1f' % mi)\n",
    "    plt.axis('tight')\n",
    "    plt.legend((hg[0], hb[0]), ('relevant features', 'irrelevant features'),\n",
    "               loc='best')\n",
    "\n",
    "    ###########################################################################\n",
    "    # Plot the estimated stability scores for a given alpha\n",
    "\n",
    "    # Use 6-fold cross-validation rather than the default 3-fold: it leads to\n",
    "    # a better choice of alpha:\n",
    "    # Stop the user warnings outputs- they are not necessary for the example\n",
    "    # as it is specifically set up to be challenging.\n",
    "    with warnings.catch_warnings():\n",
    "        warnings.simplefilter('ignore', UserWarning)\n",
    "        warnings.simplefilter('ignore', ConvergenceWarning)\n",
    "        lars_cv = LassoLarsCV(cv=6).fit(X, y)\n",
    "\n",
    "    # Run the RandomizedLasso: we use a paths going down to .1*alpha_max\n",
    "    # to avoid exploring the regime in which very noisy variables enter\n",
    "    # the model\n",
    "    alphas = np.linspace(lars_cv.alphas_[0], .1 * lars_cv.alphas_[0], 6)\n",
    "    clf = RandomizedLasso(alpha=alphas, random_state=42).fit(X, y)\n",
    "    trees = ExtraTreesRegressor(100).fit(X, y)\n",
    "    # Compare with F-score\n",
    "    F, _ = f_regression(X, y)\n",
    "\n",
    "    plt.figure()\n",
    "    for name, score in [('F-test', F),\n",
    "                        ('Stability selection', clf.scores_),\n",
    "                        ('Lasso coefs', np.abs(lars_cv.coef_)),\n",
    "                        ('Trees', trees.feature_importances_),\n",
    "                        ]:\n",
    "        precision, recall, thresholds = precision_recall_curve(coef != 0,\n",
    "                                                               score)\n",
    "        plt.semilogy(np.maximum(score / np.max(score), 1e-4),\n",
    "                     label=\"%s. AUC: %.3f\" % (name, auc(recall, precision)))\n",
    "\n",
    "    plt.plot(np.where(coef != 0)[0], [2e-4] * n_relevant_features, 'mo',\n",
    "             label=\"Ground truth\")\n",
    "    plt.xlabel(\"Features\")\n",
    "    plt.ylabel(\"Score\")\n",
    "    # Plot only the 100 first coefficients\n",
    "    plt.xlim(0, 100)\n",
    "    plt.legend(loc='best')\n",
    "    plt.title('Feature selection scores - Mutual incoherence: %.1f'\n",
    "              % mi)\n",
    "\n",
    "plt.show()"
   ]
  },
  {
   "cell_type": "code",
   "execution_count": 136,
   "metadata": {
    "collapsed": false
   },
   "outputs": [
    {
     "data": {
      "text/plain": [
       "array([[ 0.985,  0.985,  0.985, ...,  0.01 ,  0.005,  0.   ],\n",
       "       [ 0.95 ,  0.95 ,  0.95 , ...,  0.08 ,  0.03 ,  0.   ],\n",
       "       [ 0.37 ,  0.37 ,  0.36 , ...,  0.   ,  0.   ,  0.   ],\n",
       "       ..., \n",
       "       [ 0.51 ,  0.51 ,  0.485, ...,  0.   ,  0.   ,  0.   ],\n",
       "       [ 0.76 ,  0.76 ,  0.75 , ...,  0.02 ,  0.01 ,  0.   ],\n",
       "       [ 0.23 ,  0.23 ,  0.23 , ...,  0.015,  0.   ,  0.   ]])"
      ]
     },
     "execution_count": 136,
     "metadata": {},
     "output_type": "execute_result"
    }
   ],
   "source": [
    "scores_path"
   ]
  },
  {
   "cell_type": "code",
   "execution_count": null,
   "metadata": {
    "collapsed": true
   },
   "outputs": [],
   "source": []
  }
 ],
 "metadata": {
  "kernelspec": {
   "display_name": "Python 3",
   "language": "python",
   "name": "python3"
  },
  "language_info": {
   "codemirror_mode": {
    "name": "ipython",
    "version": 3
   },
   "file_extension": ".py",
   "mimetype": "text/x-python",
   "name": "python",
   "nbconvert_exporter": "python",
   "pygments_lexer": "ipython3",
   "version": "3.5.1"
  }
 },
 "nbformat": 4,
 "nbformat_minor": 0
}
