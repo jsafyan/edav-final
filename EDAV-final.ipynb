{
 "cells": [
  {
   "cell_type": "code",
   "execution_count": 177,
   "metadata": {
    "collapsed": true
   },
   "outputs": [],
   "source": [
    "import pandas as pd\n",
    "import numpy as np\n",
    "import matplotlib\n",
    "import matplotlib.pyplot as plt\n",
    "%matplotlib inline"
   ]
  },
  {
   "cell_type": "code",
   "execution_count": 183,
   "metadata": {
    "collapsed": false
   },
   "outputs": [],
   "source": [
    "plt.style.use(\"ggplot\")"
   ]
  },
  {
   "cell_type": "code",
   "execution_count": 3,
   "metadata": {
    "collapsed": false
   },
   "outputs": [
    {
     "name": "stderr",
     "output_type": "stream",
     "text": [
      "/Users/joshua/anaconda/envs/python3/lib/python3.5/site-packages/IPython/core/interactiveshell.py:2723: DtypeWarning: Columns (8,17,40,47,48) have mixed types. Specify dtype option on import or set low_memory=False.\n",
      "  interactivity=interactivity, compiler=compiler, result=result)\n"
     ]
    }
   ],
   "source": [
    "df = pd.read_csv(\"311-2014-2015.csv\")"
   ]
  },
  {
   "cell_type": "code",
   "execution_count": 7,
   "metadata": {
    "collapsed": false
   },
   "outputs": [],
   "source": [
    "cols = ['Created Date', 'Closed Date', 'Agency', 'Agency Name',\n",
    "       'Complaint Type', 'Descriptor', 'Location Type', 'Incident Zip',\n",
    "       'Status', 'Latitude', 'Longitude']\n",
    "df = df[cols]"
   ]
  },
  {
   "cell_type": "code",
   "execution_count": 36,
   "metadata": {
    "collapsed": false
   },
   "outputs": [],
   "source": [
    "nyc_facilities = pd.read_csv(\"NYCfac.txt\",encoding = 'iso-8859-1')"
   ]
  },
  {
   "cell_type": "code",
   "execution_count": 45,
   "metadata": {
    "collapsed": false
   },
   "outputs": [],
   "source": [
    "factype = pd.read_csv(\"Factype.txt\",encoding = 'iso-8859-1')"
   ]
  },
  {
   "cell_type": "code",
   "execution_count": 53,
   "metadata": {
    "collapsed": false
   },
   "outputs": [
    {
     "data": {
      "text/html": [
       "<div>\n",
       "<table border=\"1\" class=\"dataframe\">\n",
       "  <thead>\n",
       "    <tr style=\"text-align: right;\">\n",
       "      <th></th>\n",
       "      <th>FacType</th>\n",
       "      <th>FT_Decode</th>\n",
       "      <th>FT_Report</th>\n",
       "      <th>FT_Map</th>\n",
       "    </tr>\n",
       "  </thead>\n",
       "  <tbody>\n",
       "    <tr>\n",
       "      <th>107</th>\n",
       "      <td>2101</td>\n",
       "      <td>NYC Fire House</td>\n",
       "      <td>NYC Fire House</td>\n",
       "      <td>NYC Fire House</td>\n",
       "    </tr>\n",
       "  </tbody>\n",
       "</table>\n",
       "</div>"
      ],
      "text/plain": [
       "     FacType       FT_Decode       FT_Report          FT_Map\n",
       "107     2101  NYC Fire House  NYC Fire House  NYC Fire House"
      ]
     },
     "execution_count": 53,
     "metadata": {},
     "output_type": "execute_result"
    }
   ],
   "source": [
    "factype[factype['FT_Map'].str.contains(\"Fire\")]"
   ]
  },
  {
   "cell_type": "code",
   "execution_count": null,
   "metadata": {
    "collapsed": true
   },
   "outputs": [],
   "source": [
    "#Police station = FacType 2001\n",
    "#Fire House = FacType 2101"
   ]
  },
  {
   "cell_type": "code",
   "execution_count": 59,
   "metadata": {
    "collapsed": false
   },
   "outputs": [],
   "source": [
    "pdfd = nyc_facilities[nyc_facilities['FacType'].isin([2001, 2101])]"
   ]
  },
  {
   "cell_type": "code",
   "execution_count": 64,
   "metadata": {
    "collapsed": false
   },
   "outputs": [],
   "source": [
    "pdfd_cols = ['Borough','ZipCode', 'FacType','PolicePrct','XCoord', 'YCoord']\n",
    "pdfd = pdfd[pdfd_cols]"
   ]
  },
  {
   "cell_type": "code",
   "execution_count": 82,
   "metadata": {
    "collapsed": false
   },
   "outputs": [],
   "source": [
    "import pyproj\n",
    "\n",
    "def convert(x, y):\n",
    "    state_plane = pyproj.Proj(init='ESRI:102718', preserve_units=True)\n",
    "    wgs = pyproj.Proj(proj='latlong', datum='WGS84', ellps='WGS84')\n",
    "    lng, lat = pyproj.transform(state_plane, wgs, x, y)\n",
    "    return lat, lng"
   ]
  },
  {
   "cell_type": "code",
   "execution_count": 84,
   "metadata": {
    "collapsed": false
   },
   "outputs": [
    {
     "data": {
      "text/html": [
       "<div>\n",
       "<table border=\"1\" class=\"dataframe\">\n",
       "  <thead>\n",
       "    <tr style=\"text-align: right;\">\n",
       "      <th></th>\n",
       "      <th>Borough</th>\n",
       "      <th>ZipCode</th>\n",
       "      <th>FacType</th>\n",
       "      <th>PolicePrct</th>\n",
       "      <th>XCoord</th>\n",
       "      <th>YCoord</th>\n",
       "    </tr>\n",
       "  </thead>\n",
       "  <tbody>\n",
       "    <tr>\n",
       "      <th>258</th>\n",
       "      <td>BK</td>\n",
       "      <td>11224</td>\n",
       "      <td>2001</td>\n",
       "      <td>60</td>\n",
       "      <td>990869</td>\n",
       "      <td>149279</td>\n",
       "    </tr>\n",
       "    <tr>\n",
       "      <th>259</th>\n",
       "      <td>BK</td>\n",
       "      <td>11223</td>\n",
       "      <td>2001</td>\n",
       "      <td>61</td>\n",
       "      <td>995238</td>\n",
       "      <td>155733</td>\n",
       "    </tr>\n",
       "    <tr>\n",
       "      <th>260</th>\n",
       "      <td>BK</td>\n",
       "      <td>11214</td>\n",
       "      <td>2001</td>\n",
       "      <td>62</td>\n",
       "      <td>983394</td>\n",
       "      <td>158816</td>\n",
       "    </tr>\n",
       "    <tr>\n",
       "      <th>261</th>\n",
       "      <td>BK</td>\n",
       "      <td>11210</td>\n",
       "      <td>2001</td>\n",
       "      <td>63</td>\n",
       "      <td>1000448</td>\n",
       "      <td>168068</td>\n",
       "    </tr>\n",
       "    <tr>\n",
       "      <th>262</th>\n",
       "      <td>BK</td>\n",
       "      <td>11204</td>\n",
       "      <td>2001</td>\n",
       "      <td>66</td>\n",
       "      <td>986633</td>\n",
       "      <td>167258</td>\n",
       "    </tr>\n",
       "  </tbody>\n",
       "</table>\n",
       "</div>"
      ],
      "text/plain": [
       "    Borough  ZipCode  FacType  PolicePrct   XCoord  YCoord\n",
       "258      BK    11224     2001          60   990869  149279\n",
       "259      BK    11223     2001          61   995238  155733\n",
       "260      BK    11214     2001          62   983394  158816\n",
       "261      BK    11210     2001          63  1000448  168068\n",
       "262      BK    11204     2001          66   986633  167258"
      ]
     },
     "execution_count": 84,
     "metadata": {},
     "output_type": "execute_result"
    }
   ],
   "source": [
    "pdfd.head()"
   ]
  },
  {
   "cell_type": "code",
   "execution_count": 105,
   "metadata": {
    "collapsed": true
   },
   "outputs": [],
   "source": [
    "def get_lat(row):\n",
    "    x = row[\"XCoord\"]\n",
    "    y = row[\"YCoord\"]\n",
    "    lat, lon = convert(x, y)\n",
    "    return lat\n",
    "\n",
    "def get_lon(row):\n",
    "    x = row[\"XCoord\"]\n",
    "    y = row[\"YCoord\"]\n",
    "    lat, lon = convert(x, y)\n",
    "    return lon"
   ]
  },
  {
   "cell_type": "code",
   "execution_count": 98,
   "metadata": {
    "collapsed": false
   },
   "outputs": [],
   "source": [
    "pdfd[\"Latitude\"] = pdfd.apply(get_lat, axis=1)\n",
    "pdfd[\"Longitude\"] = pdfd.apply(get_lon, axis=1)"
   ]
  },
  {
   "cell_type": "code",
   "execution_count": 109,
   "metadata": {
    "collapsed": false
   },
   "outputs": [],
   "source": [
    "#Police station = FacType 2001\n",
    "#Fire House = FacType 2101\n",
    "pdfd['Type'] = pdfd['FacType'].apply(lambda x: \"Police\" if x == 2001 else \"Fire\")"
   ]
  },
  {
   "cell_type": "code",
   "execution_count": 112,
   "metadata": {
    "collapsed": false
   },
   "outputs": [
    {
     "data": {
      "text/html": [
       "<div>\n",
       "<table border=\"1\" class=\"dataframe\">\n",
       "  <thead>\n",
       "    <tr style=\"text-align: right;\">\n",
       "      <th></th>\n",
       "      <th>Borough</th>\n",
       "      <th>ZipCode</th>\n",
       "      <th>FacType</th>\n",
       "      <th>PolicePrct</th>\n",
       "      <th>XCoord</th>\n",
       "      <th>YCoord</th>\n",
       "      <th>Latitude</th>\n",
       "      <th>Longitude</th>\n",
       "      <th>Type</th>\n",
       "    </tr>\n",
       "  </thead>\n",
       "  <tbody>\n",
       "    <tr>\n",
       "      <th>258</th>\n",
       "      <td>BK</td>\n",
       "      <td>11224</td>\n",
       "      <td>2001</td>\n",
       "      <td>60</td>\n",
       "      <td>990869</td>\n",
       "      <td>149279</td>\n",
       "      <td>40.576410</td>\n",
       "      <td>-73.976173</td>\n",
       "      <td>Police</td>\n",
       "    </tr>\n",
       "    <tr>\n",
       "      <th>259</th>\n",
       "      <td>BK</td>\n",
       "      <td>11223</td>\n",
       "      <td>2001</td>\n",
       "      <td>61</td>\n",
       "      <td>995238</td>\n",
       "      <td>155733</td>\n",
       "      <td>40.594120</td>\n",
       "      <td>-73.960435</td>\n",
       "      <td>Police</td>\n",
       "    </tr>\n",
       "    <tr>\n",
       "      <th>260</th>\n",
       "      <td>BK</td>\n",
       "      <td>11214</td>\n",
       "      <td>2001</td>\n",
       "      <td>62</td>\n",
       "      <td>983394</td>\n",
       "      <td>158816</td>\n",
       "      <td>40.602589</td>\n",
       "      <td>-74.003083</td>\n",
       "      <td>Police</td>\n",
       "    </tr>\n",
       "    <tr>\n",
       "      <th>261</th>\n",
       "      <td>BK</td>\n",
       "      <td>11210</td>\n",
       "      <td>2001</td>\n",
       "      <td>63</td>\n",
       "      <td>1000448</td>\n",
       "      <td>168068</td>\n",
       "      <td>40.627970</td>\n",
       "      <td>-73.941646</td>\n",
       "      <td>Police</td>\n",
       "    </tr>\n",
       "    <tr>\n",
       "      <th>262</th>\n",
       "      <td>BK</td>\n",
       "      <td>11204</td>\n",
       "      <td>2001</td>\n",
       "      <td>66</td>\n",
       "      <td>986633</td>\n",
       "      <td>167258</td>\n",
       "      <td>40.625761</td>\n",
       "      <td>-73.991415</td>\n",
       "      <td>Police</td>\n",
       "    </tr>\n",
       "  </tbody>\n",
       "</table>\n",
       "</div>"
      ],
      "text/plain": [
       "    Borough  ZipCode  FacType  PolicePrct   XCoord  YCoord   Latitude  \\\n",
       "258      BK    11224     2001          60   990869  149279  40.576410   \n",
       "259      BK    11223     2001          61   995238  155733  40.594120   \n",
       "260      BK    11214     2001          62   983394  158816  40.602589   \n",
       "261      BK    11210     2001          63  1000448  168068  40.627970   \n",
       "262      BK    11204     2001          66   986633  167258  40.625761   \n",
       "\n",
       "     Longitude    Type  \n",
       "258 -73.976173  Police  \n",
       "259 -73.960435  Police  \n",
       "260 -74.003083  Police  \n",
       "261 -73.941646  Police  \n",
       "262 -73.991415  Police  "
      ]
     },
     "execution_count": 112,
     "metadata": {},
     "output_type": "execute_result"
    }
   ],
   "source": [
    "pdfd.head()"
   ]
  },
  {
   "cell_type": "code",
   "execution_count": 113,
   "metadata": {
    "collapsed": false
   },
   "outputs": [],
   "source": [
    "pdfd.to_csv(\"nypd-nyfd-stations.csv\", index=False)"
   ]
  },
  {
   "cell_type": "code",
   "execution_count": 119,
   "metadata": {
    "collapsed": false
   },
   "outputs": [],
   "source": [
    "df = df[df[\"Agency\"] == \"NYPD\"]"
   ]
  },
  {
   "cell_type": "code",
   "execution_count": 121,
   "metadata": {
    "collapsed": false
   },
   "outputs": [
    {
     "data": {
      "text/html": [
       "<div>\n",
       "<table border=\"1\" class=\"dataframe\">\n",
       "  <thead>\n",
       "    <tr style=\"text-align: right;\">\n",
       "      <th></th>\n",
       "      <th>Created Date</th>\n",
       "      <th>Closed Date</th>\n",
       "      <th>Agency</th>\n",
       "      <th>Agency Name</th>\n",
       "      <th>Complaint Type</th>\n",
       "      <th>Descriptor</th>\n",
       "      <th>Location Type</th>\n",
       "      <th>Incident Zip</th>\n",
       "      <th>Status</th>\n",
       "      <th>Latitude</th>\n",
       "      <th>Longitude</th>\n",
       "    </tr>\n",
       "  </thead>\n",
       "  <tbody>\n",
       "    <tr>\n",
       "      <th>0</th>\n",
       "      <td>2016-04-14 02:10:19</td>\n",
       "      <td>NaN</td>\n",
       "      <td>NYPD</td>\n",
       "      <td>New York City Police Department</td>\n",
       "      <td>Noise - Residential</td>\n",
       "      <td>Loud Talking</td>\n",
       "      <td>Residential Building/House</td>\n",
       "      <td>11436</td>\n",
       "      <td>Open</td>\n",
       "      <td>40.684998</td>\n",
       "      <td>-73.795037</td>\n",
       "    </tr>\n",
       "    <tr>\n",
       "      <th>1</th>\n",
       "      <td>2016-04-14 02:10:07</td>\n",
       "      <td>04/14/2016 03:17:04 AM</td>\n",
       "      <td>NYPD</td>\n",
       "      <td>New York City Police Department</td>\n",
       "      <td>Noise - Residential</td>\n",
       "      <td>Banging/Pounding</td>\n",
       "      <td>Residential Building/House</td>\n",
       "      <td>11221</td>\n",
       "      <td>Closed</td>\n",
       "      <td>40.695371</td>\n",
       "      <td>-73.928720</td>\n",
       "    </tr>\n",
       "    <tr>\n",
       "      <th>3</th>\n",
       "      <td>2016-04-14 02:08:10</td>\n",
       "      <td>04/14/2016 03:17:08 AM</td>\n",
       "      <td>NYPD</td>\n",
       "      <td>New York City Police Department</td>\n",
       "      <td>Animal Abuse</td>\n",
       "      <td>Neglected</td>\n",
       "      <td>Residential Building/House</td>\n",
       "      <td>11221</td>\n",
       "      <td>Closed</td>\n",
       "      <td>40.695371</td>\n",
       "      <td>-73.928720</td>\n",
       "    </tr>\n",
       "    <tr>\n",
       "      <th>4</th>\n",
       "      <td>2016-04-14 02:07:42</td>\n",
       "      <td>NaN</td>\n",
       "      <td>NYPD</td>\n",
       "      <td>New York City Police Department</td>\n",
       "      <td>Noise - Street/Sidewalk</td>\n",
       "      <td>Loud Talking</td>\n",
       "      <td>Street/Sidewalk</td>\n",
       "      <td>10003</td>\n",
       "      <td>Open</td>\n",
       "      <td>40.730038</td>\n",
       "      <td>-73.992632</td>\n",
       "    </tr>\n",
       "    <tr>\n",
       "      <th>6</th>\n",
       "      <td>2016-04-14 02:00:05</td>\n",
       "      <td>NaN</td>\n",
       "      <td>NYPD</td>\n",
       "      <td>New York City Police Department</td>\n",
       "      <td>Noise - Residential</td>\n",
       "      <td>Loud Music/Party</td>\n",
       "      <td>Residential Building/House</td>\n",
       "      <td>11223</td>\n",
       "      <td>Assigned</td>\n",
       "      <td>40.601353</td>\n",
       "      <td>-73.981346</td>\n",
       "    </tr>\n",
       "  </tbody>\n",
       "</table>\n",
       "</div>"
      ],
      "text/plain": [
       "         Created Date             Closed Date Agency  \\\n",
       "0 2016-04-14 02:10:19                     NaN   NYPD   \n",
       "1 2016-04-14 02:10:07  04/14/2016 03:17:04 AM   NYPD   \n",
       "3 2016-04-14 02:08:10  04/14/2016 03:17:08 AM   NYPD   \n",
       "4 2016-04-14 02:07:42                     NaN   NYPD   \n",
       "6 2016-04-14 02:00:05                     NaN   NYPD   \n",
       "\n",
       "                       Agency Name           Complaint Type        Descriptor  \\\n",
       "0  New York City Police Department      Noise - Residential      Loud Talking   \n",
       "1  New York City Police Department      Noise - Residential  Banging/Pounding   \n",
       "3  New York City Police Department             Animal Abuse         Neglected   \n",
       "4  New York City Police Department  Noise - Street/Sidewalk      Loud Talking   \n",
       "6  New York City Police Department      Noise - Residential  Loud Music/Party   \n",
       "\n",
       "                Location Type Incident Zip    Status   Latitude  Longitude  \n",
       "0  Residential Building/House        11436      Open  40.684998 -73.795037  \n",
       "1  Residential Building/House        11221    Closed  40.695371 -73.928720  \n",
       "3  Residential Building/House        11221    Closed  40.695371 -73.928720  \n",
       "4             Street/Sidewalk        10003      Open  40.730038 -73.992632  \n",
       "6  Residential Building/House        11223  Assigned  40.601353 -73.981346  "
      ]
     },
     "execution_count": 121,
     "metadata": {},
     "output_type": "execute_result"
    }
   ],
   "source": [
    "df.head()"
   ]
  },
  {
   "cell_type": "code",
   "execution_count": 132,
   "metadata": {
    "collapsed": false
   },
   "outputs": [
    {
     "name": "stderr",
     "output_type": "stream",
     "text": [
      "/Users/joshua/anaconda/envs/python3/lib/python3.5/site-packages/ipykernel/__main__.py:1: SettingWithCopyWarning: \n",
      "A value is trying to be set on a copy of a slice from a DataFrame.\n",
      "Try using .loc[row_indexer,col_indexer] = value instead\n",
      "\n",
      "See the caveats in the documentation: http://pandas.pydata.org/pandas-docs/stable/indexing.html#indexing-view-versus-copy\n",
      "  if __name__ == '__main__':\n"
     ]
    }
   ],
   "source": [
    "df[\"Closed Date\"] = pd.to_datetime(df[\"Closed Date\"], infer_datetime_format=True)"
   ]
  },
  {
   "cell_type": "code",
   "execution_count": 163,
   "metadata": {
    "collapsed": false
   },
   "outputs": [
    {
     "name": "stderr",
     "output_type": "stream",
     "text": [
      "/Users/joshua/anaconda/envs/python3/lib/python3.5/site-packages/ipykernel/__main__.py:1: SettingWithCopyWarning: \n",
      "A value is trying to be set on a copy of a slice from a DataFrame.\n",
      "Try using .loc[row_indexer,col_indexer] = value instead\n",
      "\n",
      "See the caveats in the documentation: http://pandas.pydata.org/pandas-docs/stable/indexing.html#indexing-view-versus-copy\n",
      "  if __name__ == '__main__':\n"
     ]
    }
   ],
   "source": [
    "df[\"Response Time Minutes\"] = (df[\"Closed Date\"] - df[\"Created Date\"]) / np.timedelta64(1, 'm')"
   ]
  },
  {
   "cell_type": "code",
   "execution_count": 322,
   "metadata": {
    "collapsed": true
   },
   "outputs": [],
   "source": [
    "df2 = df[df['Response Time Minutes'] > 0]"
   ]
  },
  {
   "cell_type": "code",
   "execution_count": 323,
   "metadata": {
    "collapsed": false
   },
   "outputs": [
    {
     "data": {
      "text/plain": [
       "<matplotlib.axes._subplots.AxesSubplot at 0x136931ef0>"
      ]
     },
     "execution_count": 323,
     "metadata": {},
     "output_type": "execute_result"
    },
    {
     "data": {
      "image/png": "[encoded data removed]",
      "text/plain": [
       "<matplotlib.figure.Figure at 0x13622b0f0>"
      ]
     },
     "metadata": {},
     "output_type": "display_data"
    }
   ],
   "source": [
    "df2['Response Time Minutes'].hist(range=(0, 350), bins=100, figsize=(14, 7))"
   ]
  },
  {
   "cell_type": "code",
   "execution_count": 324,
   "metadata": {
    "collapsed": false
   },
   "outputs": [
    {
     "data": {
      "text/plain": [
       "149.15833333333333"
      ]
     },
     "execution_count": 324,
     "metadata": {},
     "output_type": "execute_result"
    }
   ],
   "source": [
    "df2['Response Time Minutes'].median()"
   ]
  },
  {
   "cell_type": "code",
   "execution_count": 200,
   "metadata": {
    "collapsed": false
   },
   "outputs": [],
   "source": [
    "nypd = pdfd[pdfd[\"Type\"] == \"Police\"]"
   ]
  },
  {
   "cell_type": "code",
   "execution_count": 201,
   "metadata": {
    "collapsed": true
   },
   "outputs": [],
   "source": [
    "from geopy.distance import vincenty"
   ]
  },
  {
   "cell_type": "code",
   "execution_count": 210,
   "metadata": {
    "collapsed": false
   },
   "outputs": [
    {
     "data": {
      "text/html": [
       "<div>\n",
       "<table border=\"1\" class=\"dataframe\">\n",
       "  <thead>\n",
       "    <tr style=\"text-align: right;\">\n",
       "      <th></th>\n",
       "      <th>Borough</th>\n",
       "      <th>ZipCode</th>\n",
       "      <th>FacType</th>\n",
       "      <th>PolicePrct</th>\n",
       "      <th>XCoord</th>\n",
       "      <th>YCoord</th>\n",
       "      <th>Latitude</th>\n",
       "      <th>Longitude</th>\n",
       "      <th>Type</th>\n",
       "    </tr>\n",
       "  </thead>\n",
       "  <tbody>\n",
       "    <tr>\n",
       "      <th>0</th>\n",
       "      <td>BK</td>\n",
       "      <td>11224</td>\n",
       "      <td>2001</td>\n",
       "      <td>60</td>\n",
       "      <td>990869</td>\n",
       "      <td>149279</td>\n",
       "      <td>40.576410</td>\n",
       "      <td>-73.976173</td>\n",
       "      <td>Police</td>\n",
       "    </tr>\n",
       "    <tr>\n",
       "      <th>1</th>\n",
       "      <td>BK</td>\n",
       "      <td>11223</td>\n",
       "      <td>2001</td>\n",
       "      <td>61</td>\n",
       "      <td>995238</td>\n",
       "      <td>155733</td>\n",
       "      <td>40.594120</td>\n",
       "      <td>-73.960435</td>\n",
       "      <td>Police</td>\n",
       "    </tr>\n",
       "    <tr>\n",
       "      <th>2</th>\n",
       "      <td>BK</td>\n",
       "      <td>11214</td>\n",
       "      <td>2001</td>\n",
       "      <td>62</td>\n",
       "      <td>983394</td>\n",
       "      <td>158816</td>\n",
       "      <td>40.602589</td>\n",
       "      <td>-74.003083</td>\n",
       "      <td>Police</td>\n",
       "    </tr>\n",
       "    <tr>\n",
       "      <th>3</th>\n",
       "      <td>BK</td>\n",
       "      <td>11210</td>\n",
       "      <td>2001</td>\n",
       "      <td>63</td>\n",
       "      <td>1000448</td>\n",
       "      <td>168068</td>\n",
       "      <td>40.627970</td>\n",
       "      <td>-73.941646</td>\n",
       "      <td>Police</td>\n",
       "    </tr>\n",
       "    <tr>\n",
       "      <th>4</th>\n",
       "      <td>BK</td>\n",
       "      <td>11204</td>\n",
       "      <td>2001</td>\n",
       "      <td>66</td>\n",
       "      <td>986633</td>\n",
       "      <td>167258</td>\n",
       "      <td>40.625761</td>\n",
       "      <td>-73.991415</td>\n",
       "      <td>Police</td>\n",
       "    </tr>\n",
       "  </tbody>\n",
       "</table>\n",
       "</div>"
      ],
      "text/plain": [
       "  Borough  ZipCode  FacType  PolicePrct   XCoord  YCoord   Latitude  \\\n",
       "0      BK    11224     2001          60   990869  149279  40.576410   \n",
       "1      BK    11223     2001          61   995238  155733  40.594120   \n",
       "2      BK    11214     2001          62   983394  158816  40.602589   \n",
       "3      BK    11210     2001          63  1000448  168068  40.627970   \n",
       "4      BK    11204     2001          66   986633  167258  40.625761   \n",
       "\n",
       "   Longitude    Type  \n",
       "0 -73.976173  Police  \n",
       "1 -73.960435  Police  \n",
       "2 -74.003083  Police  \n",
       "3 -73.941646  Police  \n",
       "4 -73.991415  Police  "
      ]
     },
     "execution_count": 210,
     "metadata": {},
     "output_type": "execute_result"
    }
   ],
   "source": [
    "nypd.head()"
   ]
  },
  {
   "cell_type": "code",
   "execution_count": 302,
   "metadata": {
    "collapsed": false
   },
   "outputs": [
    {
     "data": {
      "text/plain": [
       "array([[ 40.57640987, -73.97617306],\n",
       "       [ 40.59412047, -73.96043514],\n",
       "       [ 40.60258945, -74.00308262],\n",
       "       [ 40.62796951, -73.94164573],\n",
       "       [ 40.62576072, -73.99141538],\n",
       "       [ 40.64864184, -73.95033414],\n",
       "       [ 40.63899422, -74.02246207],\n",
       "       [ 40.64838546, -73.90494258],\n",
       "       [ 40.6303583 , -73.97371118],\n",
       "       [ 40.66451651, -73.94774507],\n",
       "       [ 40.65818519, -74.0010308 ],\n",
       "       [ 40.68387081, -74.0003245 ],\n",
       "       [ 40.68057147, -73.97431512],\n",
       "       [ 40.67063309, -73.91338592],\n",
       "       [ 40.67109042, -73.88142796],\n",
       "       [ 40.67457506, -73.93022012],\n",
       "       [ 40.6888639 , -73.9445276 ],\n",
       "       [ 40.68960176, -73.92439891],\n",
       "       [ 40.6978921 , -73.91803514],\n",
       "       [ 40.69546069, -73.98282364],\n",
       "       [ 40.69007272, -73.9605585 ],\n",
       "       [ 40.7062192 , -73.95086832],\n",
       "       [ 40.72687436, -73.95286992],\n",
       "       [ 40.81038774, -73.92530932],\n",
       "       [ 40.81638357, -73.895295  ],\n",
       "       [ 40.82254788, -73.91126963],\n",
       "       [ 40.8231507 , -73.86972868],\n",
       "       [ 40.83731517, -73.91974982],\n",
       "       [ 40.83088171, -73.82728322],\n",
       "       [ 40.85394649, -73.90011585],\n",
       "       [ 40.88744302, -73.84760638],\n",
       "       [ 40.84389569, -73.90047791],\n",
       "       [ 40.85607505, -73.84437783],\n",
       "       [ 40.88336877, -73.90230658],\n",
       "       [ 40.86906672, -73.87964316],\n",
       "       [ 40.72024697, -74.00708883],\n",
       "       [ 40.71618766, -73.9974893 ],\n",
       "       [ 40.73422061, -74.00540524],\n",
       "       [ 40.71652142, -73.98391484],\n",
       "       [ 40.72654576, -73.98782698],\n",
       "       [ 40.74269104, -73.99865393],\n",
       "       [ 40.73668981, -73.98331458],\n",
       "       [ 40.75393067, -73.99484221],\n",
       "       [ 40.76481549, -73.98518833],\n",
       "       [ 40.75686664, -73.97054262],\n",
       "       [ 40.76716849, -73.96380524],\n",
       "       [ 40.7840516 , -73.97501907],\n",
       "       [ 40.78925195, -73.94770857],\n",
       "       [ 40.79656287, -73.96718424],\n",
       "       [ 40.80068606, -73.94110785],\n",
       "       [ 40.81484201, -73.95668041],\n",
       "       [ 40.8087444 , -73.95264216],\n",
       "       [ 40.82884276, -73.94383276],\n",
       "       [ 40.81572377, -73.94541898],\n",
       "       [ 40.84063806, -73.93575256],\n",
       "       [ 40.85151518, -73.93547096],\n",
       "       [ 40.78521414, -73.96989092],\n",
       "       [ 40.58646828, -73.81652391],\n",
       "       [ 40.60294335, -73.7499749 ],\n",
       "       [ 40.69872851, -73.83156737],\n",
       "       [ 40.70704195, -73.79260691],\n",
       "       [ 40.72617613, -73.73523616],\n",
       "       [ 40.68217814, -73.83968909],\n",
       "       [ 40.72993109, -73.81042815],\n",
       "       [ 40.6796535 , -73.77593075],\n",
       "       [ 40.70425913, -73.89355235],\n",
       "       [ 40.7430719 , -73.95473503],\n",
       "       [ 40.76232594, -73.8269123 ],\n",
       "       [ 40.74523626, -73.87007592],\n",
       "       [ 40.76017447, -73.76784844],\n",
       "       [ 40.72232237, -73.85137877],\n",
       "       [ 40.76931703, -73.91551034],\n",
       "       [ 40.75685271, -73.87565525],\n",
       "       [ 40.64471789, -74.07748169],\n",
       "       [ 40.57380303, -74.10545503],\n",
       "       [ 40.51179613, -74.25003308],\n",
       "       [ 40.62358635, -74.15135168]])"
      ]
     },
     "execution_count": 302,
     "metadata": {},
     "output_type": "execute_result"
    }
   ],
   "source": [
    "from scipy import spatial\n",
    "x, y = nypd.Latitude.values, nypd.Longitude.values\n",
    "tree = spatial.KDTree(list(zip(x.ravel(), y.ravel())))\n",
    "tree.data"
   ]
  },
  {
   "cell_type": "code",
   "execution_count": 295,
   "metadata": {
    "collapsed": false
   },
   "outputs": [],
   "source": [
    "def closest_station(row):\n",
    "    lat = row[\"Latitude\"]\n",
    "    lon = row[\"Longitude\"]\n",
    "    incident = (lat, lon)\n",
    "    distances = []\n",
    "    for i in range(len(nypd)):\n",
    "        station = (nypd.ix[i].Latitude, nypd.ix[i].Longitude)\n",
    "        distances.append(vincenty(incident, station).kilometers)\n",
    "    #frame = nypd.ix[np.argmin(distances)][[\"Borough\", \"ZipCode\", \"PolicePrct\"]]\n",
    "    #frame[\"Distance Km\"] = min(distances)\n",
    "    #return frame\n",
    "    return np.argmin(distances)"
   ]
  },
  {
   "cell_type": "code",
   "execution_count": 315,
   "metadata": {
    "collapsed": true
   },
   "outputs": [],
   "source": [
    "def closest_tree_station(row):\n",
    "    lat = row[\"Latitude\"]\n",
    "    lon = row[\"Longitude\"]\n",
    "    incident = (lat, lon)\n",
    "    index = tree.query(incident)[1]\n",
    "    station = (nypd.ix[index].Latitude, nypd.ix[index].Longitude)\n",
    "    frame = nypd.ix[index][[\"Borough\", \"ZipCode\", \"PolicePrct\"]]\n",
    "    frame[\"Distance Km\"] = vincenty(incident, station).kilometers\n",
    "    return frame"
   ]
  },
  {
   "cell_type": "code",
   "execution_count": 325,
   "metadata": {
    "collapsed": true
   },
   "outputs": [],
   "source": [
    "df2 = df2.dropna()"
   ]
  },
  {
   "cell_type": "code",
   "execution_count": 273,
   "metadata": {
    "collapsed": false
   },
   "outputs": [],
   "source": [
    "import pygeohash as pgh"
   ]
  },
  {
   "cell_type": "code",
   "execution_count": 277,
   "metadata": {
    "collapsed": true
   },
   "outputs": [],
   "source": [
    "def geohash(row):\n",
    "    lat = row['Latitude']\n",
    "    lon = row['Longitude']\n",
    "    ghash = pgh.encode(lat, lon, precision=7)\n",
    "    return ghash"
   ]
  },
  {
   "cell_type": "code",
   "execution_count": 281,
   "metadata": {
    "collapsed": false
   },
   "outputs": [
    {
     "name": "stderr",
     "output_type": "stream",
     "text": [
      "/Users/joshua/anaconda/envs/python3/lib/python3.5/site-packages/ipykernel/__main__.py:1: SettingWithCopyWarning: \n",
      "A value is trying to be set on a copy of a slice from a DataFrame.\n",
      "Try using .loc[row_indexer,col_indexer] = value instead\n",
      "\n",
      "See the caveats in the documentation: http://pandas.pydata.org/pandas-docs/stable/indexing.html#indexing-view-versus-copy\n",
      "  if __name__ == '__main__':\n"
     ]
    }
   ],
   "source": [
    "df2['geohash'] = df2.apply(geohash, axis=1)"
   ]
  },
  {
   "cell_type": "code",
   "execution_count": 283,
   "metadata": {
    "collapsed": false
   },
   "outputs": [],
   "source": [
    "nypd['geohash'] = nypd.apply(geohash, axis=1)"
   ]
  },
  {
   "cell_type": "code",
   "execution_count": 285,
   "metadata": {
    "collapsed": false
   },
   "outputs": [],
   "source": [
    "def approximate_closest(row):\n",
    "    ghash = row[\"geohash\"]\n",
    "    incident = (lat, lon)\n",
    "    distances = []\n",
    "    for i in range(len(nypd)):\n",
    "        station = nypd.ix[i].geohash\n",
    "        distances.append(pgh.geohash_approximate_distance(ghash, station))\n",
    "    frame = nypd.ix[np.argmin(distances)][[\"Borough\", \"ZipCode\", \"PolicePrct\"]]\n",
    "    frame[\"Distance Km\"] = min(distances)\n",
    "    return frame"
   ]
  },
  {
   "cell_type": "code",
   "execution_count": 320,
   "metadata": {
    "collapsed": false
   },
   "outputs": [
    {
     "data": {
      "text/html": [
       "<div>\n",
       "<table border=\"1\" class=\"dataframe\">\n",
       "  <thead>\n",
       "    <tr style=\"text-align: right;\">\n",
       "      <th></th>\n",
       "      <th>Borough</th>\n",
       "      <th>ZipCode</th>\n",
       "      <th>PolicePrct</th>\n",
       "      <th>Distance Km</th>\n",
       "    </tr>\n",
       "  </thead>\n",
       "  <tbody>\n",
       "    <tr>\n",
       "      <th>1</th>\n",
       "      <td>BK</td>\n",
       "      <td>11221</td>\n",
       "      <td>81</td>\n",
       "      <td>0.737484</td>\n",
       "    </tr>\n",
       "    <tr>\n",
       "      <th>3</th>\n",
       "      <td>BK</td>\n",
       "      <td>11221</td>\n",
       "      <td>81</td>\n",
       "      <td>0.737484</td>\n",
       "    </tr>\n",
       "    <tr>\n",
       "      <th>15</th>\n",
       "      <td>BK</td>\n",
       "      <td>11237</td>\n",
       "      <td>83</td>\n",
       "      <td>1.090962</td>\n",
       "    </tr>\n",
       "    <tr>\n",
       "      <th>16</th>\n",
       "      <td>MN</td>\n",
       "      <td>10013</td>\n",
       "      <td>1</td>\n",
       "      <td>0.479000</td>\n",
       "    </tr>\n",
       "    <tr>\n",
       "      <th>19</th>\n",
       "      <td>MN</td>\n",
       "      <td>10003</td>\n",
       "      <td>9</td>\n",
       "      <td>0.342959</td>\n",
       "    </tr>\n",
       "    <tr>\n",
       "      <th>20</th>\n",
       "      <td>QN</td>\n",
       "      <td>11365</td>\n",
       "      <td>107</td>\n",
       "      <td>1.912257</td>\n",
       "    </tr>\n",
       "    <tr>\n",
       "      <th>21</th>\n",
       "      <td>MN</td>\n",
       "      <td>10002</td>\n",
       "      <td>7</td>\n",
       "      <td>0.407213</td>\n",
       "    </tr>\n",
       "    <tr>\n",
       "      <th>22</th>\n",
       "      <td>MN</td>\n",
       "      <td>10001</td>\n",
       "      <td>14</td>\n",
       "      <td>0.430607</td>\n",
       "    </tr>\n",
       "    <tr>\n",
       "      <th>23</th>\n",
       "      <td>QN</td>\n",
       "      <td>11385</td>\n",
       "      <td>104</td>\n",
       "      <td>1.297239</td>\n",
       "    </tr>\n",
       "    <tr>\n",
       "      <th>24</th>\n",
       "      <td>MN</td>\n",
       "      <td>10025</td>\n",
       "      <td>24</td>\n",
       "      <td>0.687576</td>\n",
       "    </tr>\n",
       "  </tbody>\n",
       "</table>\n",
       "</div>"
      ],
      "text/plain": [
       "   Borough  ZipCode  PolicePrct  Distance Km\n",
       "1       BK    11221          81     0.737484\n",
       "3       BK    11221          81     0.737484\n",
       "15      BK    11237          83     1.090962\n",
       "16      MN    10013           1     0.479000\n",
       "19      MN    10003           9     0.342959\n",
       "20      QN    11365         107     1.912257\n",
       "21      MN    10002           7     0.407213\n",
       "22      MN    10001          14     0.430607\n",
       "23      QN    11385         104     1.297239\n",
       "24      MN    10025          24     0.687576"
      ]
     },
     "execution_count": 320,
     "metadata": {},
     "output_type": "execute_result"
    }
   ],
   "source": [
    "df2.head(10).apply(closest_tree_station, axis=1)"
   ]
  },
  {
   "cell_type": "code",
   "execution_count": 326,
   "metadata": {
    "collapsed": false
   },
   "outputs": [],
   "source": [
    "df2 = pd.concat([df2, df2.apply(closest_tree_station, axis=1)], axis=1)"
   ]
  },
  {
   "cell_type": "code",
   "execution_count": 328,
   "metadata": {
    "collapsed": false
   },
   "outputs": [],
   "source": [
    "df2.to_csv(\"df.csv\", index=False)"
   ]
  },
  {
   "cell_type": "code",
   "execution_count": null,
   "metadata": {
    "collapsed": true
   },
   "outputs": [],
   "source": []
  }
 ],
 "metadata": {
  "kernelspec": {
   "display_name": "Python 3",
   "language": "python",
   "name": "python3"
  },
  "language_info": {
   "codemirror_mode": {
    "name": "ipython",
    "version": 3
   },
   "file_extension": ".py",
   "mimetype": "text/x-python",
   "name": "python",
   "nbconvert_exporter": "python",
   "pygments_lexer": "ipython3",
   "version": "3.5.1"
  }
 },
 "nbformat": 4,
 "nbformat_minor": 0
}
